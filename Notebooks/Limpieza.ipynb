{
 "cells": [
  {
   "cell_type": "markdown",
   "id": "fe491ff6",
   "metadata": {},
   "source": [
    "# Comentarios"
   ]
  },
  {
   "cell_type": "markdown",
   "id": "56e71a90",
   "metadata": {},
   "source": [
    "1. Se obtienen los rooms nulos o iguales a cero en primera instancia con expresiones regulares. No se obtienen primero con una media condicionada de la superficie cubierta y el lugar ya que es mas preciso obtenerlos con un dato directo del dataset"
   ]
  },
  {
   "cell_type": "markdown",
   "id": "0f6c39f2",
   "metadata": {},
   "source": [
    " **Pasos a seguir:**\n",
    "1. Extraer precios y superficie con regex (terminado: refinar los patrones de busqueda para obtener mas datos)\n",
    "2. Obtener el precio a partir del precio cuadrado y la superficie (terminado : no matcheo nada con las condiciones... falta poner igualmente la imputacion)\n",
    "3. Obtener el precio de metro cuadrado (dolares y currency) mediante la otra variable y una conversion de moneda\n",
    "4. Imputar las superficies por medio del precio y el precio por metro cuadrado (terminado: no matcheo nada con las condiciones...falta poner igualmente la imputacion)\n",
    "5. Tomar placename+state name +cantidad de rooms sacar media condicionada para poner en surface\n",
    "6. Imputar los rooms de los que pudimos extraer con regex\n",
    "7. Una vez que imputamos la superficie y el precio, buscar el precio por m2"
   ]
  },
  {
   "cell_type": "code",
   "execution_count": 56,
   "id": "c5d3bc8f",
   "metadata": {},
   "outputs": [],
   "source": [
    "# Tratar de inputar los precios que faltan por expresiones regulares con la columna description y title\n",
    "# Eliminar todas filas que todo es nulo (check)\n",
    "# Checar el tema de las superficies\n",
    "# Precios: unificar todos los precios a dolares\n",
    "# Hacer la multiplicacion de price por la superficie\n",
    "# Imputar superficies nulas por medias condicionadas por barrio o cantidad de rooms"
   ]
  },
  {
   "cell_type": "markdown",
   "id": "460c1464",
   "metadata": {},
   "source": [
    "# **Estandarizacion de nombres de mascaras, dataset y demas:**\n",
    "- Al aplicarle una mascara a un dataset seria conveniente primero definir la mascara y en otra linea de codigo aplicarsela al dataset. Esto para que podamos ver bien que le estamos aplicando y que condiciones tiene esa mascara.\n",
    "- Ojo con utilizar mascaras o alguna otra variable, dataframe y demas, definida mucho mas arriba. No vaya a ser que le cambiemos el nombre por x motivo y nos ollvidamos que mas abajo la usamos para otra cosa y se rompa todo\n",
    "- Los nombres para las cosas que sean en ingles, separando las palabras con \" _ \" y en lo posible que se pueda intuir mediante el nombre a que se refiere\n",
    "- Como practica totalmente arbitraria intentar que los nombres no tengan mas de 5 palabras. ej: \" mask_rooms_zeros \" , \" mask_rooms_surf_zeros \" y asi\n",
    "- Si le llamamos \" mask \" a algo, que realmente lo sea. No que sea ya una mascara aplicada a un dataset. Eso es el dataset data filtrado por la mascara\n",
    "- A estos nuevos dataset llamemosle igual que la mascara que le aplicamos solo que reemplazamos el nombre mask por data. ej:  \" mask_rooms_zeros \"=  \" data_rooms_zeros \";                   \" data_rooms_surf_zeros \" = \" data_rooms_surf_zeros \"\n",
    "- Cuando creemos un nuevo dataset, un array, una lista, una serie, mascara o lo que sea poner primero el nombre del tipo de objeto y despues lo que hace, para saber lo que es eso\n",
    "- Cuando hacemos una mascara para ver si algo es nulo o cero ponemos solo \" null \". Es para no alargar los nombres\n",
    "\n"
   ]
  },
  {
   "cell_type": "markdown",
   "id": "2504f700",
   "metadata": {},
   "source": [
    "### Criterios de analisis"
   ]
  },
  {
   "cell_type": "markdown",
   "id": "0170a12c",
   "metadata": {},
   "source": [
    "- Primero decidimos con que instancias del DataSet vamos a realizar el modelo. En una primera instancia esta decision va a estar basada unicamente en el porcentaje de instancias que representa cada state_name."
   ]
  },
  {
   "cell_type": "markdown",
   "id": "6babb888",
   "metadata": {},
   "source": [
    "# Importacion de librerias utilizadas"
   ]
  },
  {
   "cell_type": "code",
   "execution_count": 89,
   "id": "4fdf1514",
   "metadata": {},
   "outputs": [],
   "source": [
    "import pandas as pd\n",
    "import numpy as np\n",
    "import re"
   ]
  },
  {
   "cell_type": "markdown",
   "id": "5e568cc1",
   "metadata": {},
   "source": [
    "# Carga de la data de Properatti como un DataFrame de Pandas"
   ]
  },
  {
   "cell_type": "code",
   "execution_count": 90,
   "id": "fc0c8138",
   "metadata": {},
   "outputs": [
    {
     "data": {
      "text/html": [
       "<div>\n",
       "<style scoped>\n",
       "    .dataframe tbody tr th:only-of-type {\n",
       "        vertical-align: middle;\n",
       "    }\n",
       "\n",
       "    .dataframe tbody tr th {\n",
       "        vertical-align: top;\n",
       "    }\n",
       "\n",
       "    .dataframe thead th {\n",
       "        text-align: right;\n",
       "    }\n",
       "</style>\n",
       "<table border=\"1\" class=\"dataframe\">\n",
       "  <thead>\n",
       "    <tr style=\"text-align: right;\">\n",
       "      <th></th>\n",
       "      <th>operation</th>\n",
       "      <th>property_type</th>\n",
       "      <th>place_name</th>\n",
       "      <th>place_with_parent_names</th>\n",
       "      <th>country_name</th>\n",
       "      <th>state_name</th>\n",
       "      <th>geonames_id</th>\n",
       "      <th>lat-lon</th>\n",
       "      <th>lat</th>\n",
       "      <th>lon</th>\n",
       "      <th>...</th>\n",
       "      <th>surface_covered_in_m2</th>\n",
       "      <th>price_usd_per_m2</th>\n",
       "      <th>price_per_m2</th>\n",
       "      <th>floor</th>\n",
       "      <th>rooms</th>\n",
       "      <th>expenses</th>\n",
       "      <th>properati_url</th>\n",
       "      <th>description</th>\n",
       "      <th>title</th>\n",
       "      <th>image_thumbnail</th>\n",
       "    </tr>\n",
       "  </thead>\n",
       "  <tbody>\n",
       "    <tr>\n",
       "      <th>0</th>\n",
       "      <td>sell</td>\n",
       "      <td>PH</td>\n",
       "      <td>Mataderos</td>\n",
       "      <td>|Argentina|Capital Federal|Mataderos|</td>\n",
       "      <td>Argentina</td>\n",
       "      <td>Capital Federal</td>\n",
       "      <td>3430787.0</td>\n",
       "      <td>-34.6618237,-58.5088387</td>\n",
       "      <td>-34.661824</td>\n",
       "      <td>-58.508839</td>\n",
       "      <td>...</td>\n",
       "      <td>40.0</td>\n",
       "      <td>1127.272727</td>\n",
       "      <td>1550.000000</td>\n",
       "      <td>NaN</td>\n",
       "      <td>NaN</td>\n",
       "      <td>NaN</td>\n",
       "      <td>http://www.properati.com.ar/15bo8_venta_ph_mat...</td>\n",
       "      <td>2 AMBIENTES TIPO CASA PLANTA BAJA POR PASILLO,...</td>\n",
       "      <td>2 AMB TIPO CASA SIN EXPENSAS EN PB</td>\n",
       "      <td>https://thumbs4.properati.com/8/BluUYiHJLhgIIK...</td>\n",
       "    </tr>\n",
       "    <tr>\n",
       "      <th>1</th>\n",
       "      <td>sell</td>\n",
       "      <td>apartment</td>\n",
       "      <td>La Plata</td>\n",
       "      <td>|Argentina|Bs.As. G.B.A. Zona Sur|La Plata|</td>\n",
       "      <td>Argentina</td>\n",
       "      <td>Bs.As. G.B.A. Zona Sur</td>\n",
       "      <td>3432039.0</td>\n",
       "      <td>-34.9038831,-57.9643295</td>\n",
       "      <td>-34.903883</td>\n",
       "      <td>-57.964330</td>\n",
       "      <td>...</td>\n",
       "      <td>NaN</td>\n",
       "      <td>NaN</td>\n",
       "      <td>NaN</td>\n",
       "      <td>NaN</td>\n",
       "      <td>NaN</td>\n",
       "      <td>NaN</td>\n",
       "      <td>http://www.properati.com.ar/15bob_venta_depart...</td>\n",
       "      <td>Venta de departamento en décimo piso al frente...</td>\n",
       "      <td>VENTA Depto 2 dorm. a estrenar 7 e/ 36 y 37   ...</td>\n",
       "      <td>https://thumbs4.properati.com/7/ikpVBu2ztHA7jv...</td>\n",
       "    </tr>\n",
       "    <tr>\n",
       "      <th>2</th>\n",
       "      <td>sell</td>\n",
       "      <td>apartment</td>\n",
       "      <td>Mataderos</td>\n",
       "      <td>|Argentina|Capital Federal|Mataderos|</td>\n",
       "      <td>Argentina</td>\n",
       "      <td>Capital Federal</td>\n",
       "      <td>3430787.0</td>\n",
       "      <td>-34.6522615,-58.5229825</td>\n",
       "      <td>-34.652262</td>\n",
       "      <td>-58.522982</td>\n",
       "      <td>...</td>\n",
       "      <td>55.0</td>\n",
       "      <td>1309.090909</td>\n",
       "      <td>1309.090909</td>\n",
       "      <td>NaN</td>\n",
       "      <td>NaN</td>\n",
       "      <td>NaN</td>\n",
       "      <td>http://www.properati.com.ar/15bod_venta_depart...</td>\n",
       "      <td>2 AMBIENTES 3ER PISO LATERAL LIVING COMEDOR AM...</td>\n",
       "      <td>2 AMB 3ER PISO CON ASCENSOR APTO CREDITO</td>\n",
       "      <td>https://thumbs4.properati.com/5/SXKr34F_IwG3W_...</td>\n",
       "    </tr>\n",
       "  </tbody>\n",
       "</table>\n",
       "<p>3 rows × 25 columns</p>\n",
       "</div>"
      ],
      "text/plain": [
       "  operation property_type place_name  \\\n",
       "0      sell            PH  Mataderos   \n",
       "1      sell     apartment   La Plata   \n",
       "2      sell     apartment  Mataderos   \n",
       "\n",
       "                       place_with_parent_names country_name  \\\n",
       "0        |Argentina|Capital Federal|Mataderos|    Argentina   \n",
       "1  |Argentina|Bs.As. G.B.A. Zona Sur|La Plata|    Argentina   \n",
       "2        |Argentina|Capital Federal|Mataderos|    Argentina   \n",
       "\n",
       "               state_name  geonames_id                  lat-lon        lat  \\\n",
       "0         Capital Federal    3430787.0  -34.6618237,-58.5088387 -34.661824   \n",
       "1  Bs.As. G.B.A. Zona Sur    3432039.0  -34.9038831,-57.9643295 -34.903883   \n",
       "2         Capital Federal    3430787.0  -34.6522615,-58.5229825 -34.652262   \n",
       "\n",
       "         lon  ...  surface_covered_in_m2 price_usd_per_m2  price_per_m2  \\\n",
       "0 -58.508839  ...                   40.0      1127.272727   1550.000000   \n",
       "1 -57.964330  ...                    NaN              NaN           NaN   \n",
       "2 -58.522982  ...                   55.0      1309.090909   1309.090909   \n",
       "\n",
       "   floor  rooms  expenses                                      properati_url  \\\n",
       "0    NaN    NaN       NaN  http://www.properati.com.ar/15bo8_venta_ph_mat...   \n",
       "1    NaN    NaN       NaN  http://www.properati.com.ar/15bob_venta_depart...   \n",
       "2    NaN    NaN       NaN  http://www.properati.com.ar/15bod_venta_depart...   \n",
       "\n",
       "                                         description  \\\n",
       "0  2 AMBIENTES TIPO CASA PLANTA BAJA POR PASILLO,...   \n",
       "1  Venta de departamento en décimo piso al frente...   \n",
       "2  2 AMBIENTES 3ER PISO LATERAL LIVING COMEDOR AM...   \n",
       "\n",
       "                                               title  \\\n",
       "0                 2 AMB TIPO CASA SIN EXPENSAS EN PB   \n",
       "1  VENTA Depto 2 dorm. a estrenar 7 e/ 36 y 37   ...   \n",
       "2           2 AMB 3ER PISO CON ASCENSOR APTO CREDITO   \n",
       "\n",
       "                                     image_thumbnail  \n",
       "0  https://thumbs4.properati.com/8/BluUYiHJLhgIIK...  \n",
       "1  https://thumbs4.properati.com/7/ikpVBu2ztHA7jv...  \n",
       "2  https://thumbs4.properati.com/5/SXKr34F_IwG3W_...  \n",
       "\n",
       "[3 rows x 25 columns]"
      ]
     },
     "execution_count": 90,
     "metadata": {},
     "output_type": "execute_result"
    }
   ],
   "source": [
    "data_location = \"../Data/properatti.csv\"\n",
    "\n",
    "data = pd.read_csv(data_location, index_col=0)\n",
    "data.head(3)"
   ]
  },
  {
   "cell_type": "markdown",
   "id": "114d5204",
   "metadata": {},
   "source": [
    "# Renombro la columna lat-lon para evitar problemas"
   ]
  },
  {
   "cell_type": "code",
   "execution_count": 91,
   "id": "04228fc6",
   "metadata": {},
   "outputs": [],
   "source": [
    "data.rename(columns={'lat-lon': 'lat_lon'}, inplace=True)"
   ]
  },
  {
   "cell_type": "markdown",
   "id": "f9e71797",
   "metadata": {},
   "source": [
    "# Verificacion de instancias nulas"
   ]
  },
  {
   "cell_type": "code",
   "execution_count": 92,
   "id": "bcb0d197",
   "metadata": {},
   "outputs": [
    {
     "name": "stdout",
     "output_type": "stream",
     "text": [
      "(121220, 25)\n",
      "(121220, 25)\n"
     ]
    }
   ],
   "source": [
    "# Comprobamos la cantidad de filas donde tengan valor nulo en todas las columnas y las eliminamos  \n",
    "data_clean_empty_row = data.dropna(axis = 0, how= 'all')\n",
    "print(data.shape)\n",
    "print(data_clean_empty_row.shape)\n",
    "#En este caso no hay ninguna fila con todos los valores nulos"
   ]
  },
  {
   "cell_type": "markdown",
   "id": "92e583e0",
   "metadata": {},
   "source": [
    "# Tratamiento de ceros en columnas"
   ]
  },
  {
   "cell_type": "markdown",
   "id": "1e5b7228",
   "metadata": {},
   "source": [
    "#### Dado que no hay ninguna variable que pueda tomar el valor cero, se van a reemplazar todos los valores ceros por NaN, para mejor tratamiento de los mismos"
   ]
  },
  {
   "cell_type": "code",
   "execution_count": 93,
   "id": "a13ce3fd",
   "metadata": {},
   "outputs": [
    {
     "data": {
      "text/plain": [
       "operation                       0\n",
       "property_type                   0\n",
       "place_name                      0\n",
       "place_with_parent_names         0\n",
       "country_name                    0\n",
       "state_name                      0\n",
       "geonames_id                     0\n",
       "lat_lon                         0\n",
       "lat                             0\n",
       "lon                             0\n",
       "price                           1\n",
       "currency                        0\n",
       "price_aprox_local_currency      1\n",
       "price_aprox_usd                 1\n",
       "surface_total_in_m2           383\n",
       "surface_covered_in_m2           2\n",
       "price_usd_per_m2                0\n",
       "price_per_m2                    0\n",
       "floor                           0\n",
       "rooms                           0\n",
       "expenses                        0\n",
       "properati_url                   0\n",
       "description                     0\n",
       "title                           0\n",
       "image_thumbnail                 0\n",
       "dtype: int64"
      ]
     },
     "execution_count": 93,
     "metadata": {},
     "output_type": "execute_result"
    }
   ],
   "source": [
    "# Cantidad totales de ceros en el dataset\n",
    "(data==0).sum()"
   ]
  },
  {
   "cell_type": "code",
   "execution_count": 94,
   "id": "c737e596",
   "metadata": {},
   "outputs": [
    {
     "data": {
      "text/plain": [
       "operation                     0\n",
       "property_type                 0\n",
       "place_name                    0\n",
       "place_with_parent_names       0\n",
       "country_name                  0\n",
       "state_name                    0\n",
       "geonames_id                   0\n",
       "lat_lon                       0\n",
       "lat                           0\n",
       "lon                           0\n",
       "price                         0\n",
       "currency                      0\n",
       "price_aprox_local_currency    0\n",
       "price_aprox_usd               0\n",
       "surface_total_in_m2           0\n",
       "surface_covered_in_m2         0\n",
       "price_usd_per_m2              0\n",
       "price_per_m2                  0\n",
       "floor                         0\n",
       "rooms                         0\n",
       "expenses                      0\n",
       "properati_url                 0\n",
       "description                   0\n",
       "title                         0\n",
       "image_thumbnail               0\n",
       "dtype: int64"
      ]
     },
     "execution_count": 94,
     "metadata": {},
     "output_type": "execute_result"
    }
   ],
   "source": [
    "# Cambio valores iguales a cero por NaN\n",
    "data[data==0] = np.nan\n",
    "(data==0).sum()"
   ]
  },
  {
   "cell_type": "markdown",
   "id": "e43447a4",
   "metadata": {},
   "source": [
    "# Tratamiento de columnas con informacion no util o con informacion redundante"
   ]
  },
  {
   "cell_type": "markdown",
   "id": "9523c769",
   "metadata": {},
   "source": [
    "## Tratamiento de columnas *properati_url* y *image_thumbnail*"
   ]
  },
  {
   "cell_type": "markdown",
   "id": "a70d97f7",
   "metadata": {},
   "source": [
    "#### Vamos a desechar las columnas *properati_url* y *image_thumbnail* ya que no aportan informacion util"
   ]
  },
  {
   "cell_type": "code",
   "execution_count": 95,
   "id": "ef070b60",
   "metadata": {},
   "outputs": [
    {
     "name": "stdout",
     "output_type": "stream",
     "text": [
      "cantidad de columnas actuales= 23\n"
     ]
    }
   ],
   "source": [
    "# desechamos las columnas properati_url y image_thumbnail de data\n",
    "data = data.drop(['properati_url', 'image_thumbnail'], axis=1)\n",
    "print(\"cantidad de columnas actuales=\",data.shape[1])"
   ]
  },
  {
   "cell_type": "markdown",
   "id": "cb9f2c2a",
   "metadata": {},
   "source": [
    "## Tratamiento de columnas *price* , *price_aprox_local_currency* y *price_aprox_usd* "
   ]
  },
  {
   "cell_type": "markdown",
   "id": "e7e2b982",
   "metadata": {},
   "source": [
    "#### Vamos a quedarnos solo con la columna **price_aprox_usd** pudiendo desechar las columnas **price** y **price_aprox_local_currency** como asi tambien la columna **currency** ya que no aporta informacion adicional \n",
    "**Asumimos igual fiabilidad de los datos en las tres variables**"
   ]
  },
  {
   "cell_type": "code",
   "execution_count": 96,
   "id": "90c348a6",
   "metadata": {},
   "outputs": [
    {
     "name": "stdout",
     "output_type": "stream",
     "text": [
      "Cantidad de nulos en price=  20411\n",
      "cantidad de nulos en price_aprox_local_currency=  20411\n",
      "Cantida de nulos en price_aprox_usd=  20411\n",
      "Cantidad de nulos en la interseccion de las mascaras=  20411\n",
      "True\n"
     ]
    }
   ],
   "source": [
    "#Voy a verificar que no haya mas informacion en una columna que en las otras\n",
    "\n",
    "#Hago tres mascaras para las variables de precios que contengan los nulos de las mismas\n",
    "mask_price_null = data.price.isnull()\n",
    "mask_price_aprox_local_currency_null = data.price_aprox_local_currency.isnull()\n",
    "mask_price_aprox_usd_null = data.price_aprox_usd.isnull()\n",
    "\n",
    "#Hago una interseccion de las tres mascaras\n",
    "mask_prices_null = mask_price_null & mask_price_aprox_local_currency_null & mask_price_aprox_usd_null\n",
    "\n",
    "#Si las tres mascaras tienen cada una la misma cantidad de elementos que la interseccion significa que los nulos se encuentran siempre en las mismas instancias\n",
    "print(\"Cantidad de nulos en price= \" , mask_price_null.sum())\n",
    "print(\"cantidad de nulos en price_aprox_local_currency= \" , mask_price_aprox_local_currency_null.sum())\n",
    "print(\"Cantida de nulos en price_aprox_usd= \" , mask_price_aprox_usd_null.sum())\n",
    "print(\"Cantidad de nulos en la interseccion de las mascaras= \" , mask_prices_null.sum())\n",
    "\n",
    "#Devuelve un True si la cantidad de nulos es la misma en todas las mascaras por lo que la interseccion es perfecta\n",
    "print(mask_price_null.sum()==mask_price_aprox_local_currency_null.sum()==mask_price_aprox_usd_null.sum()==mask_prices_null.sum())"
   ]
  },
  {
   "cell_type": "code",
   "execution_count": 97,
   "id": "b62e8427",
   "metadata": {},
   "outputs": [
    {
     "name": "stdout",
     "output_type": "stream",
     "text": [
      "cantidad de columnas actuales=  20\n"
     ]
    }
   ],
   "source": [
    "#Desecho las columnas price, price_aprox_local_currency y currency\n",
    "data = data.drop(['price', 'price_aprox_local_currency' , 'currency'], axis=1)\n",
    "print(\"cantidad de columnas actuales= \",data.shape[1])"
   ]
  },
  {
   "cell_type": "markdown",
   "id": "312bb71f",
   "metadata": {},
   "source": [
    "## Tratamiento de columnas *price_usd_per_m2* y *price_per_m2*"
   ]
  },
  {
   "cell_type": "markdown",
   "id": "7721bb1a",
   "metadata": {},
   "source": [
    "#### Vamos a desechar la columna *price_per_m2* ya que es redundante con *price_usd_per_m2*\n",
    "**Asumimos igual fiabilidad de datos en ambas variables**"
   ]
  },
  {
   "cell_type": "code",
   "execution_count": 98,
   "id": "09a9cc7d",
   "metadata": {},
   "outputs": [
    {
     "name": "stdout",
     "output_type": "stream",
     "text": [
      "Cantidad de nulos en price_per_m2=  33562\n",
      "cantidad de nulos en price_usd_per_m2=  52603\n",
      "Cantidad de nulos en la interseccion de las mascaras=  28295\n",
      "False\n"
     ]
    }
   ],
   "source": [
    "#Voy a verificar que no haya mas informacion en una columna que en las otras\n",
    "\n",
    "#Hago dos mascaras para las variables de precios por metro cuadrado que contengan los nulos de las mismas\n",
    "mask_price_per_m2_null = data.price_per_m2.isnull()\n",
    "mask_price_usd_per_m2_null = data.price_usd_per_m2.isnull()\n",
    "\n",
    "#Hago una interseccion de las dos mascaras\n",
    "mask_prices_per_m2_null = mask_price_per_m2_null & mask_price_usd_per_m2_null \n",
    "\n",
    "#Si las tres mascaras tienen cada una la misma cantidad de elementos que la interseccion significa que los nulos se encuentran siempre en las mismas instancias\n",
    "print(\"Cantidad de nulos en price_per_m2= \" , mask_price_per_m2_null.sum())\n",
    "print(\"cantidad de nulos en price_usd_per_m2= \" , mask_price_usd_per_m2_null.sum())\n",
    "print(\"Cantidad de nulos en la interseccion de las mascaras= \" , mask_prices_per_m2_null.sum())\n",
    "\n",
    "#Devuelve un True si la cantidad de nulos es la misma en todas las mascaras por lo que la interseccion es perfecta\n",
    "print(mask_price_per_m2_null.sum()==mask_price_usd_per_m2_null.sum()==mask_prices_per_m2_null.sum())"
   ]
  },
  {
   "cell_type": "markdown",
   "id": "19812ece",
   "metadata": {},
   "source": [
    "#### Como hay mas informacion en una columna que en la otra, veo en que instancias es nula la columna price_usd_per_m2 pero no lo es la columna price_per_m2 (solamente lo hago en esta ya que es la columna con la que nos vamos a quedar)"
   ]
  },
  {
   "cell_type": "code",
   "execution_count": 99,
   "id": "d5368f64",
   "metadata": {},
   "outputs": [
    {
     "data": {
      "text/html": [
       "<div>\n",
       "<style scoped>\n",
       "    .dataframe tbody tr th:only-of-type {\n",
       "        vertical-align: middle;\n",
       "    }\n",
       "\n",
       "    .dataframe tbody tr th {\n",
       "        vertical-align: top;\n",
       "    }\n",
       "\n",
       "    .dataframe thead th {\n",
       "        text-align: right;\n",
       "    }\n",
       "</style>\n",
       "<table border=\"1\" class=\"dataframe\">\n",
       "  <thead>\n",
       "    <tr style=\"text-align: right;\">\n",
       "      <th></th>\n",
       "      <th>price_usd_per_m2</th>\n",
       "      <th>price_per_m2</th>\n",
       "    </tr>\n",
       "  </thead>\n",
       "  <tbody>\n",
       "    <tr>\n",
       "      <th>68</th>\n",
       "      <td>NaN</td>\n",
       "      <td>3263.888889</td>\n",
       "    </tr>\n",
       "    <tr>\n",
       "      <th>77</th>\n",
       "      <td>NaN</td>\n",
       "      <td>1764.705882</td>\n",
       "    </tr>\n",
       "    <tr>\n",
       "      <th>79</th>\n",
       "      <td>NaN</td>\n",
       "      <td>2809.523810</td>\n",
       "    </tr>\n",
       "    <tr>\n",
       "      <th>87</th>\n",
       "      <td>NaN</td>\n",
       "      <td>5147.058824</td>\n",
       "    </tr>\n",
       "    <tr>\n",
       "      <th>89</th>\n",
       "      <td>NaN</td>\n",
       "      <td>943.396226</td>\n",
       "    </tr>\n",
       "    <tr>\n",
       "      <th>...</th>\n",
       "      <td>...</td>\n",
       "      <td>...</td>\n",
       "    </tr>\n",
       "    <tr>\n",
       "      <th>121150</th>\n",
       "      <td>NaN</td>\n",
       "      <td>1826.923077</td>\n",
       "    </tr>\n",
       "    <tr>\n",
       "      <th>121151</th>\n",
       "      <td>NaN</td>\n",
       "      <td>1666.666667</td>\n",
       "    </tr>\n",
       "    <tr>\n",
       "      <th>121152</th>\n",
       "      <td>NaN</td>\n",
       "      <td>2257.575758</td>\n",
       "    </tr>\n",
       "    <tr>\n",
       "      <th>121155</th>\n",
       "      <td>NaN</td>\n",
       "      <td>1307.692308</td>\n",
       "    </tr>\n",
       "    <tr>\n",
       "      <th>121156</th>\n",
       "      <td>NaN</td>\n",
       "      <td>1307.692308</td>\n",
       "    </tr>\n",
       "  </tbody>\n",
       "</table>\n",
       "<p>24308 rows × 2 columns</p>\n",
       "</div>"
      ],
      "text/plain": [
       "        price_usd_per_m2  price_per_m2\n",
       "68                   NaN   3263.888889\n",
       "77                   NaN   1764.705882\n",
       "79                   NaN   2809.523810\n",
       "87                   NaN   5147.058824\n",
       "89                   NaN    943.396226\n",
       "...                  ...           ...\n",
       "121150               NaN   1826.923077\n",
       "121151               NaN   1666.666667\n",
       "121152               NaN   2257.575758\n",
       "121155               NaN   1307.692308\n",
       "121156               NaN   1307.692308\n",
       "\n",
       "[24308 rows x 2 columns]"
      ]
     },
     "execution_count": 99,
     "metadata": {},
     "output_type": "execute_result"
    }
   ],
   "source": [
    "#Hago una mascara para ver cuando es nula la columna price_usd_per_m2 pero no lo es price_per_m2\n",
    "mask_prices_per_m2 = data.price_usd_per_m2.isnull() & data.price_per_m2.notnull()\n",
    "data_prices_per_m2 = data [mask_prices_per_m2]\n",
    "data_prices_per_m2[[\"price_usd_per_m2\" , \"price_per_m2\"]]"
   ]
  },
  {
   "cell_type": "code",
   "execution_count": 100,
   "id": "1ee9c4f3",
   "metadata": {},
   "outputs": [],
   "source": [
    "#Realizo una imputacion en price_usd_per_m2 mediante price_per_m2\n",
    "\n",
    "#Defino una variable que contenga el valor de conversion de pesos a dolar\n",
    "pesos = 1/200\n",
    "\n",
    "#Imputo en price_usd_per_m2 el valor de price_per_m2 multiplicado por el valor de la conversion de pesos a dolar\n",
    "data.loc[data_prices_per_m2.index,\"price_usd_per_m2\"] = pesos *data.loc[data_prices_per_m2.index, \"price_per_m2\"]"
   ]
  },
  {
   "cell_type": "code",
   "execution_count": 101,
   "id": "ba53f2a0",
   "metadata": {},
   "outputs": [
    {
     "name": "stdout",
     "output_type": "stream",
     "text": [
      "cantidad de columnas actuales=  19\n"
     ]
    }
   ],
   "source": [
    "#Desecho la columna price_per_m2\n",
    "data = data.drop(['price_per_m2'], axis=1)\n",
    "print(\"cantidad de columnas actuales= \",data.shape[1])"
   ]
  },
  {
   "cell_type": "markdown",
   "id": "4ea3ed08",
   "metadata": {},
   "source": [
    "## Tratamiento de columnas *lat-lon*, *lat* y *lon*"
   ]
  },
  {
   "cell_type": "markdown",
   "id": "5b89529f",
   "metadata": {},
   "source": [
    "#### Vamos a desechar la columna *lat-lon* ya que es redundante con las columnas *lat* y *lon*\n",
    "**Asumimos igual fiabilidad de datos en las tres variables**"
   ]
  },
  {
   "cell_type": "code",
   "execution_count": 102,
   "id": "02f384a7",
   "metadata": {},
   "outputs": [
    {
     "name": "stdout",
     "output_type": "stream",
     "text": [
      "Cantidad de nulos en lat-lon=  51550\n",
      "cantidad de nulos en lat=  51550\n",
      "Cantida de nulos en lon=  51550\n",
      "Cantidad de nulos en la interseccion de las mascaras=  51550\n",
      "True\n"
     ]
    }
   ],
   "source": [
    "#Voy a verificar que no haya mas informacion en una columna que en las otras\n",
    "\n",
    "#Hago tres mascaras para las variables de latitud y longitud que contengan los nulos de las mismas\n",
    "mask_lat_lon_null = data.lat_lon.isnull()\n",
    "mask_lat_null = data.lat.isnull()\n",
    "mask_lon_null = data.lon.isnull()\n",
    "\n",
    "#Hago una interseccion de las tres mascaras\n",
    "mask_inter_lat_lon_null = mask_lat_lon_null & mask_lat_null & mask_lon_null\n",
    "\n",
    "#Si las tres mascaras tienen cada una la misma cantidad de elementos que la interseccion significa que los nulos se encuentran siempre en las mismas instancias\n",
    "print(\"Cantidad de nulos en lat-lon= \" , mask_lat_lon_null.sum())\n",
    "print(\"cantidad de nulos en lat= \" , mask_lat_null.sum())\n",
    "print(\"Cantida de nulos en lon= \" , mask_lon_null.sum())\n",
    "print(\"Cantidad de nulos en la interseccion de las mascaras= \" , mask_inter_lat_lon_null.sum())\n",
    "\n",
    "#Devuelve un True si la cantidad de nulos es la misma en todas las mascaras por lo que la interseccion es perfecta\n",
    "print(mask_lat_lon_null.sum()==mask_lat_null.sum()==mask_lon_null.sum()==mask_inter_lat_lon_null.sum())"
   ]
  },
  {
   "cell_type": "code",
   "execution_count": 103,
   "id": "067663f4",
   "metadata": {},
   "outputs": [
    {
     "name": "stdout",
     "output_type": "stream",
     "text": [
      "cantidad de columnas actuales=  18\n"
     ]
    }
   ],
   "source": [
    "#Desecho la columna lat_lon\n",
    "data = data.drop(['lat_lon'], axis=1)\n",
    "print(\"cantidad de columnas actuales= \",data.shape[1])"
   ]
  },
  {
   "cell_type": "markdown",
   "id": "b73927ce",
   "metadata": {},
   "source": [
    "# **REALIZADO DE CAMBIOS HASTA ACA, REVISAR MASCARAS Y DEMAS HACIA ABAJO**"
   ]
  },
  {
   "cell_type": "markdown",
   "id": "d70c5aff",
   "metadata": {},
   "source": [
    "# Limpieza de datos"
   ]
  },
  {
   "cell_type": "markdown",
   "id": "03f922c2",
   "metadata": {},
   "source": [
    "# Descartado de instancias en funcion del state_name"
   ]
  },
  {
   "cell_type": "code",
   "execution_count": null,
   "id": "339e11be",
   "metadata": {},
   "outputs": [],
   "source": [
    "# Vemos todos los diferentes state_name que hay en el DataSet\n",
    "data.state_name.unique()"
   ]
  },
  {
   "cell_type": "code",
   "execution_count": null,
   "id": "a7c90f1b",
   "metadata": {},
   "outputs": [],
   "source": [
    "# Vemos la cantidad de instancias que tiene cada state_name\n",
    "state_name_distribution = pd.value_counts(data.state_name)\n",
    "state_name_distribution"
   ]
  },
  {
   "cell_type": "code",
   "execution_count": null,
   "id": "a0da6e9e",
   "metadata": {},
   "outputs": [],
   "source": [
    "# Vemos los porcentajes de la distribucion de los datos por provincia\n",
    "total_data = data.shape[0]\n",
    "percentage_state_name = 100*state_name_distribution/total_data\n",
    "percentage_state_name"
   ]
  },
  {
   "cell_type": "markdown",
   "id": "16ed3600",
   "metadata": {},
   "source": [
    "### Tomamos la decision de desechar las instancias correspondientes a los *state_name* que representan < 1% del total de instancias."
   ]
  },
  {
   "cell_type": "code",
   "execution_count": null,
   "id": "40ee156a",
   "metadata": {},
   "outputs": [],
   "source": [
    "# Tomamos la decision de quedarnos con los datos que son > 1%, que corresponden a Buenos Aires Interior paara arriba\n",
    "mask_1_percent = percentage_state_name > 1\n",
    "series_1_percent = percentage_state_name [mask_1_percent]\n",
    "print(f'La muestra representa el {round(series_1_percent.sum(), 2)}% del total de los datos')\n",
    "round(series_1_percent, 2)"
   ]
  },
  {
   "cell_type": "code",
   "execution_count": null,
   "id": "78b7abb1",
   "metadata": {},
   "outputs": [],
   "source": [
    "# Con la mascara generada anteriormente para quedarnos con los state_names mayores a 1%, eliminamos las instancias que no corresponden a los state_names seleccionados\n",
    "data = data[data.state_name.isin(series_1_percent.index)]\n",
    "data"
   ]
  },
  {
   "cell_type": "markdown",
   "id": "719fa6fc",
   "metadata": {},
   "source": [
    "# Analis preliminar del DataSet"
   ]
  },
  {
   "cell_type": "code",
   "execution_count": null,
   "id": "777c3715",
   "metadata": {},
   "outputs": [],
   "source": [
    "# Usamos dtypes para saber que tipo de datos se almacenan en el dataset\n",
    "data.dtypes"
   ]
  },
  {
   "cell_type": "code",
   "execution_count": null,
   "id": "1912cb54",
   "metadata": {},
   "outputs": [],
   "source": [
    "#Vemos cuantos valores nulos tenemos por columna\n",
    "is_null_result = data.isnull().sum()\n",
    "print(is_null_result)"
   ]
  },
  {
   "cell_type": "code",
   "execution_count": null,
   "id": "f49c197d",
   "metadata": {},
   "outputs": [],
   "source": [
    "data_cero = (data==0).sum()\n",
    "data_cero"
   ]
  },
  {
   "cell_type": "code",
   "execution_count": null,
   "id": "b896c440",
   "metadata": {},
   "outputs": [],
   "source": [
    "#Vemos que porcentaje de nulos tiene cada columna\n",
    "percentage_null = 100*is_null_result/data.shape[0]\n",
    "percentage_null"
   ]
  },
  {
   "cell_type": "markdown",
   "id": "ca1a9e7e",
   "metadata": {},
   "source": [
    "## Correccion de instancias que tienen surface_total_in_m2 < surface_covered_in_m2"
   ]
  },
  {
   "cell_type": "code",
   "execution_count": 104,
   "id": "79f1a551",
   "metadata": {},
   "outputs": [],
   "source": [
    "# Vemos en que casos el valor surface_total_in_m2 es menor que el valor surface_covered_in_m2\n",
    "mask_surface = data.surface_total_in_m2 < data.surface_covered_in_m2\n",
    "data_surface = data[mask_surface]\n",
    "\n",
    "#En los casos en que surface_total_in_m2 sea menor que surface_covered_in_m2 imputamos los datos en el orden inverso\n",
    "list_a = data_surface.surface_total_in_m2\n",
    "list_b = data_surface.surface_covered_in_m2\n",
    "\n",
    "data.loc[data_surface.index, \"surface_total_in_m2\"] = list_b\n",
    "data.loc[data_surface.index, \"surface_covered_in_m2\"] = list_a"
   ]
  },
  {
   "cell_type": "markdown",
   "id": "f43fa469",
   "metadata": {},
   "source": [
    "# Obtencion de datos con expresiones regulares de las columnas *description* y *title*"
   ]
  },
  {
   "cell_type": "markdown",
   "id": "406f3173",
   "metadata": {},
   "source": [
    "## Obtencion de rooms con expresiones regulares"
   ]
  },
  {
   "cell_type": "markdown",
   "id": "7f3c79c0",
   "metadata": {},
   "source": [
    "##### *Se obtienen los rooms nulos o iguales a cero en primera instancia con expresiones regulares. No se obtienen primero con una media condicionada de la superficie cubierta y el lugar ya que es mas preciso obtenerlos con un dato directo del dataset*"
   ]
  },
  {
   "cell_type": "markdown",
   "id": "560e32a2",
   "metadata": {},
   "source": [
    "### Obtencion de rooms con expresion regular en *description*"
   ]
  },
  {
   "cell_type": "code",
   "execution_count": null,
   "id": "ef666e28",
   "metadata": {},
   "outputs": [],
   "source": [
    "# Aplicamos al DataSet una mascara booleana que contenga cero o nulo de rooms\n",
    "mask_rooms_null = (data.rooms == 0) | (data.rooms.isnull())\n",
    "data_rooms_null = data [mask_rooms_null]\n",
    "series_rooms_null_description = data_rooms_null.description\n",
    "series_rooms_null_description"
   ]
  },
  {
   "cell_type": "code",
   "execution_count": null,
   "id": "39df3f36",
   "metadata": {},
   "outputs": [],
   "source": [
    "# Usamos expresiones regulares para sacar los rooms en descripcion\n",
    "# Creamos un patron que encuentra numeros de un digito o mas, que pueden o no tener un espacio antes de la combinacion de letras amb indistindo de mayusculas o minusculas\n",
    "#logica del patron: que tome un numero de un digito que solamente tenga detras uno o mas espacios y seguido de uno o mas espacios y las letras amb\n",
    "pattern = '(?P<rooms>\\d+)\\s+(?i)amb' \n",
    "pattern_rooms_regex = re.compile(pattern)"
   ]
  },
  {
   "cell_type": "code",
   "execution_count": null,
   "id": "d79a94d7",
   "metadata": {},
   "outputs": [],
   "source": [
    "# Mostramos donde hay matches\n",
    "description_rooms_result = series_rooms_null_description.apply(lambda x: pattern_rooms_regex.search(str(x)))\n",
    "print(description_rooms_result)"
   ]
  },
  {
   "cell_type": "code",
   "execution_count": null,
   "id": "04544b84",
   "metadata": {},
   "outputs": [],
   "source": [
    "# Extraemos los datos que usaremos para la imputación (pongo que x sea cero cuando es none, ya que si me trae el valor None, no lo puedo pasar a float)\n",
    "description_rooms_match = description_rooms_result.apply(lambda x: 0 if x is None else x.group('rooms'))\n",
    "print(description_rooms_match)\n",
    "\n",
    "print(\"Rooms matcheados distintos de cero=\",(description_rooms_match!=0).sum()) #aca veo que cantidad pudo matchear\n",
    "print(description_rooms_match.unique()) #aca veo todos los rooms unicos que matcheo"
   ]
  },
  {
   "cell_type": "code",
   "execution_count": null,
   "id": "a666ca21",
   "metadata": {},
   "outputs": [],
   "source": [
    "# Imputamos la serie rooms_match con su index en el DataSet \n",
    "data.loc[description_rooms_match.index, \"rooms\"] = description_rooms_match \n",
    "print(data[[\"property_type\" , \"rooms\"]])\n",
    "data[[\"rooms\"]].dtypes"
   ]
  },
  {
   "cell_type": "code",
   "execution_count": null,
   "id": "2f8b678b",
   "metadata": {},
   "outputs": [],
   "source": [
    " #Cambio el tipo de dato de object a float para homogeneizarlo con los datos numericos que tenemos\n",
    "data[\"rooms\"] = data[\"rooms\"].astype(\"int\")\n",
    "data[[\"rooms\"]].dtypes\n",
    "data.rooms.unique() #Aca quiero ver que valores unicos hay de rooms(acompanarlo con un grafico seria lo adecuado)"
   ]
  },
  {
   "cell_type": "markdown",
   "id": "8ebc2b11",
   "metadata": {},
   "source": [
    "### Obtencion de rooms con expresion regular en *title*"
   ]
  },
  {
   "cell_type": "code",
   "execution_count": null,
   "id": "e2577b14",
   "metadata": {},
   "outputs": [],
   "source": [
    "#Hacemos todo lo mismo que antes pero para obtener los rooms que se puedan de title\n",
    "# Aplicamos al DataSet una mascara booleana que contenga cero rooms\n",
    "mask_rooms_zero = (data.rooms == 0)\n",
    "data_rooms_zero = data [mask_rooms_zero]\n",
    "series_rooms_zero_title = data_rooms_zero.title\n",
    "series_rooms_zero_title"
   ]
  },
  {
   "cell_type": "code",
   "execution_count": null,
   "id": "77a0ba1a",
   "metadata": {},
   "outputs": [],
   "source": [
    "title_rooms_result = series_rooms_zero_title.apply(lambda x: pattern_rooms_regex.search(str(x)))\n",
    "print(title_rooms_result)"
   ]
  },
  {
   "cell_type": "code",
   "execution_count": null,
   "id": "4a6ed239",
   "metadata": {},
   "outputs": [],
   "source": [
    "title_rooms_match = title_rooms_result.apply(lambda x: 0 if x is None else x.group('rooms'))\n",
    "print(title_rooms_match)\n",
    "\n",
    "print(\"Rooms matcheados distintos de cero=\",(title_rooms_match != 0).sum()) #aca veo que cantidad pudo matchear\n",
    "print(title_rooms_match.unique()) #aca veo todos los rooms unicos que matcheo"
   ]
  },
  {
   "cell_type": "code",
   "execution_count": null,
   "id": "3142de36",
   "metadata": {},
   "outputs": [],
   "source": [
    "# Imputamos la serie rooms_match_title con su index en el DataSet \n",
    "data.loc[title_rooms_match.index, \"rooms\"] = title_rooms_match \n",
    "print(data[[\"property_type\" , \"rooms\"]])\n",
    "data[[\"rooms\"]].dtypes"
   ]
  },
  {
   "cell_type": "code",
   "execution_count": null,
   "id": "fe9cdaeb",
   "metadata": {},
   "outputs": [],
   "source": [
    " #Cambio el tipo de dato de object a float para homogeneizarlo con los datos numericos que tenemos\n",
    "data[\"rooms\"] = data[\"rooms\"].astype(\"int\")\n",
    "data[[\"rooms\"]].dtypes\n",
    "data.rooms.unique() #Aca quiero ver que valores unicos hay de rooms(acompanarlo con un grafico seria lo adecuado)"
   ]
  },
  {
   "cell_type": "markdown",
   "id": "2734ca09",
   "metadata": {},
   "source": [
    "## Obtencion de surface_total_in_m2 con expresiones regulares"
   ]
  },
  {
   "cell_type": "markdown",
   "id": "a80e04ed",
   "metadata": {},
   "source": [
    "##### *Se obtienen la superficie en la que ambas superficies sean nulas y el precio y el precio por metro cuadrado es nulo o cero. De esta manera sabemos que no podemos imputar una superficie con la otra y no podemos inferir la superficie mediante el precio y el precio por metro cuadrado*"
   ]
  },
  {
   "cell_type": "markdown",
   "id": "3f51ea38",
   "metadata": {},
   "source": [
    "### Obtencion de surface_total_in_m2 con expresion regular en *description*"
   ]
  },
  {
   "cell_type": "code",
   "execution_count": null,
   "id": "63fb2441",
   "metadata": {},
   "outputs": [],
   "source": [
    "# Quiero ver que instancias son las que NO voy a poder imputar alguna superficie en funcion de otra u otras columnas de manera directa, por lo tanto lo tengo que obtener de expresiones regulares\n",
    "# Aplicamos al DataSet una mascara booleana que contenga cero o nulo de surface_covered_in_m2 y surface_total_in_m2 ademas de nulo en price y en price_per_m2 y price_usd_per_m2\n",
    "surfaces_condition = ((data.surface_total_in_m2 == 0) | (data.surface_total_in_m2.isnull())) & ((data.surface_covered_in_m2 == 0) | (data.surface_covered_in_m2.isnull()))\n",
    "prices_condition = ((data.price == 0) | (data.price.isnull())) & ((data.price_aprox_local_currency == 0) | (data.price_aprox_local_currency.isnull())) & ((data.price_aprox_usd == 0) | (data.price_aprox_usd.isnull()))\n",
    "prices_per_m2_condition =  ((data.price_usd_per_m2 == 0) | (data.price_usd_per_m2.isnull())) & ((data.price_per_m2 == 0) | (data.price_per_m2.isnull()))\n",
    "\n",
    "mask_surface_total_in_m2_null = surfaces_condition & (prices_condition | prices_per_m2_condition)\n",
    "data_surface_total_in_m2_null = data [mask_surface_total_in_m2_null]\n",
    "\n",
    "series_surface_total_in_m2_null_description = data_surface_total_in_m2_null.description\n",
    "series_surface_total_in_m2_null_description\n",
    "\n",
    "data_surface_total_in_m2_null.shape[0]\n",
    "\n",
    "#Las instancias de data_prices_surfaces_prices_m2_null son las que tenemos que buscar en description y title buscando la superficie"
   ]
  },
  {
   "cell_type": "code",
   "execution_count": null,
   "id": "53cccf57",
   "metadata": {},
   "outputs": [],
   "source": [
    "# Usamos expresiones regulares para sacar la superficie en descripcion\n",
    "# Creamos un patron que encuentra numeros de un digito o mas, que pueden o no tener un espacio antes de la combinacion de letras m2 indistindo de mayusculas o minusculas\n",
    "pattern = '(?P<surface_total_in_m2>\\d+)\\s+(?i)m2' \n",
    "pattern_surface_total_in_m2_regex = re.compile(pattern)"
   ]
  },
  {
   "cell_type": "code",
   "execution_count": null,
   "id": "1e0c13ec",
   "metadata": {},
   "outputs": [],
   "source": [
    "# Mostramos donde hay matches\n",
    "description_surface_total_in_m2_result = series_surface_total_in_m2_null_description.apply(lambda x: pattern_surface_total_in_m2_regex.search(str(x)))\n",
    "print(description_rooms_result)"
   ]
  },
  {
   "cell_type": "code",
   "execution_count": null,
   "id": "a5214e90",
   "metadata": {},
   "outputs": [],
   "source": [
    "description_surface_total_in_m2_match = description_surface_total_in_m2_result.apply(lambda x: 0 if x is None else x.group('surface_total_in_m2'))\n",
    "print(description_surface_total_in_m2_match)\n",
    "\n",
    "print(\"surfaces matcheados distintos de cero=\",(description_surface_total_in_m2_match != 0).sum()) #aca veo que cantidad pudo matchear"
   ]
  },
  {
   "cell_type": "code",
   "execution_count": null,
   "id": "706c5aa9",
   "metadata": {},
   "outputs": [],
   "source": [
    "# Imputamos la serie description_surface_total_in_m2_match con su index en el DataSet \n",
    "data.loc[description_surface_total_in_m2_match.index, \"surface_total_in_m2\"] = description_surface_total_in_m2_match \n",
    "print(data[[\"property_type\" , \"surface_total_in_m2\"]])\n",
    "data[[\"surface_total_in_m2\"]].dtypes"
   ]
  },
  {
   "cell_type": "code",
   "execution_count": null,
   "id": "7eccb79f",
   "metadata": {},
   "outputs": [],
   "source": [
    "#Cambio el tipo de dato de object a float para homogeneizarlo con los datos numericos que tenemos\n",
    "data[\"surface_total_in_m2\"] = data[\"surface_total_in_m2\"].astype(\"float\")\n",
    "data[[\"surface_total_in_m2\"]].dtypes"
   ]
  },
  {
   "cell_type": "markdown",
   "id": "f3404e36",
   "metadata": {},
   "source": [
    "### Obtencion de surface_total_in_m2 con expresion regular en *title*"
   ]
  },
  {
   "cell_type": "code",
   "execution_count": null,
   "id": "adcc5726",
   "metadata": {},
   "outputs": [],
   "source": [
    "#Hacemos todo lo mismo que antes pero para obtener las surface que se puedan de title\n",
    "# Aplicamos al DataSet una mascara booleana que contenga cero rooms\n",
    "mask_surface_total_in_m2_zero = (data.surface_total_in_m2 == 0)\n",
    "data_surface_total_in_m2_zero = data [mask_surface_total_in_m2_zero]\n",
    "series_surface_total_in_m2_zero_title = data_surface_total_in_m2_zero.title\n",
    "series_surface_total_in_m2_zero_title"
   ]
  },
  {
   "cell_type": "code",
   "execution_count": null,
   "id": "a6c36de0",
   "metadata": {},
   "outputs": [],
   "source": [
    "title_surface_total_in_m2_result = series_surface_total_in_m2_zero_title.apply(lambda x: pattern_surface_total_in_m2_regex.search(str(x)))\n",
    "print(title_surface_total_in_m2_result)"
   ]
  },
  {
   "cell_type": "code",
   "execution_count": null,
   "id": "1d4b36c2",
   "metadata": {},
   "outputs": [],
   "source": [
    "title_surface_total_in_m2_match = title_surface_total_in_m2_result.apply(lambda x: 0 if x is None else x.group('surface_total_in_m2'))\n",
    "print(title_surface_total_in_m2_match)\n",
    "\n",
    "print(\"surfaces matcheados distintos de cero=\",(title_surface_total_in_m2_match != 0).sum()) #aca veo que cantidad pudo matchear"
   ]
  },
  {
   "cell_type": "code",
   "execution_count": null,
   "id": "443f63f9",
   "metadata": {},
   "outputs": [],
   "source": [
    "# Imputamos la serie description_surface_total_in_m2_match con su index en el DataSet \n",
    "data.loc[title_surface_total_in_m2_match.index, \"surface_total_in_m2\"] = title_surface_total_in_m2_match \n",
    "print(data[[\"property_type\" , \"surface_total_in_m2\"]])\n",
    "data[[\"surface_total_in_m2\"]].dtypes"
   ]
  },
  {
   "cell_type": "code",
   "execution_count": null,
   "id": "f1dcc841",
   "metadata": {},
   "outputs": [],
   "source": [
    "#Cambio el tipo de dato de object a float para homogeneizarlo con los datos numericos que tenemos\n",
    "data[\"surface_total_in_m2\"] = data[\"surface_total_in_m2\"].astype(\"float\")\n",
    "data[[\"surface_total_in_m2\"]].dtypes"
   ]
  },
  {
   "cell_type": "markdown",
   "id": "d1bec090",
   "metadata": {},
   "source": [
    "## Obtencion de price mediante expresiones regulares"
   ]
  },
  {
   "cell_type": "markdown",
   "id": "d6851595",
   "metadata": {},
   "source": [
    "##### *Quiero obtener el price para las instancias en las que no tenemos price y price_aprox_local_currency y price_aprox_usd y tampoco tenemos surface_total_in_m2 y surface_total_in_m2 o no tenemos price_usd_per_m2 y price_per_m2 *"
   ]
  },
  {
   "cell_type": "markdown",
   "id": "a1418eba",
   "metadata": {},
   "source": [
    "### Obtencion de price con expresion regular en *description*"
   ]
  },
  {
   "cell_type": "code",
   "execution_count": null,
   "id": "fa5ef273",
   "metadata": {},
   "outputs": [],
   "source": [
    "# Quiero ver que instancias son las que NO voy a poder imputar algun price en funcion de otra u otras columnas de manera directa, por lo tanto lo tengo que obtener de expresiones regulares\n",
    "\n",
    "surfaces_condition = ((data.surface_total_in_m2 == 0) | (data.surface_total_in_m2.isnull())) & ((data.surface_covered_in_m2 == 0) | (data.surface_covered_in_m2.isnull()))\n",
    "prices_condition = ((data.price == 0) | (data.price.isnull())) & ((data.price_aprox_local_currency == 0) | (data.price_aprox_local_currency.isnull())) & ((data.price_aprox_usd == 0) | (data.price_aprox_usd.isnull()))\n",
    "prices_per_m2_condition =  ((data.price_usd_per_m2 == 0) | (data.price_usd_per_m2.isnull())) & ((data.price_per_m2 == 0) | (data.price_per_m2.isnull()))\n",
    "\n",
    "\n",
    "mask_price_null = prices_condition & (prices_per_m2_condition | surfaces_condition)\n",
    "data_price_null = data [mask_price_null]\n",
    "series_price_null_description = data_price_null.description\n",
    "series_price_null_description\n",
    "\n",
    "data_price_null.shape[0]\n",
    "\n",
    "#Las instancias de data_prices_surfaces_prices_m2_null son las que tenemos que buscar en description y title buscando el price"
   ]
  },
  {
   "cell_type": "code",
   "execution_count": null,
   "id": "bfa78c63",
   "metadata": {},
   "outputs": [],
   "source": [
    "# Usamos expresiones regulares para sacar la superficie en descripcion\n",
    "# Creamos un patron que encuentra numeros de un digito o mas, que pueden o no tener un espacio antes de la combinacion de letras m2 indistindo de mayusculas o minusculas\n",
    "pattern = '(?P<price>\\d+)\\s+(?i)usd' \n",
    "pattern_price_regex = re.compile(pattern)"
   ]
  },
  {
   "cell_type": "code",
   "execution_count": null,
   "id": "f59b6fb4",
   "metadata": {},
   "outputs": [],
   "source": [
    "# Mostramos donde hay matches\n",
    "description_price_result = series_price_null_description.apply(lambda x: pattern_price_regex.search(str(x)))\n",
    "print(description_price_result)"
   ]
  },
  {
   "cell_type": "code",
   "execution_count": null,
   "id": "7abc0225",
   "metadata": {},
   "outputs": [],
   "source": [
    "description_price_match = description_price_result.apply(lambda x: 0 if x is None else x.group('price'))\n",
    "print(description_price_match)\n",
    "\n",
    "print(\"price matcheados distintos de cero=\",(description_price_match != 0).sum()) #aca veo que cantidad pudo matchear"
   ]
  },
  {
   "cell_type": "code",
   "execution_count": null,
   "id": "8b7afc0c",
   "metadata": {},
   "outputs": [],
   "source": [
    "# Imputamos la serie description_surface_total_in_m2_match con su index en el DataSet \n",
    "data.loc[description_price_match.index, \"price\"] = description_price_match \n",
    "print(data[[\"property_type\" , \"price\"]])\n",
    "data[[\"price\"]].dtypes"
   ]
  },
  {
   "cell_type": "code",
   "execution_count": null,
   "id": "ebf171f1",
   "metadata": {},
   "outputs": [],
   "source": [
    "#Cambio el tipo de dato de object a float para homogeneizarlo con los datos numericos que tenemos\n",
    "data[\"price\"] = data[\"price\"].astype(\"float\")\n",
    "data[[\"price\"]].dtypes"
   ]
  },
  {
   "cell_type": "markdown",
   "id": "45bcbb24",
   "metadata": {},
   "source": [
    "### Obtencion de price con expresion regular en *title*"
   ]
  },
  {
   "cell_type": "code",
   "execution_count": null,
   "id": "269dd564",
   "metadata": {},
   "outputs": [],
   "source": [
    "#Hacemos todo lo mismo que antes pero para obtener las surface que se puedan de title\n",
    "# Aplicamos al DataSet una mascara booleana que contenga cero rooms\n",
    "mask_price_zero = (data.price == 0)\n",
    "data_price_zero = data [mask_price_zero]\n",
    "series_price_zero_title = data_price_zero.title\n",
    "series_price_zero_title"
   ]
  },
  {
   "cell_type": "code",
   "execution_count": null,
   "id": "7dec266f",
   "metadata": {},
   "outputs": [],
   "source": [
    "title_price_result = series_price_zero_title.apply(lambda x: pattern_price_regex.search(str(x)))\n",
    "print(title_price_result)"
   ]
  },
  {
   "cell_type": "code",
   "execution_count": null,
   "id": "cacde5e4",
   "metadata": {},
   "outputs": [],
   "source": [
    "title_price_match = title_price_result.apply(lambda x: 0 if x is None else x.group('price'))\n",
    "print(title_price_match)\n",
    "\n",
    "print(\"price matcheados distintos de cero=\",(title_price_match != 0).sum()) #aca veo que cantidad pudo matchear"
   ]
  },
  {
   "cell_type": "code",
   "execution_count": null,
   "id": "d4a355f8",
   "metadata": {},
   "outputs": [],
   "source": [
    "# Imputamos la serie description_surface_total_in_m2_match con su index en el DataSet \n",
    "data.loc[title_price_match.index, \"price\"] = title_price_match \n",
    "print(data[[\"property_type\" , \"price\"]])\n",
    "data[[\"price\"]].dtypes"
   ]
  },
  {
   "cell_type": "code",
   "execution_count": null,
   "id": "e57f0299",
   "metadata": {},
   "outputs": [],
   "source": [
    "#Cambio el tipo de dato de object a float para homogeneizarlo con los datos numericos que tenemos\n",
    "data[\"price\"] = data[\"price\"].astype(\"float\")\n",
    "data[[\"price\"]].dtypes"
   ]
  },
  {
   "cell_type": "markdown",
   "id": "224ccc4b",
   "metadata": {},
   "source": [
    "# Obtencion de datos mediante imputacion directa"
   ]
  },
  {
   "cell_type": "markdown",
   "id": "41d7769c",
   "metadata": {},
   "source": [
    "## Obtencion de place_name mediante imputacion directa"
   ]
  },
  {
   "cell_type": "code",
   "execution_count": null,
   "id": "ce6d64c2",
   "metadata": {},
   "outputs": [],
   "source": [
    "#Analizamos los nulos en la columna place_name con una mascara booleana\n",
    "serie_place_name = data.place_name\n",
    "mask_place_name_null = serie_place_name.isnull()\n",
    "data_place_name_null = data[mask_place_name_null]\n",
    "data_place_name_null"
   ]
  },
  {
   "cell_type": "markdown",
   "id": "693d4cc5",
   "metadata": {},
   "source": [
    "#### *Como todos los nulos en la columna place_name corresponden al municipio de Tigre, los imputamos directamente con este municipo*"
   ]
  },
  {
   "cell_type": "code",
   "execution_count": null,
   "id": "50b62d3c",
   "metadata": {},
   "outputs": [],
   "source": [
    "# Como todos los nulos en la columna place_name corresponden al municipio de Tigre, los imputamos directamente con este municipio\n",
    "data.loc[data_place_name_null.index, \"place_name\"] = 'Tigre'"
   ]
  },
  {
   "cell_type": "markdown",
   "id": "b6cfc1b7",
   "metadata": {},
   "source": [
    "## Obtencion de surface_total_in_m2 y surface_covered_in_m2 mediante imputacion directa"
   ]
  },
  {
   "cell_type": "markdown",
   "id": "d67314fe",
   "metadata": {},
   "source": [
    "### Datos de Superficie total o superficie cubierta que quedaran nulos o ceros por ahora"
   ]
  },
  {
   "cell_type": "code",
   "execution_count": null,
   "id": "47d3daf3",
   "metadata": {},
   "outputs": [],
   "source": [
    "# Realizamos una mascara para ver las instancias de superficie tanto cubierta como total de los cuales no tenemos para imputar un valor con el otro\n",
    "\n",
    "mask_surfaces_null = ((data.surface_total_in_m2 == 0) | (data.surface_total_in_m2.isnull())) & ((data.surface_covered_in_m2 == 0) | (data.surface_covered_in_m2.isnull()))\n",
    "data_surfaces_null = data[mask_surfaces_null]\n",
    "\n",
    "print (data_surfaces_null[[\"property_type\" , \"surface_total_in_m2\" , \"surface_covered_in_m2\"]])\n",
    "\n",
    "#En este DataFrame hay tanto superficies nulas como superficies iguales a cero"
   ]
  },
  {
   "cell_type": "markdown",
   "id": "47117966",
   "metadata": {},
   "source": [
    "### Datos de superficie total o superficie que imputo uno con el otro"
   ]
  },
  {
   "cell_type": "code",
   "execution_count": null,
   "id": "eb357c93",
   "metadata": {},
   "outputs": [],
   "source": [
    "# Realizamos una mascara para ver que valores tenemos nulos o ceros de superficie total pero que la cubierta no es nula ni cero, por lo tanto se la podemos imputar\n",
    "mask_surface_total_in_m2_null = (data.surface_total_in_m2.isnull() & data.surface_covered_in_m2.notnull()\n",
    "data_surface_total_in_m2_null = data[mask_surface_total_in_m2_null]\n",
    "\n",
    "# Realizamos una mascara para ver que valores tenemos nulos o ceros de superficie cubierta pero que la total no es nula ni cero, por lo tanto se la podemos imputar\n",
    "mask_surface_covered_in_m2_null = ((data.surface_total_in_m2 != 0) & (data.surface_total_in_m2.notnull())) & ((data.surface_covered_in_m2 == 0) | (data.surface_covered_in_m2.isnull()))\n",
    "data_surface_covered_in_m2_null = data[mask_surface_covered_in_m2_null]\n",
    "\n",
    "\n",
    "print (data_surface_total_in_m2_null[[\"property_type\" , \"surface_total_in_m2\" , \"surface_covered_in_m2\"]])\n",
    "print (data_surface_covered_in_m2_null[[\"property_type\" , \"surface_total_in_m2\" , \"surface_covered_in_m2\"]])\n"
   ]
  },
  {
   "cell_type": "code",
   "execution_count": null,
   "id": "bb70f807",
   "metadata": {},
   "outputs": [],
   "source": [
    "# Aca imputamos los valores nulos o ceros de superficie total con los valores de superficie cubierta, utilizando la mascara mask_surface_total_in_m2_zero\n",
    "data.loc[data_surface_total_in_m2_null.index, \"surface_total_in_m2\"] = data.loc[data_surface_total_in_m2_null.index, \"surface_covered_in_m2\"]\n",
    "\n",
    "# Aca imputamos los valores nulos o ceros de superficie cubierta con los valores de superficie total, utilizando la mascara mask_surface_covered_in_m2_zero\n",
    "data.loc[data_surface_covered_in_m2_null.index, \"surface_covered_in_m2\"] = data.loc[data_surface_covered_in_m2_null.index, \"surface_total_in_m2\"]"
   ]
  },
  {
   "cell_type": "markdown",
   "id": "32e26d35",
   "metadata": {},
   "source": [
    "### Obtención de las superficias nulas en funcion del precio y del precio por metro cuadrado"
   ]
  },
  {
   "cell_type": "markdown",
   "id": "3474b504",
   "metadata": {},
   "source": [
    "##### Vemos instancias que tengan el precio y el precio por metro cuadrado pero no la superficie"
   ]
  },
  {
   "cell_type": "code",
   "execution_count": null,
   "id": "9d497e84",
   "metadata": {},
   "outputs": [],
   "source": [
    "#Aca veo las instancias que tengan el precio y el precio por metro cuadrado pero no la superficie"
   ]
  },
  {
   "cell_type": "code",
   "execution_count": null,
   "id": "c7244f8a",
   "metadata": {},
   "outputs": [],
   "source": [
    "# Se hacen tres mascaras booleanas: mask_surfaces_null = instancias sin datos de superficie / mask_prices_notnull = instancias con algun dato de precio / mask_prices_per_m2_notnull = instancias con algun dato de precio por metro cuadrado\n",
    "condition_surfaces_null = ((data.surface_total_in_m2 == 0) | (data.surface_total_in_m2.isnull())) & ((data.surface_covered_in_m2 == 0) | (data.surface_covered_in_m2.isnull()))\n",
    "condition_prices_notnull = ((data.price != 0) & (data.price.notnull())) | ((data.price_aprox_local_currency != 0) & (data.price_aprox_local_currency.notnull())) | ((data.price_aprox_usd != 0) & (data.price_aprox_usd.notnull()))\n",
    "condition_prices_per_m2_notnull = ((data.price_usd_per_m2!=0) & (data.price_usd_per_m2.notnull())) | ((data.price_per_m2!=0) & (data.price_per_m2.notnull()))\n",
    "\n",
    "mask_surfaces_imput = condition_surfaces_null & condition_prices_notnull & condition_prices_per_m2_notnull\n",
    "data_surfaces_imput = data[mask_surfaces_imput]\n",
    "\n",
    "data_surfaces_imput[[\"price\" , \"price_aprox_local_currency\" , \"price_aprox_usd\" , \"price_usd_per_m2\" , \"price_per_m2\" , \"surface_total_in_m2\" , \"surface_covered_in_m2\"]]"
   ]
  },
  {
   "cell_type": "markdown",
   "id": "c52797cb",
   "metadata": {},
   "source": [
    "## Obtencion de price mediante imputacion directa en funcion de prices_per_m2 y surface"
   ]
  },
  {
   "cell_type": "code",
   "execution_count": null,
   "id": "43ce5ce6",
   "metadata": {},
   "outputs": [],
   "source": [
    "# Se hacen tres mascaras booleanas: mask_surfaces_nonull = instancias con datos de superficie no nulos / mask_prices_null = instancias sin datos de precios / mask_prices_per_m2_notnull = instancias con algun dato de precio por metro cuadrado\n",
    "condition_surfaces_notnull = ((data.surface_total_in_m2 != 0) & (data.surface_total_in_m2.notnull())) | ((data.surface_covered_in_m2 != 0) & (data.surface_covered_in_m2.notnull()))\n",
    "condition_prices_null = ((data.price == 0) | (data.price.isnull())) & ((data.price_aprox_local_currency == 0) | (data.price_aprox_local_currency.isnull())) & ((data.price_aprox_usd == 0) | (data.price_aprox_usd.isnull()))\n",
    "condition_prices_per_m2_notnull = ((data.price_usd_per_m2!=0) & (data.price_usd_per_m2.notnull())) | ((data.price_per_m2!=0) & (data.price_per_m2.notnull()))\n",
    "\n",
    "mask_prices_imput = condition_surfaces_null & condition_prices_notnull & condition_prices_per_m2_notnull\n",
    "data_prices_imput = data[mask_prices_imput]\n",
    "\n",
    "data_prices_imput[[\"price\" , \"price_aprox_local_currency\" , \"price_aprox_usd\" , \"price_usd_per_m2\" , \"price_per_m2\" , \"surface_total_in_m2\" , \"surface_covered_in_m2\"]]"
   ]
  },
  {
   "cell_type": "markdown",
   "id": "9eef51cb",
   "metadata": {},
   "source": [
    "## Obtencion de price_per_m2 mediante imputacion directa en funcion de surface y price"
   ]
  },
  {
   "cell_type": "code",
   "execution_count": null,
   "id": "432f6a93",
   "metadata": {},
   "outputs": [],
   "source": [
    "# Se hacen tres mascaras booleanas: mask_surfaces_null = instancias sin datos de superficie / mask_prices_notnull = instancias con algun dato de precio / mask_prices_per_m2_notnull = instancias con algun dato de precio por metro cuadrado\n",
    "condition_surfaces_notnull = ((data.surface_total_in_m2 != 0) & (data.surface_total_in_m2.notnull())) | ((data.surface_covered_in_m2 != 0) & (data.surface_covered_in_m2.notnull()))\n",
    "condition_prices_notnull = ((data.price != 0) & (data.price.notnull())) | ((data.price_aprox_local_currency != 0) & (data.price_aprox_local_currency.notnull())) | ((data.price_aprox_usd != 0) & (data.price_aprox_usd.notnull()))\n",
    "condition_prices_per_m2_null = ((data.price_usd_per_m2 ==0) | (data.price_usd_per_m2.isnull())) & ((data.price_per_m2 ==0) | (data.price_per_m2.isnull()))\n",
    "\n",
    "mask_prices_per_m2_imput = condition_surfaces_notnull & condition_prices_notnull & condition_prices_per_m2_null\n",
    "data_prices_per_m2_imput = data[mask_prices_per_m2_imput]\n",
    "\n",
    "data_prices_per_m2_imput[[\"price\" , \"price_aprox_local_currency\" , \"price_aprox_usd\" , \"price_usd_per_m2\" , \"price_per_m2\" , \"surface_total_in_m2\" , \"surface_covered_in_m2\"]]"
   ]
  },
  {
   "cell_type": "code",
   "execution_count": null,
   "id": "21f90447",
   "metadata": {},
   "outputs": [],
   "source": [
    "data_prices_per_m2_imput.notnull().sum()"
   ]
  },
  {
   "cell_type": "markdown",
   "id": "44c9a6b5",
   "metadata": {},
   "source": [
    "## En revision: Buscar con una expresion regular imputar la superficie con los datos de 'description' y 'title'"
   ]
  },
  {
   "cell_type": "markdown",
   "id": "2067df25",
   "metadata": {},
   "source": [
    "## Analisis de columna rooms"
   ]
  },
  {
   "cell_type": "code",
   "execution_count": null,
   "id": "31237cf2",
   "metadata": {},
   "outputs": [],
   "source": []
  },
  {
   "cell_type": "code",
   "execution_count": null,
   "id": "d76f898e",
   "metadata": {},
   "outputs": [],
   "source": [
    "#Aca veo, de los rooms que son iguales a cero, cuales tienen la superficie cubierta distinta de cero o nulo para imputarla despues\n",
    "data_rooms_surface = data[(data.rooms == 0) & ((data.price_usd_per_m2.notnull() & data.price_usd_per_m2!=0) | (data.price_usd_per_m2.notnull() & data.price_usd_per_m2!=0))]\n",
    "data_rooms_surface[[\"rooms\" , \"surface_covered_in_m2\"]]"
   ]
  },
  {
   "cell_type": "markdown",
   "id": "93d043ac",
   "metadata": {},
   "source": [
    "# *Analisis columnas de precios*"
   ]
  },
  {
   "cell_type": "markdown",
   "id": "29643267",
   "metadata": {},
   "source": [
    "Hacemos una mascara para nulos dolar y nulos local m2"
   ]
  },
  {
   "cell_type": "code",
   "execution_count": null,
   "id": "d7441f5e",
   "metadata": {},
   "outputs": [],
   "source": [
    "data_price_null = data[((data.price_usd_per_m2.isnull()) | (data.price_usd_per_m2 == 0)) & ((data.price_per_m2.isnull()) | (data.price_per_m2== 0))]\n",
    "data_price_null[['price', 'price_usd_per_m2', 'price_per_m2', 'surface_total_in_m2']]\n",
    "# Estas instancias son las que tendremos que imputar por superficio y precio, si no tiene alguno se tendran que explorar nuevas opciones\n",
    "print(data_price_null.isnull().sum())\n",
    "print(data_price_null.shape)"
   ]
  },
  {
   "cell_type": "code",
   "execution_count": null,
   "id": "76c0d6fc",
   "metadata": {},
   "outputs": [],
   "source": [
    "data_price_surface_notnull = data_price_null[((data_price_null.price.notnull()) & (data_price_null.price != 0)) & ((data_price_null.surface_total_in_m2.notnull()) & (data_price_null.surface_total_in_m2 != 0))]\n",
    "data_price_surface_notnull"
   ]
  },
  {
   "cell_type": "code",
   "execution_count": null,
   "id": "ae6e3ff9",
   "metadata": {},
   "outputs": [],
   "source": [
    "data.price[20]"
   ]
  },
  {
   "cell_type": "code",
   "execution_count": null,
   "id": "f805c939",
   "metadata": {},
   "outputs": [],
   "source": [
    "data.surface_total_in_m2[20]"
   ]
  },
  {
   "cell_type": "code",
   "execution_count": null,
   "id": "20760486",
   "metadata": {},
   "outputs": [],
   "source": []
  },
  {
   "cell_type": "markdown",
   "id": "a88de74d",
   "metadata": {},
   "source": [
    "# **VENIMOS CODEANDO HASTA ACA, NO DAR BOLA A LO QUE SIGUE**"
   ]
  },
  {
   "cell_type": "code",
   "execution_count": null,
   "id": "f7bb6672",
   "metadata": {},
   "outputs": [],
   "source": [
    "\n",
    "# Queremos, para los que tengan ambas superficies nulas o cero se las imputamos por una media condicionada por el valor de property_type, place_name, state_name y rooms"
   ]
  },
  {
   "cell_type": "code",
   "execution_count": null,
   "id": "6857f83c",
   "metadata": {},
   "outputs": [],
   "source": []
  },
  {
   "cell_type": "code",
   "execution_count": null,
   "id": "850666ca",
   "metadata": {},
   "outputs": [],
   "source": [
    "moneda = data[data.currency==\"UYU\"]\n",
    "moneda.description[107390]"
   ]
  },
  {
   "cell_type": "code",
   "execution_count": null,
   "id": "1ebe296f",
   "metadata": {},
   "outputs": [],
   "source": [
    "data.country_name.unique()"
   ]
  },
  {
   "cell_type": "code",
   "execution_count": null,
   "id": "7db65e37",
   "metadata": {},
   "outputs": [],
   "source": [
    "#Aca hago una maquinita manual para obtener el numero de instancia de los valores raros de rooms\n",
    "marcaradedatos =  data[data.rooms == \"0002\"]\n",
    "marcaradedatos.description[43292]"
   ]
  },
  {
   "cell_type": "code",
   "execution_count": null,
   "id": "ad162ee3",
   "metadata": {},
   "outputs": [],
   "source": [
    "#Aca empiezo a tomar una muestra para ver que pasa"
   ]
  },
  {
   "cell_type": "code",
   "execution_count": null,
   "id": "ad6b6b52",
   "metadata": {},
   "outputs": [],
   "source": [
    "data.description[121134     ]"
   ]
  },
  {
   "cell_type": "code",
   "execution_count": null,
   "id": "a24f094f",
   "metadata": {},
   "outputs": [],
   "source": [
    "data.description[1601]"
   ]
  },
  {
   "cell_type": "code",
   "execution_count": null,
   "id": "fbca42ff",
   "metadata": {},
   "outputs": [],
   "source": [
    "data.description[116017]"
   ]
  },
  {
   "cell_type": "code",
   "execution_count": null,
   "id": "e25920be",
   "metadata": {},
   "outputs": [],
   "source": [
    "data.description[76675\t]"
   ]
  },
  {
   "cell_type": "code",
   "execution_count": null,
   "id": "e6772789",
   "metadata": {},
   "outputs": [],
   "source": [
    "data.description[7689]"
   ]
  },
  {
   "cell_type": "code",
   "execution_count": null,
   "id": "fe6bd64c",
   "metadata": {},
   "outputs": [],
   "source": []
  },
  {
   "cell_type": "markdown",
   "id": "0abac072",
   "metadata": {},
   "source": [
    "## Analisis de columna price"
   ]
  },
  {
   "cell_type": "markdown",
   "id": "f9e826d3",
   "metadata": {},
   "source": [
    "### Intentaremos imputar las instancias de precios nulas o iguales a cero con expresiones regulares en la columna descripcion"
   ]
  },
  {
   "cell_type": "code",
   "execution_count": null,
   "id": "1ee104e0",
   "metadata": {},
   "outputs": [],
   "source": []
  },
  {
   "cell_type": "code",
   "execution_count": null,
   "id": "71efe94d",
   "metadata": {},
   "outputs": [],
   "source": [
    "data[data.surface_total_in_m2.isnull()]"
   ]
  },
  {
   "cell_type": "code",
   "execution_count": null,
   "id": "92a0f531",
   "metadata": {},
   "outputs": [],
   "source": [
    "data[surfaces_condition]"
   ]
  },
  {
   "cell_type": "code",
   "execution_count": null,
   "id": "7a6994f3",
   "metadata": {},
   "outputs": [],
   "source": []
  },
  {
   "cell_type": "code",
   "execution_count": null,
   "id": "33bd071c",
   "metadata": {},
   "outputs": [],
   "source": [
    "mask_prices_surfaces_prices_m2_null = (surfaces_condition & prices_condition) | prices_per_m2_condition\n",
    "data[mask_prices_surfaces_prices_m2_null]"
   ]
  },
  {
   "cell_type": "code",
   "execution_count": null,
   "id": "5e1861b0",
   "metadata": {},
   "outputs": [],
   "source": [
    "prices_condition"
   ]
  },
  {
   "cell_type": "code",
   "execution_count": null,
   "id": "d213fcbe",
   "metadata": {},
   "outputs": [],
   "source": []
  },
  {
   "cell_type": "code",
   "execution_count": null,
   "id": "37088f3a",
   "metadata": {},
   "outputs": [],
   "source": []
  },
  {
   "cell_type": "code",
   "execution_count": null,
   "id": "a387b9ff",
   "metadata": {},
   "outputs": [],
   "source": []
  },
  {
   "cell_type": "code",
   "execution_count": null,
   "id": "dac50b80",
   "metadata": {},
   "outputs": [],
   "source": []
  },
  {
   "cell_type": "code",
   "execution_count": null,
   "id": "5343eaec",
   "metadata": {},
   "outputs": [],
   "source": []
  },
  {
   "cell_type": "code",
   "execution_count": null,
   "id": "f284766c",
   "metadata": {},
   "outputs": [],
   "source": []
  },
  {
   "cell_type": "code",
   "execution_count": null,
   "id": "7d962ebc",
   "metadata": {},
   "outputs": [],
   "source": []
  },
  {
   "cell_type": "code",
   "execution_count": null,
   "id": "b1ffcfd3",
   "metadata": {},
   "outputs": [],
   "source": []
  },
  {
   "cell_type": "code",
   "execution_count": null,
   "id": "46c7baff",
   "metadata": {},
   "outputs": [],
   "source": []
  }
 ],
 "metadata": {
  "kernelspec": {
   "display_name": "Python 3 (ipykernel)",
   "language": "python",
   "name": "python3"
  },
  "language_info": {
   "codemirror_mode": {
    "name": "ipython",
    "version": 3
   },
   "file_extension": ".py",
   "mimetype": "text/x-python",
   "name": "python",
   "nbconvert_exporter": "python",
   "pygments_lexer": "ipython3",
   "version": "3.8.13"
  }
 },
 "nbformat": 4,
 "nbformat_minor": 5
}
