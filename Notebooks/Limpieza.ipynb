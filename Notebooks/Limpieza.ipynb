{
 "cells": [
  {
   "cell_type": "markdown",
   "id": "f3e2529f",
   "metadata": {},
   "source": [
    "# Comentarios"
   ]
  },
  {
   "cell_type": "markdown",
   "id": "0bb968e5",
   "metadata": {},
   "source": [
    "1. Se obtienen los rooms nulos o iguales a cero en primera instancia con expresiones regulares. No se obtienen primero con una media condicionada de la superficie cubierta y el lugar ya que es mas preciso obtenerlos con un dato directo del dataset"
   ]
  },
  {
   "cell_type": "markdown",
   "id": "28aee247",
   "metadata": {},
   "source": [
    " **Pasos a seguir:**\n",
    "1. Extraer precios y superficie con regex (terminado: refinar los patrones de busqueda para obtener mas datos)\n",
    "2. Obtener el precio a partir del precio cuadrado y la superficie (terminado : no matcheo nada con las condiciones... falta poner igualmente la imputacion)\n",
    "3. Obtener el precio de metro cuadrado (dolares y currency) mediante la otra variable y una conversion de moneda\n",
    "4. Imputar las superficies por medio del precio y el precio por metro cuadrado (terminado: no matcheo nada con las condiciones...falta poner igualmente la imputacion)\n",
    "5. Tomar placename+state name +cantidad de rooms sacar media condicionada para poner en surface\n",
    "6. Imputar los rooms de los que pudimos extraer con regex\n",
    "7. Una vez que imputamos la superficie y el precio, buscar el precio por m2"
   ]
  },
  {
   "cell_type": "code",
   "execution_count": 1,
   "id": "f0dac202",
   "metadata": {},
   "outputs": [],
   "source": [
    "# Tratar de inputar los precios que faltan por expresiones regulares con la columna description y title\n",
    "# Eliminar todas filas que todo es nulo (check)\n",
    "# Checar el tema de las superficies\n",
    "# Precios: unificar todos los precios a dolares\n",
    "# Hacer la multiplicacion de price por la superficie\n",
    "# Imputar superficies nulas por medias condicionadas por barrio o cantidad de rooms"
   ]
  },
  {
   "cell_type": "markdown",
   "id": "8a70b8d0",
   "metadata": {},
   "source": [
    "# **Estandarizacion de nombres de mascaras, dataset y demas:**\n",
    "- Al aplicarle una mascara a un dataset seria conveniente primero definir la mascara y en otra linea de codigo aplicarsela al dataset. Esto para que podamos ver bien que le estamos aplicando y que condiciones tiene esa mascara.\n",
    "- Ojo con utilizar mascaras o alguna otra variable, dataframe y demas, definida mucho mas arriba. No vaya a ser que le cambiemos el nombre por x motivo y nos ollvidamos que mas abajo la usamos para otra cosa y se rompa todo\n",
    "- Los nombres para las cosas que sean en ingles, separando las palabras con \" _ \" y en lo posible que se pueda intuir mediante el nombre a que se refiere\n",
    "- Como practica totalmente arbitraria intentar que los nombres no tengan mas de 5 palabras. ej: \" mask_rooms_zeros \" , \" mask_rooms_surf_zeros \" y asi\n",
    "- Si le llamamos \" mask \" a algo, que realmente lo sea. No que sea ya una mascara aplicada a un dataset. Eso es el dataset data filtrado por la mascara\n",
    "- A estos nuevos dataset llamemosle igual que la mascara que le aplicamos solo que reemplazamos el nombre mask por data. ej:  \" mask_rooms_zeros \"=  \" data_rooms_zeros \";                   \" data_rooms_surf_zeros \" = \" data_rooms_surf_zeros \"\n",
    "- Cuando creemos un nuevo dataset, un array, una lista, una serie, mascara o lo que sea poner primero el nombre del tipo de objeto y despues lo que hace, para saber lo que es eso\n",
    "- Cuando hacemos una mascara para ver si algo es nulo o cero ponemos solo \" null \". Es para no alargar los nombres\n",
    "\n"
   ]
  },
  {
   "cell_type": "markdown",
   "id": "4369e61d",
   "metadata": {},
   "source": [
    "### Criterios de analisis"
   ]
  },
  {
   "cell_type": "markdown",
   "id": "118c9a72",
   "metadata": {},
   "source": [
    "- Primero decidimos con que instancias del DataSet vamos a realizar el modelo. En una primera instancia esta decision va a estar basada unicamente en el porcentaje de instancias que representa cada state_name."
   ]
  },
  {
   "cell_type": "markdown",
   "id": "ab8645a5",
   "metadata": {},
   "source": [
    "# Importacion de librerias utilizadas"
   ]
  },
  {
   "cell_type": "code",
   "execution_count": 2,
   "id": "1322989e",
   "metadata": {},
   "outputs": [],
   "source": [
    "import pandas as pd\n",
    "import numpy as np\n",
    "import re"
   ]
  },
  {
   "cell_type": "markdown",
   "id": "c2ab0a37",
   "metadata": {},
   "source": [
    "# Carga de la data de Properatti como un DataFrame de Pandas"
   ]
  },
  {
   "cell_type": "code",
   "execution_count": 3,
   "id": "70a5cc83",
   "metadata": {},
   "outputs": [
    {
     "data": {
      "text/html": [
       "<div>\n",
       "<style scoped>\n",
       "    .dataframe tbody tr th:only-of-type {\n",
       "        vertical-align: middle;\n",
       "    }\n",
       "\n",
       "    .dataframe tbody tr th {\n",
       "        vertical-align: top;\n",
       "    }\n",
       "\n",
       "    .dataframe thead th {\n",
       "        text-align: right;\n",
       "    }\n",
       "</style>\n",
       "<table border=\"1\" class=\"dataframe\">\n",
       "  <thead>\n",
       "    <tr style=\"text-align: right;\">\n",
       "      <th></th>\n",
       "      <th>operation</th>\n",
       "      <th>property_type</th>\n",
       "      <th>place_name</th>\n",
       "      <th>place_with_parent_names</th>\n",
       "      <th>country_name</th>\n",
       "      <th>state_name</th>\n",
       "      <th>geonames_id</th>\n",
       "      <th>lat-lon</th>\n",
       "      <th>lat</th>\n",
       "      <th>lon</th>\n",
       "      <th>...</th>\n",
       "      <th>surface_covered_in_m2</th>\n",
       "      <th>price_usd_per_m2</th>\n",
       "      <th>price_per_m2</th>\n",
       "      <th>floor</th>\n",
       "      <th>rooms</th>\n",
       "      <th>expenses</th>\n",
       "      <th>properati_url</th>\n",
       "      <th>description</th>\n",
       "      <th>title</th>\n",
       "      <th>image_thumbnail</th>\n",
       "    </tr>\n",
       "  </thead>\n",
       "  <tbody>\n",
       "    <tr>\n",
       "      <th>0</th>\n",
       "      <td>sell</td>\n",
       "      <td>PH</td>\n",
       "      <td>Mataderos</td>\n",
       "      <td>|Argentina|Capital Federal|Mataderos|</td>\n",
       "      <td>Argentina</td>\n",
       "      <td>Capital Federal</td>\n",
       "      <td>3430787.0</td>\n",
       "      <td>-34.6618237,-58.5088387</td>\n",
       "      <td>-34.661824</td>\n",
       "      <td>-58.508839</td>\n",
       "      <td>...</td>\n",
       "      <td>40.0</td>\n",
       "      <td>1127.272727</td>\n",
       "      <td>1550.000000</td>\n",
       "      <td>NaN</td>\n",
       "      <td>NaN</td>\n",
       "      <td>NaN</td>\n",
       "      <td>http://www.properati.com.ar/15bo8_venta_ph_mat...</td>\n",
       "      <td>2 AMBIENTES TIPO CASA PLANTA BAJA POR PASILLO,...</td>\n",
       "      <td>2 AMB TIPO CASA SIN EXPENSAS EN PB</td>\n",
       "      <td>https://thumbs4.properati.com/8/BluUYiHJLhgIIK...</td>\n",
       "    </tr>\n",
       "    <tr>\n",
       "      <th>1</th>\n",
       "      <td>sell</td>\n",
       "      <td>apartment</td>\n",
       "      <td>La Plata</td>\n",
       "      <td>|Argentina|Bs.As. G.B.A. Zona Sur|La Plata|</td>\n",
       "      <td>Argentina</td>\n",
       "      <td>Bs.As. G.B.A. Zona Sur</td>\n",
       "      <td>3432039.0</td>\n",
       "      <td>-34.9038831,-57.9643295</td>\n",
       "      <td>-34.903883</td>\n",
       "      <td>-57.964330</td>\n",
       "      <td>...</td>\n",
       "      <td>NaN</td>\n",
       "      <td>NaN</td>\n",
       "      <td>NaN</td>\n",
       "      <td>NaN</td>\n",
       "      <td>NaN</td>\n",
       "      <td>NaN</td>\n",
       "      <td>http://www.properati.com.ar/15bob_venta_depart...</td>\n",
       "      <td>Venta de departamento en décimo piso al frente...</td>\n",
       "      <td>VENTA Depto 2 dorm. a estrenar 7 e/ 36 y 37   ...</td>\n",
       "      <td>https://thumbs4.properati.com/7/ikpVBu2ztHA7jv...</td>\n",
       "    </tr>\n",
       "    <tr>\n",
       "      <th>2</th>\n",
       "      <td>sell</td>\n",
       "      <td>apartment</td>\n",
       "      <td>Mataderos</td>\n",
       "      <td>|Argentina|Capital Federal|Mataderos|</td>\n",
       "      <td>Argentina</td>\n",
       "      <td>Capital Federal</td>\n",
       "      <td>3430787.0</td>\n",
       "      <td>-34.6522615,-58.5229825</td>\n",
       "      <td>-34.652262</td>\n",
       "      <td>-58.522982</td>\n",
       "      <td>...</td>\n",
       "      <td>55.0</td>\n",
       "      <td>1309.090909</td>\n",
       "      <td>1309.090909</td>\n",
       "      <td>NaN</td>\n",
       "      <td>NaN</td>\n",
       "      <td>NaN</td>\n",
       "      <td>http://www.properati.com.ar/15bod_venta_depart...</td>\n",
       "      <td>2 AMBIENTES 3ER PISO LATERAL LIVING COMEDOR AM...</td>\n",
       "      <td>2 AMB 3ER PISO CON ASCENSOR APTO CREDITO</td>\n",
       "      <td>https://thumbs4.properati.com/5/SXKr34F_IwG3W_...</td>\n",
       "    </tr>\n",
       "  </tbody>\n",
       "</table>\n",
       "<p>3 rows × 25 columns</p>\n",
       "</div>"
      ],
      "text/plain": [
       "  operation property_type place_name  \\\n",
       "0      sell            PH  Mataderos   \n",
       "1      sell     apartment   La Plata   \n",
       "2      sell     apartment  Mataderos   \n",
       "\n",
       "                       place_with_parent_names country_name  \\\n",
       "0        |Argentina|Capital Federal|Mataderos|    Argentina   \n",
       "1  |Argentina|Bs.As. G.B.A. Zona Sur|La Plata|    Argentina   \n",
       "2        |Argentina|Capital Federal|Mataderos|    Argentina   \n",
       "\n",
       "               state_name  geonames_id                  lat-lon        lat  \\\n",
       "0         Capital Federal    3430787.0  -34.6618237,-58.5088387 -34.661824   \n",
       "1  Bs.As. G.B.A. Zona Sur    3432039.0  -34.9038831,-57.9643295 -34.903883   \n",
       "2         Capital Federal    3430787.0  -34.6522615,-58.5229825 -34.652262   \n",
       "\n",
       "         lon  ...  surface_covered_in_m2 price_usd_per_m2  price_per_m2  \\\n",
       "0 -58.508839  ...                   40.0      1127.272727   1550.000000   \n",
       "1 -57.964330  ...                    NaN              NaN           NaN   \n",
       "2 -58.522982  ...                   55.0      1309.090909   1309.090909   \n",
       "\n",
       "   floor  rooms  expenses                                      properati_url  \\\n",
       "0    NaN    NaN       NaN  http://www.properati.com.ar/15bo8_venta_ph_mat...   \n",
       "1    NaN    NaN       NaN  http://www.properati.com.ar/15bob_venta_depart...   \n",
       "2    NaN    NaN       NaN  http://www.properati.com.ar/15bod_venta_depart...   \n",
       "\n",
       "                                         description  \\\n",
       "0  2 AMBIENTES TIPO CASA PLANTA BAJA POR PASILLO,...   \n",
       "1  Venta de departamento en décimo piso al frente...   \n",
       "2  2 AMBIENTES 3ER PISO LATERAL LIVING COMEDOR AM...   \n",
       "\n",
       "                                               title  \\\n",
       "0                 2 AMB TIPO CASA SIN EXPENSAS EN PB   \n",
       "1  VENTA Depto 2 dorm. a estrenar 7 e/ 36 y 37   ...   \n",
       "2           2 AMB 3ER PISO CON ASCENSOR APTO CREDITO   \n",
       "\n",
       "                                     image_thumbnail  \n",
       "0  https://thumbs4.properati.com/8/BluUYiHJLhgIIK...  \n",
       "1  https://thumbs4.properati.com/7/ikpVBu2ztHA7jv...  \n",
       "2  https://thumbs4.properati.com/5/SXKr34F_IwG3W_...  \n",
       "\n",
       "[3 rows x 25 columns]"
      ]
     },
     "execution_count": 3,
     "metadata": {},
     "output_type": "execute_result"
    }
   ],
   "source": [
    "data_location = \"../Data/properatti.csv\"\n",
    "\n",
    "data = pd.read_csv(data_location, index_col=0)\n",
    "data.head(3)"
   ]
  },
  {
   "cell_type": "markdown",
   "id": "969c32a8",
   "metadata": {},
   "source": [
    "# Renombro la columna lat-lon para evitar problemas"
   ]
  },
  {
   "cell_type": "code",
   "execution_count": 4,
   "id": "b139adad",
   "metadata": {},
   "outputs": [],
   "source": [
    "data.rename(columns={'lat-lon': 'lat_lon'}, inplace=True)"
   ]
  },
  {
   "cell_type": "markdown",
   "id": "24fc35ef",
   "metadata": {},
   "source": [
    "# Verificacion de instancias nulas"
   ]
  },
  {
   "cell_type": "code",
   "execution_count": 5,
   "id": "9d27b5e0",
   "metadata": {},
   "outputs": [
    {
     "name": "stdout",
     "output_type": "stream",
     "text": [
      "(121220, 25)\n",
      "(121220, 25)\n"
     ]
    }
   ],
   "source": [
    "# Comprobamos la cantidad de filas donde tengan valor nulo en todas las columnas y las eliminamos  \n",
    "data_clean_empty_row = data.dropna(axis = 0, how= 'all')\n",
    "print(data.shape)\n",
    "print(data_clean_empty_row.shape)\n",
    "#En este caso no hay ninguna fila con todos los valores nulos"
   ]
  },
  {
   "cell_type": "markdown",
   "id": "c02ea637",
   "metadata": {},
   "source": [
    "# Tratamiento de ceros en columnas"
   ]
  },
  {
   "cell_type": "markdown",
   "id": "74db149c",
   "metadata": {},
   "source": [
    "#### Dado que no hay ninguna variable que pueda tomar el valor cero, se van a reemplazar todos los valores ceros por NaN, para mejor tratamiento de los mismos"
   ]
  },
  {
   "cell_type": "code",
   "execution_count": 6,
   "id": "7fca8fc1",
   "metadata": {},
   "outputs": [
    {
     "data": {
      "text/plain": [
       "operation                       0\n",
       "property_type                   0\n",
       "place_name                      0\n",
       "place_with_parent_names         0\n",
       "country_name                    0\n",
       "state_name                      0\n",
       "geonames_id                     0\n",
       "lat_lon                         0\n",
       "lat                             0\n",
       "lon                             0\n",
       "price                           1\n",
       "currency                        0\n",
       "price_aprox_local_currency      1\n",
       "price_aprox_usd                 1\n",
       "surface_total_in_m2           383\n",
       "surface_covered_in_m2           2\n",
       "price_usd_per_m2                0\n",
       "price_per_m2                    0\n",
       "floor                           0\n",
       "rooms                           0\n",
       "expenses                        0\n",
       "properati_url                   0\n",
       "description                     0\n",
       "title                           0\n",
       "image_thumbnail                 0\n",
       "dtype: int64"
      ]
     },
     "execution_count": 6,
     "metadata": {},
     "output_type": "execute_result"
    }
   ],
   "source": [
    "# Cantidad totales de ceros en el dataset\n",
    "(data==0).sum()"
   ]
  },
  {
   "cell_type": "code",
   "execution_count": 7,
   "id": "3bebfcf6",
   "metadata": {},
   "outputs": [
    {
     "data": {
      "text/plain": [
       "operation                     0\n",
       "property_type                 0\n",
       "place_name                    0\n",
       "place_with_parent_names       0\n",
       "country_name                  0\n",
       "state_name                    0\n",
       "geonames_id                   0\n",
       "lat_lon                       0\n",
       "lat                           0\n",
       "lon                           0\n",
       "price                         0\n",
       "currency                      0\n",
       "price_aprox_local_currency    0\n",
       "price_aprox_usd               0\n",
       "surface_total_in_m2           0\n",
       "surface_covered_in_m2         0\n",
       "price_usd_per_m2              0\n",
       "price_per_m2                  0\n",
       "floor                         0\n",
       "rooms                         0\n",
       "expenses                      0\n",
       "properati_url                 0\n",
       "description                   0\n",
       "title                         0\n",
       "image_thumbnail               0\n",
       "dtype: int64"
      ]
     },
     "execution_count": 7,
     "metadata": {},
     "output_type": "execute_result"
    }
   ],
   "source": [
    "# Cambio valores iguales a cero por NaN\n",
    "data[data==0] = np.nan\n",
    "(data==0).sum()"
   ]
  },
  {
   "cell_type": "markdown",
   "id": "2705c687",
   "metadata": {},
   "source": [
    "# Tratamiento de columnas con informacion no util o con informacion redundante"
   ]
  },
  {
   "cell_type": "markdown",
   "id": "0cc6d511",
   "metadata": {},
   "source": [
    "## Tratamiento de columnas *properati_url* y *image_thumbnail*"
   ]
  },
  {
   "cell_type": "markdown",
   "id": "290fb860",
   "metadata": {},
   "source": [
    "#### Vamos a desechar las columnas *properati_url* y *image_thumbnail* ya que no aportan informacion util"
   ]
  },
  {
   "cell_type": "code",
   "execution_count": 8,
   "id": "42ebf21d",
   "metadata": {},
   "outputs": [
    {
     "name": "stdout",
     "output_type": "stream",
     "text": [
      "cantidad de columnas actuales= 23\n"
     ]
    }
   ],
   "source": [
    "# desechamos las columnas properati_url y image_thumbnail de data\n",
    "data = data.drop(['properati_url', 'image_thumbnail'], axis=1)\n",
    "print(\"cantidad de columnas actuales=\",data.shape[1])"
   ]
  },
  {
   "cell_type": "markdown",
   "id": "0451dda0",
   "metadata": {},
   "source": [
    "## Tratamiento de columnas *price* , *price_aprox_local_currency* y *price_aprox_usd* "
   ]
  },
  {
   "cell_type": "markdown",
   "id": "c58bc809",
   "metadata": {},
   "source": [
    "#### Vamos a quedarnos solo con la columna **price_aprox_usd** pudiendo desechar las columnas **price** y **price_aprox_local_currency** como asi tambien la columna **currency** ya que no aporta informacion adicional \n",
    "**Asumimos igual fiabilidad de los datos en las tres variables**"
   ]
  },
  {
   "cell_type": "code",
   "execution_count": 9,
   "id": "6ac5cd46",
   "metadata": {},
   "outputs": [
    {
     "name": "stdout",
     "output_type": "stream",
     "text": [
      "Cantidad de nulos en price=  20411\n",
      "cantidad de nulos en price_aprox_local_currency=  20411\n",
      "Cantida de nulos en price_aprox_usd=  20411\n",
      "Cantidad de nulos en la interseccion de las mascaras=  20411\n",
      "True\n"
     ]
    }
   ],
   "source": [
    "#Voy a verificar que no haya mas informacion en una columna que en las otras\n",
    "\n",
    "#Hago tres mascaras para las variables de precios que contengan los nulos de las mismas\n",
    "mask_price_null = data.price.isnull()\n",
    "mask_price_aprox_local_currency_null = data.price_aprox_local_currency.isnull()\n",
    "mask_price_aprox_usd_null = data.price_aprox_usd.isnull()\n",
    "\n",
    "#Hago una interseccion de las tres mascaras\n",
    "mask_prices_null = mask_price_null & mask_price_aprox_local_currency_null & mask_price_aprox_usd_null\n",
    "\n",
    "#Si las tres mascaras tienen cada una la misma cantidad de elementos que la interseccion significa que los nulos se encuentran siempre en las mismas instancias\n",
    "print(\"Cantidad de nulos en price= \" , mask_price_null.sum())\n",
    "print(\"cantidad de nulos en price_aprox_local_currency= \" , mask_price_aprox_local_currency_null.sum())\n",
    "print(\"Cantida de nulos en price_aprox_usd= \" , mask_price_aprox_usd_null.sum())\n",
    "print(\"Cantidad de nulos en la interseccion de las mascaras= \" , mask_prices_null.sum())\n",
    "\n",
    "#Devuelve un True si la cantidad de nulos es la misma en todas las mascaras por lo que la interseccion es perfecta\n",
    "print(mask_price_null.sum()==mask_price_aprox_local_currency_null.sum()==mask_price_aprox_usd_null.sum()==mask_prices_null.sum())"
   ]
  },
  {
   "cell_type": "code",
   "execution_count": 10,
   "id": "edde9d46",
   "metadata": {},
   "outputs": [
    {
     "name": "stdout",
     "output_type": "stream",
     "text": [
      "cantidad de columnas actuales=  20\n"
     ]
    }
   ],
   "source": [
    "#Desecho las columnas price, price_aprox_local_currency y currency\n",
    "data = data.drop(['price', 'price_aprox_local_currency' , 'currency'], axis=1)\n",
    "print(\"cantidad de columnas actuales= \",data.shape[1])"
   ]
  },
  {
   "cell_type": "markdown",
   "id": "6c601da3",
   "metadata": {},
   "source": [
    "## Tratamiento de columnas *price_usd_per_m2* y *price_per_m2*"
   ]
  },
  {
   "cell_type": "markdown",
   "id": "d7d795c3",
   "metadata": {},
   "source": [
    "#### Vamos a desechar la columna *price_per_m2* ya que es redundante con *price_usd_per_m2*\n",
    "**Asumimos igual fiabilidad de datos en ambas variables**"
   ]
  },
  {
   "cell_type": "code",
   "execution_count": 11,
   "id": "cfe93225",
   "metadata": {},
   "outputs": [
    {
     "name": "stdout",
     "output_type": "stream",
     "text": [
      "Cantidad de nulos en price_per_m2=  33562\n",
      "cantidad de nulos en price_usd_per_m2=  52603\n",
      "Cantidad de nulos en la interseccion de las mascaras=  28295\n",
      "False\n"
     ]
    }
   ],
   "source": [
    "#Voy a verificar que no haya mas informacion en una columna que en las otras\n",
    "\n",
    "#Hago dos mascaras para las variables de precios por metro cuadrado que contengan los nulos de las mismas\n",
    "mask_price_per_m2_null = data.price_per_m2.isnull()\n",
    "mask_price_usd_per_m2_null = data.price_usd_per_m2.isnull()\n",
    "\n",
    "#Hago una interseccion de las dos mascaras\n",
    "mask_prices_per_m2_null = mask_price_per_m2_null & mask_price_usd_per_m2_null \n",
    "\n",
    "#Si las tres mascaras tienen cada una la misma cantidad de elementos que la interseccion significa que los nulos se encuentran siempre en las mismas instancias\n",
    "print(\"Cantidad de nulos en price_per_m2= \" , mask_price_per_m2_null.sum())\n",
    "print(\"cantidad de nulos en price_usd_per_m2= \" , mask_price_usd_per_m2_null.sum())\n",
    "print(\"Cantidad de nulos en la interseccion de las mascaras= \" , mask_prices_per_m2_null.sum())\n",
    "\n",
    "#Devuelve un True si la cantidad de nulos es la misma en todas las mascaras por lo que la interseccion es perfecta\n",
    "print(mask_price_per_m2_null.sum()==mask_price_usd_per_m2_null.sum()==mask_prices_per_m2_null.sum())"
   ]
  },
  {
   "cell_type": "markdown",
   "id": "9ca1e596",
   "metadata": {},
   "source": [
    "#### Como hay mas informacion en una columna que en la otra, veo en que instancias es nula la columna price_usd_per_m2 pero no lo es la columna price_per_m2 (solamente lo hago en esta ya que es la columna con la que nos vamos a quedar)"
   ]
  },
  {
   "cell_type": "code",
   "execution_count": 12,
   "id": "8f7b8514",
   "metadata": {},
   "outputs": [
    {
     "data": {
      "text/html": [
       "<div>\n",
       "<style scoped>\n",
       "    .dataframe tbody tr th:only-of-type {\n",
       "        vertical-align: middle;\n",
       "    }\n",
       "\n",
       "    .dataframe tbody tr th {\n",
       "        vertical-align: top;\n",
       "    }\n",
       "\n",
       "    .dataframe thead th {\n",
       "        text-align: right;\n",
       "    }\n",
       "</style>\n",
       "<table border=\"1\" class=\"dataframe\">\n",
       "  <thead>\n",
       "    <tr style=\"text-align: right;\">\n",
       "      <th></th>\n",
       "      <th>price_usd_per_m2</th>\n",
       "      <th>price_per_m2</th>\n",
       "    </tr>\n",
       "  </thead>\n",
       "  <tbody>\n",
       "    <tr>\n",
       "      <th>68</th>\n",
       "      <td>NaN</td>\n",
       "      <td>3263.888889</td>\n",
       "    </tr>\n",
       "    <tr>\n",
       "      <th>77</th>\n",
       "      <td>NaN</td>\n",
       "      <td>1764.705882</td>\n",
       "    </tr>\n",
       "    <tr>\n",
       "      <th>79</th>\n",
       "      <td>NaN</td>\n",
       "      <td>2809.523810</td>\n",
       "    </tr>\n",
       "    <tr>\n",
       "      <th>87</th>\n",
       "      <td>NaN</td>\n",
       "      <td>5147.058824</td>\n",
       "    </tr>\n",
       "    <tr>\n",
       "      <th>89</th>\n",
       "      <td>NaN</td>\n",
       "      <td>943.396226</td>\n",
       "    </tr>\n",
       "    <tr>\n",
       "      <th>...</th>\n",
       "      <td>...</td>\n",
       "      <td>...</td>\n",
       "    </tr>\n",
       "    <tr>\n",
       "      <th>121150</th>\n",
       "      <td>NaN</td>\n",
       "      <td>1826.923077</td>\n",
       "    </tr>\n",
       "    <tr>\n",
       "      <th>121151</th>\n",
       "      <td>NaN</td>\n",
       "      <td>1666.666667</td>\n",
       "    </tr>\n",
       "    <tr>\n",
       "      <th>121152</th>\n",
       "      <td>NaN</td>\n",
       "      <td>2257.575758</td>\n",
       "    </tr>\n",
       "    <tr>\n",
       "      <th>121155</th>\n",
       "      <td>NaN</td>\n",
       "      <td>1307.692308</td>\n",
       "    </tr>\n",
       "    <tr>\n",
       "      <th>121156</th>\n",
       "      <td>NaN</td>\n",
       "      <td>1307.692308</td>\n",
       "    </tr>\n",
       "  </tbody>\n",
       "</table>\n",
       "<p>24308 rows × 2 columns</p>\n",
       "</div>"
      ],
      "text/plain": [
       "        price_usd_per_m2  price_per_m2\n",
       "68                   NaN   3263.888889\n",
       "77                   NaN   1764.705882\n",
       "79                   NaN   2809.523810\n",
       "87                   NaN   5147.058824\n",
       "89                   NaN    943.396226\n",
       "...                  ...           ...\n",
       "121150               NaN   1826.923077\n",
       "121151               NaN   1666.666667\n",
       "121152               NaN   2257.575758\n",
       "121155               NaN   1307.692308\n",
       "121156               NaN   1307.692308\n",
       "\n",
       "[24308 rows x 2 columns]"
      ]
     },
     "execution_count": 12,
     "metadata": {},
     "output_type": "execute_result"
    }
   ],
   "source": [
    "#Hago una mascara para ver cuando es nula la columna price_usd_per_m2 pero no lo es price_per_m2\n",
    "mask_prices_per_m2 = data.price_usd_per_m2.isnull() & data.price_per_m2.notnull()\n",
    "data_prices_per_m2 = data [mask_prices_per_m2]\n",
    "data_prices_per_m2[[\"price_usd_per_m2\" , \"price_per_m2\"]]"
   ]
  },
  {
   "cell_type": "code",
   "execution_count": 13,
   "id": "84ddc9f1",
   "metadata": {},
   "outputs": [],
   "source": [
    "#Realizo una imputacion en price_usd_per_m2 mediante price_per_m2\n",
    "\n",
    "#Defino una variable que contenga el valor de conversion de pesos a dolar\n",
    "pesos = 1/200\n",
    "\n",
    "#Imputo en price_usd_per_m2 el valor de price_per_m2 multiplicado por el valor de la conversion de pesos a dolar\n",
    "data.loc[data_prices_per_m2.index,\"price_usd_per_m2\"] = pesos *data.loc[data_prices_per_m2.index, \"price_per_m2\"]"
   ]
  },
  {
   "cell_type": "code",
   "execution_count": 14,
   "id": "7d1d974c",
   "metadata": {},
   "outputs": [
    {
     "name": "stdout",
     "output_type": "stream",
     "text": [
      "cantidad de columnas actuales=  19\n"
     ]
    }
   ],
   "source": [
    "#Desecho la columna price_per_m2\n",
    "data = data.drop(['price_per_m2'], axis=1)\n",
    "print(\"cantidad de columnas actuales= \",data.shape[1])"
   ]
  },
  {
   "cell_type": "markdown",
   "id": "b9bc7c9b",
   "metadata": {},
   "source": [
    "## Tratamiento de columnas *lat-lon*, *lat* y *lon*"
   ]
  },
  {
   "cell_type": "markdown",
   "id": "10eea7cb",
   "metadata": {},
   "source": [
    "#### Vamos a desechar la columna *lat-lon* ya que es redundante con las columnas *lat* y *lon*\n",
    "**Asumimos igual fiabilidad de datos en las tres variables**"
   ]
  },
  {
   "cell_type": "code",
   "execution_count": 15,
   "id": "2b4b341e",
   "metadata": {},
   "outputs": [
    {
     "name": "stdout",
     "output_type": "stream",
     "text": [
      "Cantidad de nulos en lat-lon=  51550\n",
      "cantidad de nulos en lat=  51550\n",
      "Cantida de nulos en lon=  51550\n",
      "Cantidad de nulos en la interseccion de las mascaras=  51550\n",
      "True\n"
     ]
    }
   ],
   "source": [
    "#Voy a verificar que no haya mas informacion en una columna que en las otras\n",
    "\n",
    "#Hago tres mascaras para las variables de latitud y longitud que contengan los nulos de las mismas\n",
    "mask_lat_lon_null = data.lat_lon.isnull()\n",
    "mask_lat_null = data.lat.isnull()\n",
    "mask_lon_null = data.lon.isnull()\n",
    "\n",
    "#Hago una interseccion de las tres mascaras\n",
    "mask_inter_lat_lon_null = mask_lat_lon_null & mask_lat_null & mask_lon_null\n",
    "\n",
    "#Si las tres mascaras tienen cada una la misma cantidad de elementos que la interseccion significa que los nulos se encuentran siempre en las mismas instancias\n",
    "print(\"Cantidad de nulos en lat-lon= \" , mask_lat_lon_null.sum())\n",
    "print(\"cantidad de nulos en lat= \" , mask_lat_null.sum())\n",
    "print(\"Cantida de nulos en lon= \" , mask_lon_null.sum())\n",
    "print(\"Cantidad de nulos en la interseccion de las mascaras= \" , mask_inter_lat_lon_null.sum())\n",
    "\n",
    "#Devuelve un True si la cantidad de nulos es la misma en todas las mascaras por lo que la interseccion es perfecta\n",
    "print(mask_lat_lon_null.sum()==mask_lat_null.sum()==mask_lon_null.sum()==mask_inter_lat_lon_null.sum())"
   ]
  },
  {
   "cell_type": "code",
   "execution_count": 16,
   "id": "6cb2a3bf",
   "metadata": {},
   "outputs": [
    {
     "name": "stdout",
     "output_type": "stream",
     "text": [
      "cantidad de columnas actuales=  18\n"
     ]
    }
   ],
   "source": [
    "#Desecho la columna lat_lon\n",
    "data = data.drop(['lat_lon'], axis=1)\n",
    "print(\"cantidad de columnas actuales= \",data.shape[1])"
   ]
  },
  {
   "cell_type": "markdown",
   "id": "104fd698",
   "metadata": {},
   "source": [
    "# Limpieza de datos"
   ]
  },
  {
   "cell_type": "markdown",
   "id": "5a38b092",
   "metadata": {},
   "source": [
    "# Analisis de instancias en funcion del state_name"
   ]
  },
  {
   "cell_type": "code",
   "execution_count": 17,
   "id": "589ef8aa",
   "metadata": {},
   "outputs": [
    {
     "data": {
      "text/plain": [
       "array(['Capital Federal', 'Bs.As. G.B.A. Zona Sur',\n",
       "       'Buenos Aires Costa Atlántica', 'Entre Ríos',\n",
       "       'Bs.As. G.B.A. Zona Norte', 'Santa Fe', 'Córdoba',\n",
       "       'Bs.As. G.B.A. Zona Oeste', 'Misiones', 'Buenos Aires Interior',\n",
       "       'Salta', 'Neuquén', 'Río Negro', 'San Luis', 'Mendoza',\n",
       "       'Corrientes', 'Chubut', 'Tucumán', 'La Pampa', 'Chaco', 'San Juan',\n",
       "       'Santa Cruz', 'Tierra Del Fuego', 'Catamarca',\n",
       "       'Santiago Del Estero', 'Jujuy', 'La Rioja', 'Formosa'],\n",
       "      dtype=object)"
      ]
     },
     "execution_count": 17,
     "metadata": {},
     "output_type": "execute_result"
    }
   ],
   "source": [
    "# Vemos todos los diferentes state_name que hay en el DataSet\n",
    "data.state_name.unique()"
   ]
  },
  {
   "cell_type": "code",
   "execution_count": 18,
   "id": "6f9208d8",
   "metadata": {},
   "outputs": [
    {
     "data": {
      "text/plain": [
       "Capital Federal                 32316\n",
       "Bs.As. G.B.A. Zona Norte        25560\n",
       "Bs.As. G.B.A. Zona Sur          13952\n",
       "Córdoba                         12069\n",
       "Santa Fe                        10172\n",
       "Buenos Aires Costa Atlántica    10006\n",
       "Bs.As. G.B.A. Zona Oeste         9322\n",
       "Buenos Aires Interior            2291\n",
       "Río Negro                         808\n",
       "Neuquén                           733\n",
       "Mendoza                           681\n",
       "Tucumán                           674\n",
       "Corrientes                        583\n",
       "Misiones                          464\n",
       "Entre Ríos                        369\n",
       "Salta                             278\n",
       "Chubut                            259\n",
       "San Luis                          252\n",
       "La Pampa                          157\n",
       "Formosa                            65\n",
       "Chaco                              57\n",
       "San Juan                           40\n",
       "Tierra Del Fuego                   31\n",
       "Catamarca                          27\n",
       "Jujuy                              26\n",
       "Santa Cruz                         20\n",
       "Santiago Del Estero                 4\n",
       "La Rioja                            4\n",
       "Name: state_name, dtype: int64"
      ]
     },
     "execution_count": 18,
     "metadata": {},
     "output_type": "execute_result"
    }
   ],
   "source": [
    "# Vemos la cantidad de instancias que tiene cada state_name\n",
    "state_name_distribution = pd.value_counts(data.state_name)\n",
    "state_name_distribution"
   ]
  },
  {
   "cell_type": "code",
   "execution_count": 19,
   "id": "b4126c5c",
   "metadata": {},
   "outputs": [
    {
     "data": {
      "text/plain": [
       "Capital Federal                 26.658967\n",
       "Bs.As. G.B.A. Zona Norte        21.085629\n",
       "Bs.As. G.B.A. Zona Sur          11.509652\n",
       "Córdoba                          9.956278\n",
       "Santa Fe                         8.391355\n",
       "Buenos Aires Costa Atlántica     8.254413\n",
       "Bs.As. G.B.A. Zona Oeste         7.690150\n",
       "Buenos Aires Interior            1.889952\n",
       "Río Negro                        0.666557\n",
       "Neuquén                          0.604686\n",
       "Mendoza                          0.561788\n",
       "Tucumán                          0.556014\n",
       "Corrientes                       0.480944\n",
       "Misiones                         0.382775\n",
       "Entre Ríos                       0.304405\n",
       "Salta                            0.229335\n",
       "Chubut                           0.213661\n",
       "San Luis                         0.207886\n",
       "La Pampa                         0.129517\n",
       "Formosa                          0.053622\n",
       "Chaco                            0.047022\n",
       "San Juan                         0.032998\n",
       "Tierra Del Fuego                 0.025573\n",
       "Catamarca                        0.022274\n",
       "Jujuy                            0.021449\n",
       "Santa Cruz                       0.016499\n",
       "Santiago Del Estero              0.003300\n",
       "La Rioja                         0.003300\n",
       "Name: state_name, dtype: float64"
      ]
     },
     "execution_count": 19,
     "metadata": {},
     "output_type": "execute_result"
    }
   ],
   "source": [
    "# Vemos los porcentajes de la distribucion de los datos por provincia\n",
    "total_data = data.shape[0]\n",
    "percentage_state_name = 100*state_name_distribution/total_data\n",
    "percentage_state_name"
   ]
  },
  {
   "cell_type": "markdown",
   "id": "75035985",
   "metadata": {},
   "source": [
    "### Tomamos la decision de desechar las instancias correspondientes a los *state_name* que representan < 1% del total de instancias."
   ]
  },
  {
   "cell_type": "code",
   "execution_count": 20,
   "id": "853dbef2",
   "metadata": {},
   "outputs": [
    {
     "name": "stdout",
     "output_type": "stream",
     "text": [
      "La muestra representa el 95.44% del total de los datos\n"
     ]
    },
    {
     "data": {
      "text/plain": [
       "Capital Federal                 26.66\n",
       "Bs.As. G.B.A. Zona Norte        21.09\n",
       "Bs.As. G.B.A. Zona Sur          11.51\n",
       "Córdoba                          9.96\n",
       "Santa Fe                         8.39\n",
       "Buenos Aires Costa Atlántica     8.25\n",
       "Bs.As. G.B.A. Zona Oeste         7.69\n",
       "Buenos Aires Interior            1.89\n",
       "Name: state_name, dtype: float64"
      ]
     },
     "execution_count": 20,
     "metadata": {},
     "output_type": "execute_result"
    }
   ],
   "source": [
    "# Tomamos la decision de quedarnos con los datos que son > 1%, que corresponden a Buenos Aires Interior paara arriba\n",
    "mask_1_percent = percentage_state_name > 1\n",
    "series_1_percent = percentage_state_name [mask_1_percent]\n",
    "print(f'La muestra representa el {round(series_1_percent.sum(), 2)}% del total de los datos')\n",
    "round(series_1_percent, 2)"
   ]
  },
  {
   "cell_type": "code",
   "execution_count": 21,
   "id": "4e0cd003",
   "metadata": {},
   "outputs": [
    {
     "data": {
      "text/html": [
       "<div>\n",
       "<style scoped>\n",
       "    .dataframe tbody tr th:only-of-type {\n",
       "        vertical-align: middle;\n",
       "    }\n",
       "\n",
       "    .dataframe tbody tr th {\n",
       "        vertical-align: top;\n",
       "    }\n",
       "\n",
       "    .dataframe thead th {\n",
       "        text-align: right;\n",
       "    }\n",
       "</style>\n",
       "<table border=\"1\" class=\"dataframe\">\n",
       "  <thead>\n",
       "    <tr style=\"text-align: right;\">\n",
       "      <th></th>\n",
       "      <th>operation</th>\n",
       "      <th>property_type</th>\n",
       "      <th>place_name</th>\n",
       "      <th>place_with_parent_names</th>\n",
       "      <th>country_name</th>\n",
       "      <th>state_name</th>\n",
       "      <th>geonames_id</th>\n",
       "      <th>lat</th>\n",
       "      <th>lon</th>\n",
       "      <th>price_aprox_usd</th>\n",
       "      <th>surface_total_in_m2</th>\n",
       "      <th>surface_covered_in_m2</th>\n",
       "      <th>price_usd_per_m2</th>\n",
       "      <th>floor</th>\n",
       "      <th>rooms</th>\n",
       "      <th>expenses</th>\n",
       "      <th>description</th>\n",
       "      <th>title</th>\n",
       "    </tr>\n",
       "  </thead>\n",
       "  <tbody>\n",
       "    <tr>\n",
       "      <th>0</th>\n",
       "      <td>sell</td>\n",
       "      <td>PH</td>\n",
       "      <td>Mataderos</td>\n",
       "      <td>|Argentina|Capital Federal|Mataderos|</td>\n",
       "      <td>Argentina</td>\n",
       "      <td>Capital Federal</td>\n",
       "      <td>3430787.0</td>\n",
       "      <td>-34.661824</td>\n",
       "      <td>-58.508839</td>\n",
       "      <td>62000.0</td>\n",
       "      <td>55.0</td>\n",
       "      <td>40.0</td>\n",
       "      <td>1127.272727</td>\n",
       "      <td>NaN</td>\n",
       "      <td>NaN</td>\n",
       "      <td>NaN</td>\n",
       "      <td>2 AMBIENTES TIPO CASA PLANTA BAJA POR PASILLO,...</td>\n",
       "      <td>2 AMB TIPO CASA SIN EXPENSAS EN PB</td>\n",
       "    </tr>\n",
       "    <tr>\n",
       "      <th>1</th>\n",
       "      <td>sell</td>\n",
       "      <td>apartment</td>\n",
       "      <td>La Plata</td>\n",
       "      <td>|Argentina|Bs.As. G.B.A. Zona Sur|La Plata|</td>\n",
       "      <td>Argentina</td>\n",
       "      <td>Bs.As. G.B.A. Zona Sur</td>\n",
       "      <td>3432039.0</td>\n",
       "      <td>-34.903883</td>\n",
       "      <td>-57.964330</td>\n",
       "      <td>150000.0</td>\n",
       "      <td>NaN</td>\n",
       "      <td>NaN</td>\n",
       "      <td>NaN</td>\n",
       "      <td>NaN</td>\n",
       "      <td>NaN</td>\n",
       "      <td>NaN</td>\n",
       "      <td>Venta de departamento en décimo piso al frente...</td>\n",
       "      <td>VENTA Depto 2 dorm. a estrenar 7 e/ 36 y 37   ...</td>\n",
       "    </tr>\n",
       "    <tr>\n",
       "      <th>2</th>\n",
       "      <td>sell</td>\n",
       "      <td>apartment</td>\n",
       "      <td>Mataderos</td>\n",
       "      <td>|Argentina|Capital Federal|Mataderos|</td>\n",
       "      <td>Argentina</td>\n",
       "      <td>Capital Federal</td>\n",
       "      <td>3430787.0</td>\n",
       "      <td>-34.652262</td>\n",
       "      <td>-58.522982</td>\n",
       "      <td>72000.0</td>\n",
       "      <td>55.0</td>\n",
       "      <td>55.0</td>\n",
       "      <td>1309.090909</td>\n",
       "      <td>NaN</td>\n",
       "      <td>NaN</td>\n",
       "      <td>NaN</td>\n",
       "      <td>2 AMBIENTES 3ER PISO LATERAL LIVING COMEDOR AM...</td>\n",
       "      <td>2 AMB 3ER PISO CON ASCENSOR APTO CREDITO</td>\n",
       "    </tr>\n",
       "    <tr>\n",
       "      <th>3</th>\n",
       "      <td>sell</td>\n",
       "      <td>PH</td>\n",
       "      <td>Liniers</td>\n",
       "      <td>|Argentina|Capital Federal|Liniers|</td>\n",
       "      <td>Argentina</td>\n",
       "      <td>Capital Federal</td>\n",
       "      <td>3431333.0</td>\n",
       "      <td>-34.647797</td>\n",
       "      <td>-58.516424</td>\n",
       "      <td>95000.0</td>\n",
       "      <td>NaN</td>\n",
       "      <td>NaN</td>\n",
       "      <td>NaN</td>\n",
       "      <td>NaN</td>\n",
       "      <td>NaN</td>\n",
       "      <td>NaN</td>\n",
       "      <td>PH 3 ambientes con patio. Hay 3 deptos en lote...</td>\n",
       "      <td>PH 3 amb. cfte. reciclado</td>\n",
       "    </tr>\n",
       "    <tr>\n",
       "      <th>4</th>\n",
       "      <td>sell</td>\n",
       "      <td>apartment</td>\n",
       "      <td>Centro</td>\n",
       "      <td>|Argentina|Buenos Aires Costa Atlántica|Mar de...</td>\n",
       "      <td>Argentina</td>\n",
       "      <td>Buenos Aires Costa Atlántica</td>\n",
       "      <td>3435548.0</td>\n",
       "      <td>-38.002626</td>\n",
       "      <td>-57.549447</td>\n",
       "      <td>64000.0</td>\n",
       "      <td>35.0</td>\n",
       "      <td>35.0</td>\n",
       "      <td>1828.571429</td>\n",
       "      <td>NaN</td>\n",
       "      <td>NaN</td>\n",
       "      <td>NaN</td>\n",
       "      <td>DEPARTAMENTO CON FANTÁSTICA ILUMINACIÓN NATURA...</td>\n",
       "      <td>DEPTO 2 AMB AL CONTRAFRENTE ZONA CENTRO/PLAZA ...</td>\n",
       "    </tr>\n",
       "    <tr>\n",
       "      <th>...</th>\n",
       "      <td>...</td>\n",
       "      <td>...</td>\n",
       "      <td>...</td>\n",
       "      <td>...</td>\n",
       "      <td>...</td>\n",
       "      <td>...</td>\n",
       "      <td>...</td>\n",
       "      <td>...</td>\n",
       "      <td>...</td>\n",
       "      <td>...</td>\n",
       "      <td>...</td>\n",
       "      <td>...</td>\n",
       "      <td>...</td>\n",
       "      <td>...</td>\n",
       "      <td>...</td>\n",
       "      <td>...</td>\n",
       "      <td>...</td>\n",
       "      <td>...</td>\n",
       "    </tr>\n",
       "    <tr>\n",
       "      <th>121215</th>\n",
       "      <td>sell</td>\n",
       "      <td>apartment</td>\n",
       "      <td>Belgrano</td>\n",
       "      <td>|Argentina|Capital Federal|Belgrano|</td>\n",
       "      <td>Argentina</td>\n",
       "      <td>Capital Federal</td>\n",
       "      <td>3436077.0</td>\n",
       "      <td>NaN</td>\n",
       "      <td>NaN</td>\n",
       "      <td>870000.0</td>\n",
       "      <td>113.0</td>\n",
       "      <td>93.0</td>\n",
       "      <td>7699.115044</td>\n",
       "      <td>NaN</td>\n",
       "      <td>NaN</td>\n",
       "      <td>10000.0</td>\n",
       "      <td>TORRE FORUM ALCORTA - MÁXIMA CATEGORÍA.Impecab...</td>\n",
       "      <td>Torre Forum Alcorta- Impecable 3 ambientes</td>\n",
       "    </tr>\n",
       "    <tr>\n",
       "      <th>121216</th>\n",
       "      <td>sell</td>\n",
       "      <td>house</td>\n",
       "      <td>Beccar</td>\n",
       "      <td>|Argentina|Bs.As. G.B.A. Zona Norte|San Isidro...</td>\n",
       "      <td>Argentina</td>\n",
       "      <td>Bs.As. G.B.A. Zona Norte</td>\n",
       "      <td>3436080.0</td>\n",
       "      <td>NaN</td>\n",
       "      <td>NaN</td>\n",
       "      <td>498000.0</td>\n",
       "      <td>360.0</td>\n",
       "      <td>360.0</td>\n",
       "      <td>1383.333333</td>\n",
       "      <td>NaN</td>\n",
       "      <td>NaN</td>\n",
       "      <td>NaN</td>\n",
       "      <td>Excelente e impecable casa en Venta en Las Lom...</td>\n",
       "      <td>Ruca Inmuebles | Venta | Lomas de San Isidro |...</td>\n",
       "    </tr>\n",
       "    <tr>\n",
       "      <th>121217</th>\n",
       "      <td>sell</td>\n",
       "      <td>apartment</td>\n",
       "      <td>Villa Urquiza</td>\n",
       "      <td>|Argentina|Capital Federal|Villa Urquiza|</td>\n",
       "      <td>Argentina</td>\n",
       "      <td>Capital Federal</td>\n",
       "      <td>3433775.0</td>\n",
       "      <td>-34.570639</td>\n",
       "      <td>-58.475596</td>\n",
       "      <td>131500.0</td>\n",
       "      <td>46.0</td>\n",
       "      <td>39.0</td>\n",
       "      <td>2858.695652</td>\n",
       "      <td>NaN</td>\n",
       "      <td>NaN</td>\n",
       "      <td>NaN</td>\n",
       "      <td>VENTA DEPARTAMENTO AMBIENTE DIVISIBLE A ESTREN...</td>\n",
       "      <td>VENTA DEPARTAMENTO AMBIENTE DIVISIBLE A ESTREN...</td>\n",
       "    </tr>\n",
       "    <tr>\n",
       "      <th>121218</th>\n",
       "      <td>sell</td>\n",
       "      <td>apartment</td>\n",
       "      <td>Plaza Colón</td>\n",
       "      <td>|Argentina|Buenos Aires Costa Atlántica|Mar de...</td>\n",
       "      <td>Argentina</td>\n",
       "      <td>Buenos Aires Costa Atlántica</td>\n",
       "      <td>NaN</td>\n",
       "      <td>NaN</td>\n",
       "      <td>NaN</td>\n",
       "      <td>95900.0</td>\n",
       "      <td>48.0</td>\n",
       "      <td>48.0</td>\n",
       "      <td>1997.916667</td>\n",
       "      <td>NaN</td>\n",
       "      <td>NaN</td>\n",
       "      <td>NaN</td>\n",
       "      <td>2 Amb al contrafrente,  luminoso. El departame...</td>\n",
       "      <td>2 amb. C/ dep. de servicio al contrafrente| Re...</td>\n",
       "    </tr>\n",
       "    <tr>\n",
       "      <th>121219</th>\n",
       "      <td>sell</td>\n",
       "      <td>apartment</td>\n",
       "      <td>Capital Federal</td>\n",
       "      <td>|Argentina|Capital Federal|</td>\n",
       "      <td>Argentina</td>\n",
       "      <td>Capital Federal</td>\n",
       "      <td>3433955.0</td>\n",
       "      <td>NaN</td>\n",
       "      <td>NaN</td>\n",
       "      <td>129000.0</td>\n",
       "      <td>77.0</td>\n",
       "      <td>77.0</td>\n",
       "      <td>1675.324675</td>\n",
       "      <td>NaN</td>\n",
       "      <td>NaN</td>\n",
       "      <td>3500.0</td>\n",
       "      <td>Departamento de 77 m2 apto profesional. Edific...</td>\n",
       "      <td>Departamento apto profesional en el Centro</td>\n",
       "    </tr>\n",
       "  </tbody>\n",
       "</table>\n",
       "<p>115688 rows × 18 columns</p>\n",
       "</div>"
      ],
      "text/plain": [
       "       operation property_type       place_name  \\\n",
       "0           sell            PH        Mataderos   \n",
       "1           sell     apartment         La Plata   \n",
       "2           sell     apartment        Mataderos   \n",
       "3           sell            PH          Liniers   \n",
       "4           sell     apartment           Centro   \n",
       "...          ...           ...              ...   \n",
       "121215      sell     apartment         Belgrano   \n",
       "121216      sell         house           Beccar   \n",
       "121217      sell     apartment    Villa Urquiza   \n",
       "121218      sell     apartment      Plaza Colón   \n",
       "121219      sell     apartment  Capital Federal   \n",
       "\n",
       "                                  place_with_parent_names country_name  \\\n",
       "0                   |Argentina|Capital Federal|Mataderos|    Argentina   \n",
       "1             |Argentina|Bs.As. G.B.A. Zona Sur|La Plata|    Argentina   \n",
       "2                   |Argentina|Capital Federal|Mataderos|    Argentina   \n",
       "3                     |Argentina|Capital Federal|Liniers|    Argentina   \n",
       "4       |Argentina|Buenos Aires Costa Atlántica|Mar de...    Argentina   \n",
       "...                                                   ...          ...   \n",
       "121215               |Argentina|Capital Federal|Belgrano|    Argentina   \n",
       "121216  |Argentina|Bs.As. G.B.A. Zona Norte|San Isidro...    Argentina   \n",
       "121217          |Argentina|Capital Federal|Villa Urquiza|    Argentina   \n",
       "121218  |Argentina|Buenos Aires Costa Atlántica|Mar de...    Argentina   \n",
       "121219                        |Argentina|Capital Federal|    Argentina   \n",
       "\n",
       "                          state_name  geonames_id        lat        lon  \\\n",
       "0                    Capital Federal    3430787.0 -34.661824 -58.508839   \n",
       "1             Bs.As. G.B.A. Zona Sur    3432039.0 -34.903883 -57.964330   \n",
       "2                    Capital Federal    3430787.0 -34.652262 -58.522982   \n",
       "3                    Capital Federal    3431333.0 -34.647797 -58.516424   \n",
       "4       Buenos Aires Costa Atlántica    3435548.0 -38.002626 -57.549447   \n",
       "...                              ...          ...        ...        ...   \n",
       "121215               Capital Federal    3436077.0        NaN        NaN   \n",
       "121216      Bs.As. G.B.A. Zona Norte    3436080.0        NaN        NaN   \n",
       "121217               Capital Federal    3433775.0 -34.570639 -58.475596   \n",
       "121218  Buenos Aires Costa Atlántica          NaN        NaN        NaN   \n",
       "121219               Capital Federal    3433955.0        NaN        NaN   \n",
       "\n",
       "        price_aprox_usd  surface_total_in_m2  surface_covered_in_m2  \\\n",
       "0               62000.0                 55.0                   40.0   \n",
       "1              150000.0                  NaN                    NaN   \n",
       "2               72000.0                 55.0                   55.0   \n",
       "3               95000.0                  NaN                    NaN   \n",
       "4               64000.0                 35.0                   35.0   \n",
       "...                 ...                  ...                    ...   \n",
       "121215         870000.0                113.0                   93.0   \n",
       "121216         498000.0                360.0                  360.0   \n",
       "121217         131500.0                 46.0                   39.0   \n",
       "121218          95900.0                 48.0                   48.0   \n",
       "121219         129000.0                 77.0                   77.0   \n",
       "\n",
       "        price_usd_per_m2  floor  rooms  expenses  \\\n",
       "0            1127.272727    NaN    NaN       NaN   \n",
       "1                    NaN    NaN    NaN       NaN   \n",
       "2            1309.090909    NaN    NaN       NaN   \n",
       "3                    NaN    NaN    NaN       NaN   \n",
       "4            1828.571429    NaN    NaN       NaN   \n",
       "...                  ...    ...    ...       ...   \n",
       "121215       7699.115044    NaN    NaN   10000.0   \n",
       "121216       1383.333333    NaN    NaN       NaN   \n",
       "121217       2858.695652    NaN    NaN       NaN   \n",
       "121218       1997.916667    NaN    NaN       NaN   \n",
       "121219       1675.324675    NaN    NaN    3500.0   \n",
       "\n",
       "                                              description  \\\n",
       "0       2 AMBIENTES TIPO CASA PLANTA BAJA POR PASILLO,...   \n",
       "1       Venta de departamento en décimo piso al frente...   \n",
       "2       2 AMBIENTES 3ER PISO LATERAL LIVING COMEDOR AM...   \n",
       "3       PH 3 ambientes con patio. Hay 3 deptos en lote...   \n",
       "4       DEPARTAMENTO CON FANTÁSTICA ILUMINACIÓN NATURA...   \n",
       "...                                                   ...   \n",
       "121215  TORRE FORUM ALCORTA - MÁXIMA CATEGORÍA.Impecab...   \n",
       "121216  Excelente e impecable casa en Venta en Las Lom...   \n",
       "121217  VENTA DEPARTAMENTO AMBIENTE DIVISIBLE A ESTREN...   \n",
       "121218  2 Amb al contrafrente,  luminoso. El departame...   \n",
       "121219  Departamento de 77 m2 apto profesional. Edific...   \n",
       "\n",
       "                                                    title  \n",
       "0                      2 AMB TIPO CASA SIN EXPENSAS EN PB  \n",
       "1       VENTA Depto 2 dorm. a estrenar 7 e/ 36 y 37   ...  \n",
       "2                2 AMB 3ER PISO CON ASCENSOR APTO CREDITO  \n",
       "3                            PH 3 amb. cfte. reciclado     \n",
       "4       DEPTO 2 AMB AL CONTRAFRENTE ZONA CENTRO/PLAZA ...  \n",
       "...                                                   ...  \n",
       "121215         Torre Forum Alcorta- Impecable 3 ambientes  \n",
       "121216  Ruca Inmuebles | Venta | Lomas de San Isidro |...  \n",
       "121217  VENTA DEPARTAMENTO AMBIENTE DIVISIBLE A ESTREN...  \n",
       "121218  2 amb. C/ dep. de servicio al contrafrente| Re...  \n",
       "121219         Departamento apto profesional en el Centro  \n",
       "\n",
       "[115688 rows x 18 columns]"
      ]
     },
     "execution_count": 21,
     "metadata": {},
     "output_type": "execute_result"
    }
   ],
   "source": [
    "# Con la mascara generada anteriormente para quedarnos con los state_names mayores a 1%, eliminamos las instancias que no corresponden a los state_names seleccionados\n",
    "data = data[data.state_name.isin(series_1_percent.index)]\n",
    "data"
   ]
  },
  {
   "cell_type": "markdown",
   "id": "60373f5c",
   "metadata": {},
   "source": [
    "# Analis preliminar del DataSet"
   ]
  },
  {
   "cell_type": "code",
   "execution_count": 22,
   "id": "43542021",
   "metadata": {},
   "outputs": [
    {
     "data": {
      "text/plain": [
       "operation                   object\n",
       "property_type               object\n",
       "place_name                  object\n",
       "place_with_parent_names     object\n",
       "country_name                object\n",
       "state_name                  object\n",
       "geonames_id                float64\n",
       "lat                        float64\n",
       "lon                        float64\n",
       "price_aprox_usd            float64\n",
       "surface_total_in_m2        float64\n",
       "surface_covered_in_m2      float64\n",
       "price_usd_per_m2           float64\n",
       "floor                      float64\n",
       "rooms                      float64\n",
       "expenses                   float64\n",
       "description                 object\n",
       "title                       object\n",
       "dtype: object"
      ]
     },
     "execution_count": 22,
     "metadata": {},
     "output_type": "execute_result"
    }
   ],
   "source": [
    "# Usamos dtypes para saber que tipo de datos se almacenan en el dataset\n",
    "data.dtypes"
   ]
  },
  {
   "cell_type": "code",
   "execution_count": 23,
   "id": "6dd29e15",
   "metadata": {},
   "outputs": [
    {
     "name": "stdout",
     "output_type": "stream",
     "text": [
      "operation                       0\n",
      "property_type                   0\n",
      "place_name                     23\n",
      "place_with_parent_names         0\n",
      "country_name                    0\n",
      "state_name                      0\n",
      "geonames_id                 18527\n",
      "lat                         48639\n",
      "lon                         48639\n",
      "price_aprox_usd             17871\n",
      "surface_total_in_m2         37437\n",
      "surface_covered_in_m2       17746\n",
      "price_usd_per_m2            25390\n",
      "floor                      108073\n",
      "rooms                       69989\n",
      "expenses                   101758\n",
      "description                     2\n",
      "title                           0\n",
      "dtype: int64\n"
     ]
    }
   ],
   "source": [
    "#Vemos cuantos valores nulos tenemos por columna\n",
    "is_null_result = data.isnull().sum()\n",
    "print(is_null_result)"
   ]
  },
  {
   "cell_type": "code",
   "execution_count": 24,
   "id": "cd91309c",
   "metadata": {},
   "outputs": [
    {
     "data": {
      "text/plain": [
       "operation                   0.000000\n",
       "property_type               0.000000\n",
       "place_name                  0.019881\n",
       "place_with_parent_names     0.000000\n",
       "country_name                0.000000\n",
       "state_name                  0.000000\n",
       "geonames_id                16.014626\n",
       "lat                        42.043254\n",
       "lon                        42.043254\n",
       "price_aprox_usd            15.447583\n",
       "surface_total_in_m2        32.360314\n",
       "surface_covered_in_m2      15.339534\n",
       "price_usd_per_m2           21.946961\n",
       "floor                      93.417641\n",
       "rooms                      60.498064\n",
       "expenses                   87.958993\n",
       "description                 0.001729\n",
       "title                       0.000000\n",
       "dtype: float64"
      ]
     },
     "execution_count": 24,
     "metadata": {},
     "output_type": "execute_result"
    }
   ],
   "source": [
    "#Vemos que porcentaje de nulos tiene cada columna\n",
    "percentage_null = 100*is_null_result/data.shape[0]\n",
    "percentage_null"
   ]
  },
  {
   "cell_type": "markdown",
   "id": "2554bb16",
   "metadata": {},
   "source": [
    "## Correccion de instancias que tienen surface_total_in_m2 < surface_covered_in_m2"
   ]
  },
  {
   "cell_type": "code",
   "execution_count": 25,
   "id": "14f34c9f",
   "metadata": {},
   "outputs": [],
   "source": [
    "# Vemos en que casos el valor surface_total_in_m2 es menor que el valor surface_covered_in_m2\n",
    "mask_surface = data.surface_total_in_m2 < data.surface_covered_in_m2\n",
    "data_surface = data[mask_surface]\n",
    "#Le asigno en funcion del index de data_surface, los valores de surface_total_in_m2 a surface_covered_in_m2 y viceversa\n",
    "data.loc[data_surface.index, \"surface_total_in_m2\"] = data_surface.loc[data_surface.index, \"surface_covered_in_m2\"]\n",
    "data.loc[data_surface.index, \"surface_covered_in_m2\"] = data_surface.loc[data_surface.index, \"surface_total_in_m2\"]"
   ]
  },
  {
   "cell_type": "markdown",
   "id": "a4c046d4",
   "metadata": {},
   "source": [
    "# Obtencion de datos con expresiones regulares de las columnas *description* y *title*"
   ]
  },
  {
   "cell_type": "markdown",
   "id": "0b1ea0b6",
   "metadata": {},
   "source": [
    "## Obtencion de rooms con expresiones regulares"
   ]
  },
  {
   "cell_type": "markdown",
   "id": "767f016e",
   "metadata": {},
   "source": [
    "##### *Se obtienen los rooms nulos o iguales a cero en primera instancia con expresiones regulares. No se obtienen primero con una media condicionada de la superficie cubierta y el lugar ya que es mas preciso obtenerlos con un dato directo del dataset*"
   ]
  },
  {
   "cell_type": "markdown",
   "id": "5ddaa95f",
   "metadata": {},
   "source": [
    "### Obtencion de rooms con expresion regular en *description*"
   ]
  },
  {
   "cell_type": "code",
   "execution_count": 26,
   "id": "998f130c",
   "metadata": {},
   "outputs": [
    {
     "data": {
      "text/plain": [
       "0         2 AMBIENTES TIPO CASA PLANTA BAJA POR PASILLO,...\n",
       "1         Venta de departamento en décimo piso al frente...\n",
       "2         2 AMBIENTES 3ER PISO LATERAL LIVING COMEDOR AM...\n",
       "3         PH 3 ambientes con patio. Hay 3 deptos en lote...\n",
       "4         DEPARTAMENTO CON FANTÁSTICA ILUMINACIÓN NATURA...\n",
       "                                ...                        \n",
       "121215    TORRE FORUM ALCORTA - MÁXIMA CATEGORÍA.Impecab...\n",
       "121216    Excelente e impecable casa en Venta en Las Lom...\n",
       "121217    VENTA DEPARTAMENTO AMBIENTE DIVISIBLE A ESTREN...\n",
       "121218    2 Amb al contrafrente,  luminoso. El departame...\n",
       "121219    Departamento de 77 m2 apto profesional. Edific...\n",
       "Name: description, Length: 69989, dtype: object"
      ]
     },
     "execution_count": 26,
     "metadata": {},
     "output_type": "execute_result"
    }
   ],
   "source": [
    "# Aplicamos al DataSet una mascara booleana que contenga nulos de rooms\n",
    "mask_rooms_null =  data.rooms.isnull()\n",
    "data_rooms_null = data [mask_rooms_null]\n",
    "series_rooms_null_description = data_rooms_null.description\n",
    "series_rooms_null_description"
   ]
  },
  {
   "cell_type": "code",
   "execution_count": 27,
   "id": "42334395",
   "metadata": {},
   "outputs": [
    {
     "name": "stderr",
     "output_type": "stream",
     "text": [
      "C:\\Users\\gtoso\\AppData\\Local\\Temp\\ipykernel_8224\\3915632214.py:5: DeprecationWarning: Flags not at the start of the expression '(?P<rooms>\\\\d+)\\\\s+(?i' (truncated)\n",
      "  pattern_rooms_regex = re.compile(pattern)\n"
     ]
    }
   ],
   "source": [
    "# Usamos expresiones regulares para sacar los rooms en descripcion\n",
    "# Creamos un patron que encuentra numeros de un digito o mas, que pueden o no tener un espacio antes de la combinacion de letras amb indistindo de mayusculas o minusculas\n",
    "#logica del patron: que tome un numero de un digito que solamente tenga detras uno o mas espacios y seguido de uno o mas espacios y las letras amb\n",
    "pattern = '(?P<rooms>\\d+)\\s+(?i)amb' \n",
    "pattern_rooms_regex = re.compile(pattern)"
   ]
  },
  {
   "cell_type": "code",
   "execution_count": 28,
   "id": "92d4a759",
   "metadata": {},
   "outputs": [
    {
     "name": "stdout",
     "output_type": "stream",
     "text": [
      "0         <re.Match object; span=(0, 5), match='2 AMB'>\n",
      "1                                                  None\n",
      "2         <re.Match object; span=(0, 5), match='2 AMB'>\n",
      "3         <re.Match object; span=(3, 8), match='3 amb'>\n",
      "4                                                  None\n",
      "                              ...                      \n",
      "121215                                             None\n",
      "121216                                             None\n",
      "121217                                             None\n",
      "121218    <re.Match object; span=(0, 5), match='2 Amb'>\n",
      "121219                                             None\n",
      "Name: description, Length: 69989, dtype: object\n"
     ]
    }
   ],
   "source": [
    "# Mostramos donde hay matches\n",
    "description_rooms_result = series_rooms_null_description.apply(lambda x: pattern_rooms_regex.search(str(x)))\n",
    "print(description_rooms_result)"
   ]
  },
  {
   "cell_type": "code",
   "execution_count": 29,
   "id": "f827fefa",
   "metadata": {},
   "outputs": [
    {
     "name": "stdout",
     "output_type": "stream",
     "text": [
      "0           2\n",
      "1         NaN\n",
      "2           2\n",
      "3           3\n",
      "4         NaN\n",
      "         ... \n",
      "121215    NaN\n",
      "121216    NaN\n",
      "121217    NaN\n",
      "121218      2\n",
      "121219    NaN\n",
      "Name: description, Length: 69989, dtype: object\n",
      "Rooms matcheados= 18608\n",
      "['2' nan '3' '1' '4' '7' '5' '6' '9' '2017' '103' '297' '072' '000' '11'\n",
      " '8' '085' '37' '800' '10' '12' '900' '0002' '400' '20174' '006' '17' '90'\n",
      " '0001' '772' '2004' '14' '24' '50' '20' '23' '65' '20173']\n"
     ]
    }
   ],
   "source": [
    "# Extraemos los datos que usaremos para la imputación (pongo que x sea cero cuando es none, ya que si me trae el valor None, no lo puedo pasar a float)\n",
    "description_rooms_match = description_rooms_result.apply(lambda x: np.nan if x is None else x.group('rooms'))\n",
    "print(description_rooms_match)\n",
    "\n",
    "print(\"Rooms matcheados=\",(description_rooms_match.notnull()).sum()) #aca veo que cantidad pudo matchear\n",
    "print(description_rooms_match.unique()) #aca veo todos los rooms unicos que matcheo"
   ]
  },
  {
   "cell_type": "code",
   "execution_count": 30,
   "id": "890bff96",
   "metadata": {},
   "outputs": [
    {
     "name": "stdout",
     "output_type": "stream",
     "text": [
      "       property_type rooms\n",
      "0                 PH     2\n",
      "1          apartment   NaN\n",
      "2          apartment     2\n",
      "3                 PH     3\n",
      "4          apartment   NaN\n",
      "...              ...   ...\n",
      "121215     apartment   NaN\n",
      "121216         house   NaN\n",
      "121217     apartment   NaN\n",
      "121218     apartment     2\n",
      "121219     apartment   NaN\n",
      "\n",
      "[115688 rows x 2 columns]\n"
     ]
    },
    {
     "data": {
      "text/plain": [
       "rooms    object\n",
       "dtype: object"
      ]
     },
     "execution_count": 30,
     "metadata": {},
     "output_type": "execute_result"
    }
   ],
   "source": [
    "# Imputamos la serie rooms_match con su index en el DataSet \n",
    "data.loc[description_rooms_match.index, \"rooms\"] = description_rooms_match \n",
    "print(data[[\"property_type\" , \"rooms\"]])\n",
    "data[[\"rooms\"]].dtypes"
   ]
  },
  {
   "cell_type": "markdown",
   "id": "fc2837b3",
   "metadata": {},
   "source": [
    "### Obtencion de rooms con expresion regular en *title*"
   ]
  },
  {
   "cell_type": "code",
   "execution_count": 31,
   "id": "4d82dd5c",
   "metadata": {},
   "outputs": [
    {
     "data": {
      "text/plain": [
       "1         VENTA Depto 2 dorm. a estrenar 7 e/ 36 y 37   ...\n",
       "4         DEPTO 2 AMB AL CONTRAFRENTE ZONA CENTRO/PLAZA ...\n",
       "6         MUY BUEN PH AL FRENTE DOS DORMITORIOS , PATIO,...\n",
       "7         JOSE HERNANDEZ 1400 MONOAMBIENTE  ESTRENAR CAT...\n",
       "8         JOSE HERNANDEZ   1400 DOS AMBIENTES ESTRENAR ,...\n",
       "                                ...                        \n",
       "121214                                   Local - San Isidro\n",
       "121215           Torre Forum Alcorta- Impecable 3 ambientes\n",
       "121216    Ruca Inmuebles | Venta | Lomas de San Isidro |...\n",
       "121217    VENTA DEPARTAMENTO AMBIENTE DIVISIBLE A ESTREN...\n",
       "121219           Departamento apto profesional en el Centro\n",
       "Name: title, Length: 51381, dtype: object"
      ]
     },
     "execution_count": 31,
     "metadata": {},
     "output_type": "execute_result"
    }
   ],
   "source": [
    "#Hacemos todo lo mismo que antes pero para obtener los rooms que se puedan de title\n",
    "# Aplicamos al DataSet una mascara booleana que contenga cero rooms\n",
    "mask_rooms_null = data.rooms.isnull()\n",
    "data_rooms_null = data [mask_rooms_null]\n",
    "series_rooms_null_title = data_rooms_null.title\n",
    "series_rooms_null_title"
   ]
  },
  {
   "cell_type": "code",
   "execution_count": 32,
   "id": "a8afd04d",
   "metadata": {},
   "outputs": [
    {
     "name": "stdout",
     "output_type": "stream",
     "text": [
      "1                                                    None\n",
      "4          <re.Match object; span=(6, 11), match='2 AMB'>\n",
      "6                                                    None\n",
      "7                                                    None\n",
      "8                                                    None\n",
      "                               ...                       \n",
      "121214                                               None\n",
      "121215    <re.Match object; span=(31, 36), match='3 amb'>\n",
      "121216                                               None\n",
      "121217                                               None\n",
      "121219                                               None\n",
      "Name: title, Length: 51381, dtype: object\n"
     ]
    }
   ],
   "source": [
    "title_rooms_result = series_rooms_null_title.apply(lambda x: pattern_rooms_regex.search(str(x)))\n",
    "print(title_rooms_result)"
   ]
  },
  {
   "cell_type": "code",
   "execution_count": 33,
   "id": "6821d4e1",
   "metadata": {},
   "outputs": [
    {
     "name": "stdout",
     "output_type": "stream",
     "text": [
      "1         NaN\n",
      "4           2\n",
      "6         NaN\n",
      "7         NaN\n",
      "8         NaN\n",
      "         ... \n",
      "121214    NaN\n",
      "121215      3\n",
      "121216    NaN\n",
      "121217    NaN\n",
      "121219    NaN\n",
      "Name: title, Length: 51381, dtype: object\n",
      "Rooms matcheados= 2505\n",
      "[nan '2' '6' '3' '4' '5' '9' '1' '7' '8' '15' '4000' '360' '12']\n"
     ]
    }
   ],
   "source": [
    "title_rooms_match = title_rooms_result.apply(lambda x: np.nan if x is None else x.group('rooms'))\n",
    "print(title_rooms_match)\n",
    "\n",
    "print(\"Rooms matcheados=\",(title_rooms_match.notnull()).sum()) #aca veo que cantidad pudo matchear\n",
    "print(title_rooms_match.unique()) #aca veo todos los rooms unicos que matcheo"
   ]
  },
  {
   "cell_type": "code",
   "execution_count": 34,
   "id": "cc143879",
   "metadata": {},
   "outputs": [
    {
     "name": "stdout",
     "output_type": "stream",
     "text": [
      "       property_type rooms\n",
      "0                 PH     2\n",
      "1          apartment   NaN\n",
      "2          apartment     2\n",
      "3                 PH     3\n",
      "4          apartment     2\n",
      "...              ...   ...\n",
      "121215     apartment     3\n",
      "121216         house   NaN\n",
      "121217     apartment   NaN\n",
      "121218     apartment     2\n",
      "121219     apartment   NaN\n",
      "\n",
      "[115688 rows x 2 columns]\n"
     ]
    },
    {
     "data": {
      "text/plain": [
       "rooms    object\n",
       "dtype: object"
      ]
     },
     "execution_count": 34,
     "metadata": {},
     "output_type": "execute_result"
    }
   ],
   "source": [
    "# Imputamos la serie rooms_match_title con su index en el DataSet \n",
    "data.loc[title_rooms_match.index, \"rooms\"] = title_rooms_match \n",
    "print(data[[\"property_type\" , \"rooms\"]])\n",
    "data[[\"rooms\"]].dtypes"
   ]
  },
  {
   "cell_type": "code",
   "execution_count": 35,
   "id": "c246e82f",
   "metadata": {},
   "outputs": [
    {
     "data": {
      "text/plain": [
       "rooms    float64\n",
       "dtype: object"
      ]
     },
     "execution_count": 35,
     "metadata": {},
     "output_type": "execute_result"
    }
   ],
   "source": [
    " #Cambio el tipo de dato de object a float para homogeneizarlo con los datos numericos que tenemos\n",
    "data[\"rooms\"] = data[\"rooms\"].astype(\"float\")\n",
    "data[[\"rooms\"]].dtypes"
   ]
  },
  {
   "cell_type": "markdown",
   "id": "fa0c5d4e",
   "metadata": {},
   "source": [
    "## Obtencion de surface_total_in_m2 con expresiones regulares"
   ]
  },
  {
   "cell_type": "markdown",
   "id": "4125899b",
   "metadata": {},
   "source": [
    "##### *Se obtienen la superficie en la que ambas superficies sean nulas y el precio y el precio por metro cuadrado es nulo o cero. De esta manera sabemos que no podemos imputar una superficie con la otra y no podemos inferir la superficie mediante el precio y el precio por metro cuadrado*"
   ]
  },
  {
   "cell_type": "markdown",
   "id": "ba22ce77",
   "metadata": {},
   "source": [
    "### Obtencion de surface_total_in_m2 con expresion regular en *description*"
   ]
  },
  {
   "cell_type": "code",
   "execution_count": 36,
   "id": "c39942ca",
   "metadata": {},
   "outputs": [
    {
     "name": "stdout",
     "output_type": "stream",
     "text": [
      "Cantidad de instancias en las que voy a buscar la superficie en title y descritpion=  11437\n"
     ]
    }
   ],
   "source": [
    "# Quiero ver que instancias son las que NO voy a poder imputar alguna superficie en funcion de otra u otras columnas de manera directa, por lo tanto lo tengo que obtener de expresiones regulares\n",
    "# Aplicamos al DataSet una mascara booleana que contenga nulo de surface_total_in_m2 ademas de nulo price_usd_per_m2\n",
    "surfaces_condition = data.surface_total_in_m2.isnull() & data.surface_covered_in_m2.isnull()\n",
    "price_condition = data.price_aprox_usd.isnull()\n",
    "price_per_m2_condition = data.price_usd_per_m2.isnull()\n",
    "\n",
    "mask_surface_total_in_m2_null = surfaces_condition & (price_condition | price_per_m2_condition)\n",
    "data_surface_total_in_m2_null = data [mask_surface_total_in_m2_null]\n",
    "\n",
    "series_surface_total_in_m2_null_description = data_surface_total_in_m2_null.description\n",
    "series_surface_total_in_m2_null_description\n",
    "\n",
    "print(\"Cantidad de instancias en las que voy a buscar la superficie en title y descritpion= \",data_surface_total_in_m2_null.shape[0])\n",
    "\n",
    "#Las instancias de data_prices_surfaces_prices_m2_null son las que tenemos que buscar en description y title buscando la superficie"
   ]
  },
  {
   "cell_type": "markdown",
   "id": "97fdb9ec",
   "metadata": {},
   "source": [
    "##### *Tomamos la decision de imputar unicamente el primer matcheo y en la columna de superficie total*"
   ]
  },
  {
   "cell_type": "code",
   "execution_count": 37,
   "id": "a022d119",
   "metadata": {},
   "outputs": [
    {
     "name": "stderr",
     "output_type": "stream",
     "text": [
      "C:\\Users\\gtoso\\AppData\\Local\\Temp\\ipykernel_8224\\2861351483.py:4: DeprecationWarning: Flags not at the start of the expression '(?P<surface_total_in' (truncated)\n",
      "  pattern_surface_total_in_m2_regex = re.compile(pattern)\n"
     ]
    }
   ],
   "source": [
    "# Usamos expresiones regulares para sacar la superficie en descripcion\n",
    "# Creamos un patron que encuentra numeros de un digito o mas, que pueden o no tener un espacio antes de la combinacion de letras m2 indistindo de mayusculas o minusculas\n",
    "pattern = '(?P<surface_total_in_m2>\\d+)\\s+(?i)m2' \n",
    "pattern_surface_total_in_m2_regex = re.compile(pattern)"
   ]
  },
  {
   "cell_type": "code",
   "execution_count": 38,
   "id": "e6492bb1",
   "metadata": {},
   "outputs": [
    {
     "name": "stdout",
     "output_type": "stream",
     "text": [
      "0         <re.Match object; span=(0, 5), match='2 AMB'>\n",
      "1                                                  None\n",
      "2         <re.Match object; span=(0, 5), match='2 AMB'>\n",
      "3         <re.Match object; span=(3, 8), match='3 amb'>\n",
      "4                                                  None\n",
      "                              ...                      \n",
      "121215                                             None\n",
      "121216                                             None\n",
      "121217                                             None\n",
      "121218    <re.Match object; span=(0, 5), match='2 Amb'>\n",
      "121219                                             None\n",
      "Name: description, Length: 69989, dtype: object\n"
     ]
    }
   ],
   "source": [
    "# Mostramos donde hay matches\n",
    "description_surface_total_in_m2_result = series_surface_total_in_m2_null_description.apply(lambda x: pattern_surface_total_in_m2_regex.search(str(x)))\n",
    "print(description_rooms_result)"
   ]
  },
  {
   "cell_type": "code",
   "execution_count": 39,
   "id": "7937012b",
   "metadata": {},
   "outputs": [
    {
     "name": "stdout",
     "output_type": "stream",
     "text": [
      "1         NaN\n",
      "3         NaN\n",
      "9         NaN\n",
      "11        NaN\n",
      "65        NaN\n",
      "         ... \n",
      "121070    NaN\n",
      "121079    NaN\n",
      "121101    NaN\n",
      "121134    124\n",
      "121144    NaN\n",
      "Name: description, Length: 11437, dtype: object\n",
      "surfaces matcheados= 1235\n"
     ]
    }
   ],
   "source": [
    "description_surface_total_in_m2_match = description_surface_total_in_m2_result.apply(lambda x: np.nan if x is None else x.group('surface_total_in_m2'))\n",
    "print(description_surface_total_in_m2_match)\n",
    "\n",
    "print(\"surfaces matcheados=\",(description_surface_total_in_m2_match.notnull()).sum()) #aca veo que cantidad pudo matchear"
   ]
  },
  {
   "cell_type": "code",
   "execution_count": 40,
   "id": "d5155013",
   "metadata": {},
   "outputs": [
    {
     "name": "stdout",
     "output_type": "stream",
     "text": [
      "       property_type surface_total_in_m2\n",
      "0                 PH                  55\n",
      "1          apartment                 NaN\n",
      "2          apartment                  55\n",
      "3                 PH                 NaN\n",
      "4          apartment                  35\n",
      "...              ...                 ...\n",
      "121215     apartment                 113\n",
      "121216         house                 360\n",
      "121217     apartment                  46\n",
      "121218     apartment                  48\n",
      "121219     apartment                  77\n",
      "\n",
      "[115688 rows x 2 columns]\n"
     ]
    },
    {
     "data": {
      "text/plain": [
       "surface_total_in_m2    object\n",
       "dtype: object"
      ]
     },
     "execution_count": 40,
     "metadata": {},
     "output_type": "execute_result"
    }
   ],
   "source": [
    "# Imputamos la serie description_surface_total_in_m2_match con su index en el DataSet \n",
    "data.loc[description_surface_total_in_m2_match.index, \"surface_total_in_m2\"] = description_surface_total_in_m2_match \n",
    "print(data[[\"property_type\" , \"surface_total_in_m2\"]])\n",
    "data[[\"surface_total_in_m2\"]].dtypes"
   ]
  },
  {
   "cell_type": "markdown",
   "id": "0887bd0f",
   "metadata": {},
   "source": [
    "### Obtencion de surface_total_in_m2 con expresion regular en *title*"
   ]
  },
  {
   "cell_type": "code",
   "execution_count": 41,
   "id": "ba2e6405",
   "metadata": {},
   "outputs": [
    {
     "data": {
      "text/plain": [
       "1         VENTA Depto 2 dorm. a estrenar 7 e/ 36 y 37   ...\n",
       "3                              PH 3 amb. cfte. reciclado   \n",
       "9                WHITE 7637 - 2 DORMITORIOS CON PATIO      \n",
       "11                                                  CHALET \n",
       "65                                 LOCAL COMERCIAL CON BAÑO\n",
       "                                ...                        \n",
       "121069                                   Casa - San Lorenzo\n",
       "121070                      Barrio Sarmiento - Rondeau 200.\n",
       "121079                             -Sarmiento- Rondeau 200.\n",
       "121101    Casa a estrenar en San Matias, 3 dormitorios y...\n",
       "121144    LA CASA DE TUS SUEÑOS!!! 3 DORM EN SANTINA NOR...\n",
       "Name: title, Length: 10202, dtype: object"
      ]
     },
     "execution_count": 41,
     "metadata": {},
     "output_type": "execute_result"
    }
   ],
   "source": [
    "# Realizo la misma mascara que para description\n",
    "# Aplicamos al DataSet una mascara booleana que contenga nulo de surface_total_in_m2 ademas de nulo price_usd_per_m2\n",
    "surfaces_condition = data.surface_total_in_m2.isnull() & data.surface_covered_in_m2.isnull()\n",
    "price_condition = data.price_aprox_usd.isnull()\n",
    "price_per_m2_condition = data.price_usd_per_m2.isnull()\n",
    "\n",
    "mask_surface_total_in_m2_null = surfaces_condition & (price_condition | price_per_m2_condition)\n",
    "data_surface_total_in_m2_null = data [mask_surface_total_in_m2_null]\n",
    "\n",
    "series_surface_total_in_m2_null_title = data_surface_total_in_m2_null.title\n",
    "series_surface_total_in_m2_null_title"
   ]
  },
  {
   "cell_type": "code",
   "execution_count": 42,
   "id": "40d34cf7",
   "metadata": {},
   "outputs": [
    {
     "name": "stdout",
     "output_type": "stream",
     "text": [
      "1         None\n",
      "3         None\n",
      "9         None\n",
      "11        None\n",
      "65        None\n",
      "          ... \n",
      "121069    None\n",
      "121070    None\n",
      "121079    None\n",
      "121101    None\n",
      "121144    None\n",
      "Name: title, Length: 10202, dtype: object\n"
     ]
    }
   ],
   "source": [
    "title_surface_total_in_m2_result = series_surface_total_in_m2_null_title.apply(lambda x: pattern_surface_total_in_m2_regex.search(str(x)))\n",
    "print(title_surface_total_in_m2_result)"
   ]
  },
  {
   "cell_type": "code",
   "execution_count": 43,
   "id": "ff77aa98",
   "metadata": {},
   "outputs": [
    {
     "name": "stdout",
     "output_type": "stream",
     "text": [
      "1         NaN\n",
      "3         NaN\n",
      "9         NaN\n",
      "11        NaN\n",
      "65        NaN\n",
      "         ... \n",
      "121069    NaN\n",
      "121070    NaN\n",
      "121079    NaN\n",
      "121101    NaN\n",
      "121144    NaN\n",
      "Name: title, Length: 10202, dtype: object\n",
      "surfaces matcheados=  20\n"
     ]
    }
   ],
   "source": [
    "title_surface_total_in_m2_match = title_surface_total_in_m2_result.apply(lambda x: np.nan if x is None else x.group('surface_total_in_m2'))\n",
    "print(title_surface_total_in_m2_match)\n",
    "\n",
    "print(\"surfaces matcheados= \",(title_surface_total_in_m2_match.notnull()).sum()) #aca veo que cantidad pudo matchear"
   ]
  },
  {
   "cell_type": "code",
   "execution_count": 44,
   "id": "ffd20ef2",
   "metadata": {},
   "outputs": [
    {
     "name": "stdout",
     "output_type": "stream",
     "text": [
      "       property_type surface_total_in_m2\n",
      "0                 PH                  55\n",
      "1          apartment                 NaN\n",
      "2          apartment                  55\n",
      "3                 PH                 NaN\n",
      "4          apartment                  35\n",
      "...              ...                 ...\n",
      "121215     apartment                 113\n",
      "121216         house                 360\n",
      "121217     apartment                  46\n",
      "121218     apartment                  48\n",
      "121219     apartment                  77\n",
      "\n",
      "[115688 rows x 2 columns]\n"
     ]
    },
    {
     "data": {
      "text/plain": [
       "surface_total_in_m2    object\n",
       "dtype: object"
      ]
     },
     "execution_count": 44,
     "metadata": {},
     "output_type": "execute_result"
    }
   ],
   "source": [
    "# Imputamos la serie description_surface_total_in_m2_match con su index en el DataSet \n",
    "data.loc[title_surface_total_in_m2_match.index, \"surface_total_in_m2\"] = title_surface_total_in_m2_match \n",
    "print(data[[\"property_type\" , \"surface_total_in_m2\"]])\n",
    "data[[\"surface_total_in_m2\"]].dtypes"
   ]
  },
  {
   "cell_type": "code",
   "execution_count": 45,
   "id": "07d78987",
   "metadata": {},
   "outputs": [
    {
     "data": {
      "text/plain": [
       "surface_total_in_m2    float64\n",
       "dtype: object"
      ]
     },
     "execution_count": 45,
     "metadata": {},
     "output_type": "execute_result"
    }
   ],
   "source": [
    "#Cambio el tipo de dato de object a float para homogeneizarlo con los datos numericos que tenemos\n",
    "data[\"surface_total_in_m2\"] = data[\"surface_total_in_m2\"].astype(\"float\")\n",
    "data[[\"surface_total_in_m2\"]].dtypes"
   ]
  },
  {
   "cell_type": "markdown",
   "id": "8905d817",
   "metadata": {},
   "source": [
    "## Obtencion de price mediante expresiones regulares"
   ]
  },
  {
   "cell_type": "markdown",
   "id": "d435656f",
   "metadata": {},
   "source": [
    "##### *Quiero obtener el price para las instancias en las que no tenemos price y price_aprox_local_currency y price_aprox_usd y tampoco tenemos surface_total_in_m2 y surface_total_in_m2 o no tenemos price_usd_per_m2 y price_per_m2 *"
   ]
  },
  {
   "cell_type": "markdown",
   "id": "4fd19423",
   "metadata": {},
   "source": [
    "### Obtencion de price con expresion regular en *description*"
   ]
  },
  {
   "cell_type": "code",
   "execution_count": 46,
   "id": "2223aa60",
   "metadata": {},
   "outputs": [
    {
     "data": {
      "text/plain": [
       "17871"
      ]
     },
     "execution_count": 46,
     "metadata": {},
     "output_type": "execute_result"
    }
   ],
   "source": [
    "# Quiero ver que instancias son las que NO voy a poder imputar algun price en funcion de otra u otras columnas de manera directa, por lo tanto lo tengo que obtener de expresiones regulares\n",
    "\n",
    "surface_condition = data.surface_total_in_m2.isnull() & data.surface_covered_in_m2.isnull()\n",
    "price_condition = data.price_aprox_usd.isnull()\n",
    "price_per_m2_condition = data.price_usd_per_m2.isnull()\n",
    "\n",
    "\n",
    "mask_price_null = price_condition & (price_per_m2_condition | surfaces_condition)\n",
    "data_price_null = data [mask_price_null]\n",
    "series_price_null_description = data_price_null.description\n",
    "series_price_null_description\n",
    "\n",
    "data_price_null.shape[0]\n",
    "\n",
    "#Las instancias de data_prices_surfaces_prices_m2_null son las que tenemos que buscar en description y title buscando el price"
   ]
  },
  {
   "cell_type": "code",
   "execution_count": 47,
   "id": "18458529",
   "metadata": {},
   "outputs": [
    {
     "name": "stderr",
     "output_type": "stream",
     "text": [
      "C:\\Users\\gtoso\\AppData\\Local\\Temp\\ipykernel_8224\\450940615.py:4: DeprecationWarning: Flags not at the start of the expression '(?P<price>\\\\d+)\\\\s+(?i' (truncated)\n",
      "  pattern_price_regex = re.compile(pattern)\n"
     ]
    }
   ],
   "source": [
    "# Usamos expresiones regulares para sacar la superficie en descripcion\n",
    "# Creamos un patron que encuentra numeros de un digito o mas, que pueden o no tener un espacio antes de la combinacion de letras m2 indistindo de mayusculas o minusculas\n",
    "pattern = '(?P<price>\\d+)\\s+(?i)usd' \n",
    "pattern_price_regex = re.compile(pattern)"
   ]
  },
  {
   "cell_type": "code",
   "execution_count": 48,
   "id": "62042220",
   "metadata": {},
   "outputs": [
    {
     "name": "stdout",
     "output_type": "stream",
     "text": [
      "20        None\n",
      "41        None\n",
      "62        None\n",
      "67        None\n",
      "76        None\n",
      "          ... \n",
      "121210    None\n",
      "121211    None\n",
      "121212    None\n",
      "121213    None\n",
      "121214    None\n",
      "Name: description, Length: 17871, dtype: object\n"
     ]
    }
   ],
   "source": [
    "# Mostramos donde hay matches\n",
    "description_price_result = series_price_null_description.apply(lambda x: pattern_price_regex.search(str(x)))\n",
    "print(description_price_result)"
   ]
  },
  {
   "cell_type": "code",
   "execution_count": 49,
   "id": "6fdfb51d",
   "metadata": {},
   "outputs": [
    {
     "name": "stdout",
     "output_type": "stream",
     "text": [
      "20        NaN\n",
      "41        NaN\n",
      "62        NaN\n",
      "67        NaN\n",
      "76        NaN\n",
      "         ... \n",
      "121210    NaN\n",
      "121211    NaN\n",
      "121212    NaN\n",
      "121213    NaN\n",
      "121214    NaN\n",
      "Name: description, Length: 17871, dtype: object\n",
      "price matcheados=  11\n"
     ]
    }
   ],
   "source": [
    "description_price_match = description_price_result.apply(lambda x: np.nan if x is None else x.group('price'))\n",
    "print(description_price_match)\n",
    "\n",
    "print(\"price matcheados= \",(description_price_match.notnull()).sum()) #aca veo que cantidad pudo matchear"
   ]
  },
  {
   "cell_type": "code",
   "execution_count": 50,
   "id": "152ec599",
   "metadata": {},
   "outputs": [
    {
     "name": "stdout",
     "output_type": "stream",
     "text": [
      "       property_type price\n",
      "0                 PH   NaN\n",
      "1          apartment   NaN\n",
      "2          apartment   NaN\n",
      "3                 PH   NaN\n",
      "4          apartment   NaN\n",
      "...              ...   ...\n",
      "121215     apartment   NaN\n",
      "121216         house   NaN\n",
      "121217     apartment   NaN\n",
      "121218     apartment   NaN\n",
      "121219     apartment   NaN\n",
      "\n",
      "[115688 rows x 2 columns]\n"
     ]
    },
    {
     "data": {
      "text/plain": [
       "price    object\n",
       "dtype: object"
      ]
     },
     "execution_count": 50,
     "metadata": {},
     "output_type": "execute_result"
    }
   ],
   "source": [
    "# Imputamos la serie description_surface_total_in_m2_match con su index en el DataSet \n",
    "data.loc[description_price_match.index, \"price\"] = description_price_match \n",
    "print(data[[\"property_type\" , \"price\"]])\n",
    "data[[\"price\"]].dtypes"
   ]
  },
  {
   "cell_type": "markdown",
   "id": "85b8c797",
   "metadata": {},
   "source": [
    "### Obtencion de price con expresion regular en *title*"
   ]
  },
  {
   "cell_type": "code",
   "execution_count": 51,
   "id": "67734a63",
   "metadata": {},
   "outputs": [
    {
     "data": {
      "text/plain": [
       "17871"
      ]
     },
     "execution_count": 51,
     "metadata": {},
     "output_type": "execute_result"
    }
   ],
   "source": [
    "# Quiero ver que instancias son las que NO voy a poder imputar algun price en funcion de otra u otras columnas de manera directa, por lo tanto lo tengo que obtener de expresiones regulares\n",
    "\n",
    "surface_condition = data.surface_total_in_m2.isnull() & data.surface_covered_in_m2.isnull()\n",
    "price_condition = data.price_aprox_usd.isnull()\n",
    "price_per_m2_condition = data.price_usd_per_m2.isnull()\n",
    "\n",
    "\n",
    "mask_price_null = price_condition & (price_per_m2_condition | surfaces_condition)\n",
    "data_price_null = data [mask_price_null]\n",
    "series_price_null_title = data_price_null.title\n",
    "series_price_null_title\n",
    "\n",
    "data_price_null.shape[0]\n",
    "\n",
    "#Las instancias de data_prices_surfaces_prices_m2_null son las que tenemos que buscar en title buscando el price"
   ]
  },
  {
   "cell_type": "code",
   "execution_count": 52,
   "id": "4a2b7bcd",
   "metadata": {},
   "outputs": [
    {
     "name": "stdout",
     "output_type": "stream",
     "text": [
      "20        None\n",
      "41        None\n",
      "62        None\n",
      "67        None\n",
      "76        None\n",
      "          ... \n",
      "121210    None\n",
      "121211    None\n",
      "121212    None\n",
      "121213    None\n",
      "121214    None\n",
      "Name: title, Length: 17871, dtype: object\n"
     ]
    }
   ],
   "source": [
    "title_price_result = series_price_null_title.apply(lambda x: pattern_price_regex.search(str(x)))\n",
    "print(title_price_result)"
   ]
  },
  {
   "cell_type": "code",
   "execution_count": 53,
   "id": "5c4faaad",
   "metadata": {},
   "outputs": [
    {
     "name": "stdout",
     "output_type": "stream",
     "text": [
      "20       NaN\n",
      "41       NaN\n",
      "62       NaN\n",
      "67       NaN\n",
      "76       NaN\n",
      "          ..\n",
      "121210   NaN\n",
      "121211   NaN\n",
      "121212   NaN\n",
      "121213   NaN\n",
      "121214   NaN\n",
      "Name: title, Length: 17871, dtype: float64\n",
      "price matcheados=  0\n"
     ]
    }
   ],
   "source": [
    "title_price_match = title_price_result.apply(lambda x: np.nan if x is None else x.group('price'))\n",
    "print(title_price_match)\n",
    "\n",
    "print(\"price matcheados= \",(title_price_match.notnull()).sum()) #aca veo que cantidad pudo matchear"
   ]
  },
  {
   "cell_type": "code",
   "execution_count": 54,
   "id": "eef8fdc5",
   "metadata": {},
   "outputs": [
    {
     "name": "stdout",
     "output_type": "stream",
     "text": [
      "       property_type price\n",
      "0                 PH   NaN\n",
      "1          apartment   NaN\n",
      "2          apartment   NaN\n",
      "3                 PH   NaN\n",
      "4          apartment   NaN\n",
      "...              ...   ...\n",
      "121215     apartment   NaN\n",
      "121216         house   NaN\n",
      "121217     apartment   NaN\n",
      "121218     apartment   NaN\n",
      "121219     apartment   NaN\n",
      "\n",
      "[115688 rows x 2 columns]\n"
     ]
    },
    {
     "data": {
      "text/plain": [
       "price    object\n",
       "dtype: object"
      ]
     },
     "execution_count": 54,
     "metadata": {},
     "output_type": "execute_result"
    }
   ],
   "source": [
    "# Imputamos la serie description_surface_total_in_m2_match con su index en el DataSet \n",
    "data.loc[title_price_match.index, \"price\"] = title_price_match \n",
    "print(data[[\"property_type\" , \"price\"]])\n",
    "data[[\"price\"]].dtypes"
   ]
  },
  {
   "cell_type": "code",
   "execution_count": 55,
   "id": "9428fb0a",
   "metadata": {},
   "outputs": [
    {
     "data": {
      "text/plain": [
       "price    float64\n",
       "dtype: object"
      ]
     },
     "execution_count": 55,
     "metadata": {},
     "output_type": "execute_result"
    }
   ],
   "source": [
    "#Cambio el tipo de dato de object a float para homogeneizarlo con los datos numericos que tenemos\n",
    "data[\"price\"] = data[\"price\"].astype(\"float\")\n",
    "data[[\"price\"]].dtypes"
   ]
  },
  {
   "cell_type": "markdown",
   "id": "a298e799",
   "metadata": {},
   "source": [
    "# Obtencion de datos mediante imputacion directa"
   ]
  },
  {
   "cell_type": "markdown",
   "id": "0840a5ea",
   "metadata": {},
   "source": [
    "## Obtencion de place_name mediante imputacion directa"
   ]
  },
  {
   "cell_type": "code",
   "execution_count": 56,
   "id": "d6613ac9",
   "metadata": {},
   "outputs": [
    {
     "data": {
      "text/html": [
       "<div>\n",
       "<style scoped>\n",
       "    .dataframe tbody tr th:only-of-type {\n",
       "        vertical-align: middle;\n",
       "    }\n",
       "\n",
       "    .dataframe tbody tr th {\n",
       "        vertical-align: top;\n",
       "    }\n",
       "\n",
       "    .dataframe thead th {\n",
       "        text-align: right;\n",
       "    }\n",
       "</style>\n",
       "<table border=\"1\" class=\"dataframe\">\n",
       "  <thead>\n",
       "    <tr style=\"text-align: right;\">\n",
       "      <th></th>\n",
       "      <th>operation</th>\n",
       "      <th>property_type</th>\n",
       "      <th>place_name</th>\n",
       "      <th>place_with_parent_names</th>\n",
       "      <th>country_name</th>\n",
       "      <th>state_name</th>\n",
       "      <th>geonames_id</th>\n",
       "      <th>lat</th>\n",
       "      <th>lon</th>\n",
       "      <th>price_aprox_usd</th>\n",
       "      <th>surface_total_in_m2</th>\n",
       "      <th>surface_covered_in_m2</th>\n",
       "      <th>price_usd_per_m2</th>\n",
       "      <th>floor</th>\n",
       "      <th>rooms</th>\n",
       "      <th>expenses</th>\n",
       "      <th>description</th>\n",
       "      <th>title</th>\n",
       "      <th>price</th>\n",
       "    </tr>\n",
       "  </thead>\n",
       "  <tbody>\n",
       "    <tr>\n",
       "      <th>6489</th>\n",
       "      <td>sell</td>\n",
       "      <td>house</td>\n",
       "      <td>NaN</td>\n",
       "      <td>|Argentina|Bs.As. G.B.A. Zona Norte|Tigre||</td>\n",
       "      <td>Argentina</td>\n",
       "      <td>Bs.As. G.B.A. Zona Norte</td>\n",
       "      <td>NaN</td>\n",
       "      <td>-34.400897</td>\n",
       "      <td>-58.638098</td>\n",
       "      <td>650000.0</td>\n",
       "      <td>240.0</td>\n",
       "      <td>240.0</td>\n",
       "      <td>2708.333333</td>\n",
       "      <td>NaN</td>\n",
       "      <td>NaN</td>\n",
       "      <td>NaN</td>\n",
       "      <td>Espectacular casa moderna de una planta, con a...</td>\n",
       "      <td>Venta de casa en Santa María de Tigre</td>\n",
       "      <td>NaN</td>\n",
       "    </tr>\n",
       "    <tr>\n",
       "      <th>10201</th>\n",
       "      <td>sell</td>\n",
       "      <td>house</td>\n",
       "      <td>NaN</td>\n",
       "      <td>|Argentina|Bs.As. G.B.A. Zona Norte|Tigre||</td>\n",
       "      <td>Argentina</td>\n",
       "      <td>Bs.As. G.B.A. Zona Norte</td>\n",
       "      <td>NaN</td>\n",
       "      <td>-34.400704</td>\n",
       "      <td>-58.638067</td>\n",
       "      <td>535000.0</td>\n",
       "      <td>NaN</td>\n",
       "      <td>300.0</td>\n",
       "      <td>8.916667</td>\n",
       "      <td>NaN</td>\n",
       "      <td>5.0</td>\n",
       "      <td>NaN</td>\n",
       "      <td>Corredor Responsable: SABRINA COCCONI - CSI 62...</td>\n",
       "      <td>VENTA CASA SANTA MARÍA DE TIGRE COUNTRY BARRIO...</td>\n",
       "      <td>NaN</td>\n",
       "    </tr>\n",
       "    <tr>\n",
       "      <th>11451</th>\n",
       "      <td>sell</td>\n",
       "      <td>house</td>\n",
       "      <td>NaN</td>\n",
       "      <td>|Argentina|Bs.As. G.B.A. Zona Norte|Tigre||</td>\n",
       "      <td>Argentina</td>\n",
       "      <td>Bs.As. G.B.A. Zona Norte</td>\n",
       "      <td>NaN</td>\n",
       "      <td>-34.402688</td>\n",
       "      <td>-58.626261</td>\n",
       "      <td>550000.0</td>\n",
       "      <td>2170.0</td>\n",
       "      <td>270.0</td>\n",
       "      <td>253.456221</td>\n",
       "      <td>NaN</td>\n",
       "      <td>NaN</td>\n",
       "      <td>NaN</td>\n",
       "      <td>MUY LINDA CASA EN EXCELENTE UBICACION!! Superf...</td>\n",
       "      <td>SANTA MARIA DE TIGRE IMPECABLE</td>\n",
       "      <td>NaN</td>\n",
       "    </tr>\n",
       "    <tr>\n",
       "      <th>14839</th>\n",
       "      <td>sell</td>\n",
       "      <td>house</td>\n",
       "      <td>NaN</td>\n",
       "      <td>|Argentina|Bs.As. G.B.A. Zona Norte|Tigre||</td>\n",
       "      <td>Argentina</td>\n",
       "      <td>Bs.As. G.B.A. Zona Norte</td>\n",
       "      <td>NaN</td>\n",
       "      <td>-34.400799</td>\n",
       "      <td>-58.638174</td>\n",
       "      <td>480000.0</td>\n",
       "      <td>240.0</td>\n",
       "      <td>200.0</td>\n",
       "      <td>2000.000000</td>\n",
       "      <td>NaN</td>\n",
       "      <td>NaN</td>\n",
       "      <td>NaN</td>\n",
       "      <td>Muy linda casa de estilo clásico.-Planta baja;...</td>\n",
       "      <td>Venta de casa en Santa María de Tigre</td>\n",
       "      <td>NaN</td>\n",
       "    </tr>\n",
       "    <tr>\n",
       "      <th>18622</th>\n",
       "      <td>sell</td>\n",
       "      <td>house</td>\n",
       "      <td>NaN</td>\n",
       "      <td>|Argentina|Bs.As. G.B.A. Zona Norte|Tigre||</td>\n",
       "      <td>Argentina</td>\n",
       "      <td>Bs.As. G.B.A. Zona Norte</td>\n",
       "      <td>NaN</td>\n",
       "      <td>-34.403278</td>\n",
       "      <td>-58.626350</td>\n",
       "      <td>1297000.0</td>\n",
       "      <td>340.0</td>\n",
       "      <td>340.0</td>\n",
       "      <td>3814.705882</td>\n",
       "      <td>NaN</td>\n",
       "      <td>NaN</td>\n",
       "      <td>NaN</td>\n",
       "      <td>Casa con increible vista al lago con playa de...</td>\n",
       "      <td>Casa con increible vista al lago con playa y m...</td>\n",
       "      <td>NaN</td>\n",
       "    </tr>\n",
       "    <tr>\n",
       "      <th>21922</th>\n",
       "      <td>sell</td>\n",
       "      <td>house</td>\n",
       "      <td>NaN</td>\n",
       "      <td>|Argentina|Bs.As. G.B.A. Zona Norte|Tigre||</td>\n",
       "      <td>Argentina</td>\n",
       "      <td>Bs.As. G.B.A. Zona Norte</td>\n",
       "      <td>NaN</td>\n",
       "      <td>-34.399704</td>\n",
       "      <td>-58.638405</td>\n",
       "      <td>440000.0</td>\n",
       "      <td>NaN</td>\n",
       "      <td>220.0</td>\n",
       "      <td>10.000000</td>\n",
       "      <td>NaN</td>\n",
       "      <td>5.0</td>\n",
       "      <td>NaN</td>\n",
       "      <td>Corredor Responsable: Matias Castelli - CUCICB...</td>\n",
       "      <td>Venta Casa - Barrio Santa Maria de Tigre</td>\n",
       "      <td>NaN</td>\n",
       "    </tr>\n",
       "    <tr>\n",
       "      <th>23664</th>\n",
       "      <td>sell</td>\n",
       "      <td>house</td>\n",
       "      <td>NaN</td>\n",
       "      <td>|Argentina|Bs.As. G.B.A. Zona Norte|Tigre||</td>\n",
       "      <td>Argentina</td>\n",
       "      <td>Bs.As. G.B.A. Zona Norte</td>\n",
       "      <td>NaN</td>\n",
       "      <td>-34.400516</td>\n",
       "      <td>-58.641800</td>\n",
       "      <td>480000.0</td>\n",
       "      <td>294.0</td>\n",
       "      <td>294.0</td>\n",
       "      <td>1632.653061</td>\n",
       "      <td>NaN</td>\n",
       "      <td>NaN</td>\n",
       "      <td>NaN</td>\n",
       "      <td>EXCELENTE CASA CLASICA con grandes ventanas y ...</td>\n",
       "      <td>CASA EN VENTA EN SANTA MARIA DE TIGRE CON RENTA</td>\n",
       "      <td>NaN</td>\n",
       "    </tr>\n",
       "    <tr>\n",
       "      <th>24722</th>\n",
       "      <td>sell</td>\n",
       "      <td>house</td>\n",
       "      <td>NaN</td>\n",
       "      <td>|Argentina|Bs.As. G.B.A. Zona Norte|Tigre||</td>\n",
       "      <td>Argentina</td>\n",
       "      <td>Bs.As. G.B.A. Zona Norte</td>\n",
       "      <td>NaN</td>\n",
       "      <td>-34.400729</td>\n",
       "      <td>-58.637778</td>\n",
       "      <td>530000.0</td>\n",
       "      <td>316.0</td>\n",
       "      <td>270.0</td>\n",
       "      <td>1677.215190</td>\n",
       "      <td>NaN</td>\n",
       "      <td>NaN</td>\n",
       "      <td>NaN</td>\n",
       "      <td>EN EXCLUSIVIDAD!!!!!!Lindísima casa, muy lumin...</td>\n",
       "      <td>Venta de casa en Santa María de Tigre</td>\n",
       "      <td>NaN</td>\n",
       "    </tr>\n",
       "    <tr>\n",
       "      <th>38856</th>\n",
       "      <td>sell</td>\n",
       "      <td>house</td>\n",
       "      <td>NaN</td>\n",
       "      <td>|Argentina|Bs.As. G.B.A. Zona Norte|Tigre||</td>\n",
       "      <td>Argentina</td>\n",
       "      <td>Bs.As. G.B.A. Zona Norte</td>\n",
       "      <td>NaN</td>\n",
       "      <td>-34.425087</td>\n",
       "      <td>-58.579659</td>\n",
       "      <td>1350000.0</td>\n",
       "      <td>NaN</td>\n",
       "      <td>550.0</td>\n",
       "      <td>12.272727</td>\n",
       "      <td>NaN</td>\n",
       "      <td>NaN</td>\n",
       "      <td>NaN</td>\n",
       "      <td>SANTA MARIA DE TIGRE- AL RIO - ESPECTACULAR CA...</td>\n",
       "      <td>Casa (barrio cerrado), Venta</td>\n",
       "      <td>NaN</td>\n",
       "    </tr>\n",
       "    <tr>\n",
       "      <th>45970</th>\n",
       "      <td>sell</td>\n",
       "      <td>apartment</td>\n",
       "      <td>NaN</td>\n",
       "      <td>|Argentina|Bs.As. G.B.A. Zona Norte|Tigre||</td>\n",
       "      <td>Argentina</td>\n",
       "      <td>Bs.As. G.B.A. Zona Norte</td>\n",
       "      <td>NaN</td>\n",
       "      <td>-34.396074</td>\n",
       "      <td>-58.637380</td>\n",
       "      <td>95000.0</td>\n",
       "      <td>55.0</td>\n",
       "      <td>27.0</td>\n",
       "      <td>1727.272727</td>\n",
       "      <td>NaN</td>\n",
       "      <td>1.0</td>\n",
       "      <td>NaN</td>\n",
       "      <td>EDIFICIO ZERENA – EL PALMAR, NORDELTA. Torre 2...</td>\n",
       "      <td>Excelente monoambiente. Barrio El Palmar.  Con...</td>\n",
       "      <td>NaN</td>\n",
       "    </tr>\n",
       "    <tr>\n",
       "      <th>46642</th>\n",
       "      <td>sell</td>\n",
       "      <td>house</td>\n",
       "      <td>NaN</td>\n",
       "      <td>|Argentina|Bs.As. G.B.A. Zona Norte|Tigre||</td>\n",
       "      <td>Argentina</td>\n",
       "      <td>Bs.As. G.B.A. Zona Norte</td>\n",
       "      <td>NaN</td>\n",
       "      <td>-34.400749</td>\n",
       "      <td>-58.638754</td>\n",
       "      <td>1470000.0</td>\n",
       "      <td>NaN</td>\n",
       "      <td>20.0</td>\n",
       "      <td>367.500000</td>\n",
       "      <td>NaN</td>\n",
       "      <td>6.0</td>\n",
       "      <td>NaN</td>\n",
       "      <td>Corredor Responsable: Matias Castelli - CUCICB...</td>\n",
       "      <td>Venta de Casa al rio</td>\n",
       "      <td>NaN</td>\n",
       "    </tr>\n",
       "    <tr>\n",
       "      <th>53130</th>\n",
       "      <td>sell</td>\n",
       "      <td>house</td>\n",
       "      <td>NaN</td>\n",
       "      <td>|Argentina|Bs.As. G.B.A. Zona Norte|Tigre||</td>\n",
       "      <td>Argentina</td>\n",
       "      <td>Bs.As. G.B.A. Zona Norte</td>\n",
       "      <td>NaN</td>\n",
       "      <td>-34.400978</td>\n",
       "      <td>-58.637809</td>\n",
       "      <td>630000.0</td>\n",
       "      <td>1000.0</td>\n",
       "      <td>370.0</td>\n",
       "      <td>630.000000</td>\n",
       "      <td>NaN</td>\n",
       "      <td>NaN</td>\n",
       "      <td>NaN</td>\n",
       "      <td>Excelente casa en Venta en B° Santa Maria de T...</td>\n",
       "      <td>Casa en Venta</td>\n",
       "      <td>NaN</td>\n",
       "    </tr>\n",
       "    <tr>\n",
       "      <th>55306</th>\n",
       "      <td>sell</td>\n",
       "      <td>house</td>\n",
       "      <td>NaN</td>\n",
       "      <td>|Argentina|Bs.As. G.B.A. Zona Norte|Tigre||</td>\n",
       "      <td>Argentina</td>\n",
       "      <td>Bs.As. G.B.A. Zona Norte</td>\n",
       "      <td>NaN</td>\n",
       "      <td>-34.399631</td>\n",
       "      <td>-58.643312</td>\n",
       "      <td>470000.0</td>\n",
       "      <td>254.0</td>\n",
       "      <td>204.0</td>\n",
       "      <td>1850.393701</td>\n",
       "      <td>NaN</td>\n",
       "      <td>NaN</td>\n",
       "      <td>NaN</td>\n",
       "      <td>Muy linda casa de dos plantas en lote interno ...</td>\n",
       "      <td>Santa María de Tigre. Casa con amarra.</td>\n",
       "      <td>NaN</td>\n",
       "    </tr>\n",
       "    <tr>\n",
       "      <th>57703</th>\n",
       "      <td>sell</td>\n",
       "      <td>house</td>\n",
       "      <td>NaN</td>\n",
       "      <td>|Argentina|Bs.As. G.B.A. Zona Norte|Tigre||</td>\n",
       "      <td>Argentina</td>\n",
       "      <td>Bs.As. G.B.A. Zona Norte</td>\n",
       "      <td>NaN</td>\n",
       "      <td>-34.390337</td>\n",
       "      <td>-58.633690</td>\n",
       "      <td>650000.0</td>\n",
       "      <td>230.0</td>\n",
       "      <td>230.0</td>\n",
       "      <td>2826.086957</td>\n",
       "      <td>NaN</td>\n",
       "      <td>NaN</td>\n",
       "      <td>NaN</td>\n",
       "      <td>Espectacular casas moderna con amplio jardín s...</td>\n",
       "      <td>SANTA MARIA DE TIGRE 100</td>\n",
       "      <td>NaN</td>\n",
       "    </tr>\n",
       "    <tr>\n",
       "      <th>57759</th>\n",
       "      <td>sell</td>\n",
       "      <td>house</td>\n",
       "      <td>NaN</td>\n",
       "      <td>|Argentina|Bs.As. G.B.A. Zona Norte|Tigre||</td>\n",
       "      <td>Argentina</td>\n",
       "      <td>Bs.As. G.B.A. Zona Norte</td>\n",
       "      <td>NaN</td>\n",
       "      <td>-34.395968</td>\n",
       "      <td>-58.630772</td>\n",
       "      <td>580000.0</td>\n",
       "      <td>360.0</td>\n",
       "      <td>360.0</td>\n",
       "      <td>1611.111111</td>\n",
       "      <td>NaN</td>\n",
       "      <td>NaN</td>\n",
       "      <td>NaN</td>\n",
       "      <td>Incluye una amarra de U$S 30.000 con elevador ...</td>\n",
       "      <td>SANTA MARIA DE TIGRE 100</td>\n",
       "      <td>NaN</td>\n",
       "    </tr>\n",
       "    <tr>\n",
       "      <th>57764</th>\n",
       "      <td>sell</td>\n",
       "      <td>house</td>\n",
       "      <td>NaN</td>\n",
       "      <td>|Argentina|Bs.As. G.B.A. Zona Norte|Tigre||</td>\n",
       "      <td>Argentina</td>\n",
       "      <td>Bs.As. G.B.A. Zona Norte</td>\n",
       "      <td>NaN</td>\n",
       "      <td>-34.396358</td>\n",
       "      <td>-58.626137</td>\n",
       "      <td>970000.0</td>\n",
       "      <td>425.0</td>\n",
       "      <td>391.0</td>\n",
       "      <td>2282.352941</td>\n",
       "      <td>NaN</td>\n",
       "      <td>NaN</td>\n",
       "      <td>NaN</td>\n",
       "      <td>IMPECABLE ! Sobre la laguna con excelente orie...</td>\n",
       "      <td>SANTA MARIA DE TIGRE 100</td>\n",
       "      <td>NaN</td>\n",
       "    </tr>\n",
       "    <tr>\n",
       "      <th>57793</th>\n",
       "      <td>sell</td>\n",
       "      <td>house</td>\n",
       "      <td>NaN</td>\n",
       "      <td>|Argentina|Bs.As. G.B.A. Zona Norte|Tigre||</td>\n",
       "      <td>Argentina</td>\n",
       "      <td>Bs.As. G.B.A. Zona Norte</td>\n",
       "      <td>NaN</td>\n",
       "      <td>-34.396287</td>\n",
       "      <td>-58.629227</td>\n",
       "      <td>760000.0</td>\n",
       "      <td>250.0</td>\n",
       "      <td>250.0</td>\n",
       "      <td>3040.000000</td>\n",
       "      <td>NaN</td>\n",
       "      <td>NaN</td>\n",
       "      <td>NaN</td>\n",
       "      <td>Súper cálida y agradable. Ubicada en uno de lo...</td>\n",
       "      <td>SANTA MARIA DE TIGRE 100</td>\n",
       "      <td>NaN</td>\n",
       "    </tr>\n",
       "    <tr>\n",
       "      <th>58004</th>\n",
       "      <td>sell</td>\n",
       "      <td>house</td>\n",
       "      <td>NaN</td>\n",
       "      <td>|Argentina|Bs.As. G.B.A. Zona Norte|Tigre||</td>\n",
       "      <td>Argentina</td>\n",
       "      <td>Bs.As. G.B.A. Zona Norte</td>\n",
       "      <td>NaN</td>\n",
       "      <td>-34.391046</td>\n",
       "      <td>-58.636179</td>\n",
       "      <td>550000.0</td>\n",
       "      <td>266.0</td>\n",
       "      <td>230.0</td>\n",
       "      <td>2067.669173</td>\n",
       "      <td>NaN</td>\n",
       "      <td>NaN</td>\n",
       "      <td>NaN</td>\n",
       "      <td>Casa clásica muy cómoda.PLANTA BAJA: Hall de e...</td>\n",
       "      <td>SANTA MARIA DE TIGRE 100</td>\n",
       "      <td>NaN</td>\n",
       "    </tr>\n",
       "    <tr>\n",
       "      <th>58037</th>\n",
       "      <td>sell</td>\n",
       "      <td>house</td>\n",
       "      <td>NaN</td>\n",
       "      <td>|Argentina|Bs.As. G.B.A. Zona Norte|Tigre||</td>\n",
       "      <td>Argentina</td>\n",
       "      <td>Bs.As. G.B.A. Zona Norte</td>\n",
       "      <td>NaN</td>\n",
       "      <td>-34.393153</td>\n",
       "      <td>-58.631973</td>\n",
       "      <td>590000.0</td>\n",
       "      <td>320.0</td>\n",
       "      <td>320.0</td>\n",
       "      <td>1843.750000</td>\n",
       "      <td>NaN</td>\n",
       "      <td>NaN</td>\n",
       "      <td>NaN</td>\n",
       "      <td>Excelente casa ubicada en uno de la a pocos ba...</td>\n",
       "      <td>SANTA MARIA DE TIGRE 100</td>\n",
       "      <td>NaN</td>\n",
       "    </tr>\n",
       "    <tr>\n",
       "      <th>59069</th>\n",
       "      <td>sell</td>\n",
       "      <td>house</td>\n",
       "      <td>NaN</td>\n",
       "      <td>|Argentina|Bs.As. G.B.A. Zona Norte|Tigre||</td>\n",
       "      <td>Argentina</td>\n",
       "      <td>Bs.As. G.B.A. Zona Norte</td>\n",
       "      <td>NaN</td>\n",
       "      <td>-34.400849</td>\n",
       "      <td>-58.638179</td>\n",
       "      <td>640000.0</td>\n",
       "      <td>NaN</td>\n",
       "      <td>248.0</td>\n",
       "      <td>12.903226</td>\n",
       "      <td>NaN</td>\n",
       "      <td>5.0</td>\n",
       "      <td>NaN</td>\n",
       "      <td>Corredor Responsable: Matias Castelli - CUCICB...</td>\n",
       "      <td>CASA EN VENTA AL AGUA EN SANTA MARIA DE TIGRE</td>\n",
       "      <td>NaN</td>\n",
       "    </tr>\n",
       "    <tr>\n",
       "      <th>62411</th>\n",
       "      <td>sell</td>\n",
       "      <td>house</td>\n",
       "      <td>NaN</td>\n",
       "      <td>|Argentina|Bs.As. G.B.A. Zona Norte|Tigre||</td>\n",
       "      <td>Argentina</td>\n",
       "      <td>Bs.As. G.B.A. Zona Norte</td>\n",
       "      <td>NaN</td>\n",
       "      <td>-34.396485</td>\n",
       "      <td>-58.635878</td>\n",
       "      <td>340000.0</td>\n",
       "      <td>170.0</td>\n",
       "      <td>170.0</td>\n",
       "      <td>2000.000000</td>\n",
       "      <td>NaN</td>\n",
       "      <td>4.0</td>\n",
       "      <td>NaN</td>\n",
       "      <td>Hermosa casa en lote perimetral, Excelente cal...</td>\n",
       "      <td>VENTA CASA A ESTRENAR EN LAS TIPAS NORDELTA</td>\n",
       "      <td>NaN</td>\n",
       "    </tr>\n",
       "    <tr>\n",
       "      <th>62413</th>\n",
       "      <td>sell</td>\n",
       "      <td>house</td>\n",
       "      <td>NaN</td>\n",
       "      <td>|Argentina|Bs.As. G.B.A. Zona Norte|Tigre||</td>\n",
       "      <td>Argentina</td>\n",
       "      <td>Bs.As. G.B.A. Zona Norte</td>\n",
       "      <td>NaN</td>\n",
       "      <td>-34.396485</td>\n",
       "      <td>-58.635878</td>\n",
       "      <td>419000.0</td>\n",
       "      <td>250.0</td>\n",
       "      <td>200.0</td>\n",
       "      <td>1676.000000</td>\n",
       "      <td>NaN</td>\n",
       "      <td>5.0</td>\n",
       "      <td>NaN</td>\n",
       "      <td>Muy linda casa a estrenar sobre lote perimetra...</td>\n",
       "      <td>Muy linda casa a estrenar en Las Tipas</td>\n",
       "      <td>NaN</td>\n",
       "    </tr>\n",
       "    <tr>\n",
       "      <th>63849</th>\n",
       "      <td>sell</td>\n",
       "      <td>house</td>\n",
       "      <td>NaN</td>\n",
       "      <td>|Argentina|Bs.As. G.B.A. Zona Norte|Tigre||</td>\n",
       "      <td>Argentina</td>\n",
       "      <td>Bs.As. G.B.A. Zona Norte</td>\n",
       "      <td>NaN</td>\n",
       "      <td>-34.394520</td>\n",
       "      <td>-58.632501</td>\n",
       "      <td>400000.0</td>\n",
       "      <td>140.0</td>\n",
       "      <td>140.0</td>\n",
       "      <td>2857.142857</td>\n",
       "      <td>NaN</td>\n",
       "      <td>5.0</td>\n",
       "      <td>NaN</td>\n",
       "      <td>Casa estilo colonial de una planta sobre lote ...</td>\n",
       "      <td>Oportunidad! Casa en La Alameda</td>\n",
       "      <td>NaN</td>\n",
       "    </tr>\n",
       "  </tbody>\n",
       "</table>\n",
       "</div>"
      ],
      "text/plain": [
       "      operation property_type place_name  \\\n",
       "6489       sell         house        NaN   \n",
       "10201      sell         house        NaN   \n",
       "11451      sell         house        NaN   \n",
       "14839      sell         house        NaN   \n",
       "18622      sell         house        NaN   \n",
       "21922      sell         house        NaN   \n",
       "23664      sell         house        NaN   \n",
       "24722      sell         house        NaN   \n",
       "38856      sell         house        NaN   \n",
       "45970      sell     apartment        NaN   \n",
       "46642      sell         house        NaN   \n",
       "53130      sell         house        NaN   \n",
       "55306      sell         house        NaN   \n",
       "57703      sell         house        NaN   \n",
       "57759      sell         house        NaN   \n",
       "57764      sell         house        NaN   \n",
       "57793      sell         house        NaN   \n",
       "58004      sell         house        NaN   \n",
       "58037      sell         house        NaN   \n",
       "59069      sell         house        NaN   \n",
       "62411      sell         house        NaN   \n",
       "62413      sell         house        NaN   \n",
       "63849      sell         house        NaN   \n",
       "\n",
       "                           place_with_parent_names country_name  \\\n",
       "6489   |Argentina|Bs.As. G.B.A. Zona Norte|Tigre||    Argentina   \n",
       "10201  |Argentina|Bs.As. G.B.A. Zona Norte|Tigre||    Argentina   \n",
       "11451  |Argentina|Bs.As. G.B.A. Zona Norte|Tigre||    Argentina   \n",
       "14839  |Argentina|Bs.As. G.B.A. Zona Norte|Tigre||    Argentina   \n",
       "18622  |Argentina|Bs.As. G.B.A. Zona Norte|Tigre||    Argentina   \n",
       "21922  |Argentina|Bs.As. G.B.A. Zona Norte|Tigre||    Argentina   \n",
       "23664  |Argentina|Bs.As. G.B.A. Zona Norte|Tigre||    Argentina   \n",
       "24722  |Argentina|Bs.As. G.B.A. Zona Norte|Tigre||    Argentina   \n",
       "38856  |Argentina|Bs.As. G.B.A. Zona Norte|Tigre||    Argentina   \n",
       "45970  |Argentina|Bs.As. G.B.A. Zona Norte|Tigre||    Argentina   \n",
       "46642  |Argentina|Bs.As. G.B.A. Zona Norte|Tigre||    Argentina   \n",
       "53130  |Argentina|Bs.As. G.B.A. Zona Norte|Tigre||    Argentina   \n",
       "55306  |Argentina|Bs.As. G.B.A. Zona Norte|Tigre||    Argentina   \n",
       "57703  |Argentina|Bs.As. G.B.A. Zona Norte|Tigre||    Argentina   \n",
       "57759  |Argentina|Bs.As. G.B.A. Zona Norte|Tigre||    Argentina   \n",
       "57764  |Argentina|Bs.As. G.B.A. Zona Norte|Tigre||    Argentina   \n",
       "57793  |Argentina|Bs.As. G.B.A. Zona Norte|Tigre||    Argentina   \n",
       "58004  |Argentina|Bs.As. G.B.A. Zona Norte|Tigre||    Argentina   \n",
       "58037  |Argentina|Bs.As. G.B.A. Zona Norte|Tigre||    Argentina   \n",
       "59069  |Argentina|Bs.As. G.B.A. Zona Norte|Tigre||    Argentina   \n",
       "62411  |Argentina|Bs.As. G.B.A. Zona Norte|Tigre||    Argentina   \n",
       "62413  |Argentina|Bs.As. G.B.A. Zona Norte|Tigre||    Argentina   \n",
       "63849  |Argentina|Bs.As. G.B.A. Zona Norte|Tigre||    Argentina   \n",
       "\n",
       "                     state_name  geonames_id        lat        lon  \\\n",
       "6489   Bs.As. G.B.A. Zona Norte          NaN -34.400897 -58.638098   \n",
       "10201  Bs.As. G.B.A. Zona Norte          NaN -34.400704 -58.638067   \n",
       "11451  Bs.As. G.B.A. Zona Norte          NaN -34.402688 -58.626261   \n",
       "14839  Bs.As. G.B.A. Zona Norte          NaN -34.400799 -58.638174   \n",
       "18622  Bs.As. G.B.A. Zona Norte          NaN -34.403278 -58.626350   \n",
       "21922  Bs.As. G.B.A. Zona Norte          NaN -34.399704 -58.638405   \n",
       "23664  Bs.As. G.B.A. Zona Norte          NaN -34.400516 -58.641800   \n",
       "24722  Bs.As. G.B.A. Zona Norte          NaN -34.400729 -58.637778   \n",
       "38856  Bs.As. G.B.A. Zona Norte          NaN -34.425087 -58.579659   \n",
       "45970  Bs.As. G.B.A. Zona Norte          NaN -34.396074 -58.637380   \n",
       "46642  Bs.As. G.B.A. Zona Norte          NaN -34.400749 -58.638754   \n",
       "53130  Bs.As. G.B.A. Zona Norte          NaN -34.400978 -58.637809   \n",
       "55306  Bs.As. G.B.A. Zona Norte          NaN -34.399631 -58.643312   \n",
       "57703  Bs.As. G.B.A. Zona Norte          NaN -34.390337 -58.633690   \n",
       "57759  Bs.As. G.B.A. Zona Norte          NaN -34.395968 -58.630772   \n",
       "57764  Bs.As. G.B.A. Zona Norte          NaN -34.396358 -58.626137   \n",
       "57793  Bs.As. G.B.A. Zona Norte          NaN -34.396287 -58.629227   \n",
       "58004  Bs.As. G.B.A. Zona Norte          NaN -34.391046 -58.636179   \n",
       "58037  Bs.As. G.B.A. Zona Norte          NaN -34.393153 -58.631973   \n",
       "59069  Bs.As. G.B.A. Zona Norte          NaN -34.400849 -58.638179   \n",
       "62411  Bs.As. G.B.A. Zona Norte          NaN -34.396485 -58.635878   \n",
       "62413  Bs.As. G.B.A. Zona Norte          NaN -34.396485 -58.635878   \n",
       "63849  Bs.As. G.B.A. Zona Norte          NaN -34.394520 -58.632501   \n",
       "\n",
       "       price_aprox_usd  surface_total_in_m2  surface_covered_in_m2  \\\n",
       "6489          650000.0                240.0                  240.0   \n",
       "10201         535000.0                  NaN                  300.0   \n",
       "11451         550000.0               2170.0                  270.0   \n",
       "14839         480000.0                240.0                  200.0   \n",
       "18622        1297000.0                340.0                  340.0   \n",
       "21922         440000.0                  NaN                  220.0   \n",
       "23664         480000.0                294.0                  294.0   \n",
       "24722         530000.0                316.0                  270.0   \n",
       "38856        1350000.0                  NaN                  550.0   \n",
       "45970          95000.0                 55.0                   27.0   \n",
       "46642        1470000.0                  NaN                   20.0   \n",
       "53130         630000.0               1000.0                  370.0   \n",
       "55306         470000.0                254.0                  204.0   \n",
       "57703         650000.0                230.0                  230.0   \n",
       "57759         580000.0                360.0                  360.0   \n",
       "57764         970000.0                425.0                  391.0   \n",
       "57793         760000.0                250.0                  250.0   \n",
       "58004         550000.0                266.0                  230.0   \n",
       "58037         590000.0                320.0                  320.0   \n",
       "59069         640000.0                  NaN                  248.0   \n",
       "62411         340000.0                170.0                  170.0   \n",
       "62413         419000.0                250.0                  200.0   \n",
       "63849         400000.0                140.0                  140.0   \n",
       "\n",
       "       price_usd_per_m2  floor  rooms  expenses  \\\n",
       "6489        2708.333333    NaN    NaN       NaN   \n",
       "10201          8.916667    NaN    5.0       NaN   \n",
       "11451        253.456221    NaN    NaN       NaN   \n",
       "14839       2000.000000    NaN    NaN       NaN   \n",
       "18622       3814.705882    NaN    NaN       NaN   \n",
       "21922         10.000000    NaN    5.0       NaN   \n",
       "23664       1632.653061    NaN    NaN       NaN   \n",
       "24722       1677.215190    NaN    NaN       NaN   \n",
       "38856         12.272727    NaN    NaN       NaN   \n",
       "45970       1727.272727    NaN    1.0       NaN   \n",
       "46642        367.500000    NaN    6.0       NaN   \n",
       "53130        630.000000    NaN    NaN       NaN   \n",
       "55306       1850.393701    NaN    NaN       NaN   \n",
       "57703       2826.086957    NaN    NaN       NaN   \n",
       "57759       1611.111111    NaN    NaN       NaN   \n",
       "57764       2282.352941    NaN    NaN       NaN   \n",
       "57793       3040.000000    NaN    NaN       NaN   \n",
       "58004       2067.669173    NaN    NaN       NaN   \n",
       "58037       1843.750000    NaN    NaN       NaN   \n",
       "59069         12.903226    NaN    5.0       NaN   \n",
       "62411       2000.000000    NaN    4.0       NaN   \n",
       "62413       1676.000000    NaN    5.0       NaN   \n",
       "63849       2857.142857    NaN    5.0       NaN   \n",
       "\n",
       "                                             description  \\\n",
       "6489   Espectacular casa moderna de una planta, con a...   \n",
       "10201  Corredor Responsable: SABRINA COCCONI - CSI 62...   \n",
       "11451  MUY LINDA CASA EN EXCELENTE UBICACION!! Superf...   \n",
       "14839  Muy linda casa de estilo clásico.-Planta baja;...   \n",
       "18622   Casa con increible vista al lago con playa de...   \n",
       "21922  Corredor Responsable: Matias Castelli - CUCICB...   \n",
       "23664  EXCELENTE CASA CLASICA con grandes ventanas y ...   \n",
       "24722  EN EXCLUSIVIDAD!!!!!!Lindísima casa, muy lumin...   \n",
       "38856  SANTA MARIA DE TIGRE- AL RIO - ESPECTACULAR CA...   \n",
       "45970  EDIFICIO ZERENA – EL PALMAR, NORDELTA. Torre 2...   \n",
       "46642  Corredor Responsable: Matias Castelli - CUCICB...   \n",
       "53130  Excelente casa en Venta en B° Santa Maria de T...   \n",
       "55306  Muy linda casa de dos plantas en lote interno ...   \n",
       "57703  Espectacular casas moderna con amplio jardín s...   \n",
       "57759  Incluye una amarra de U$S 30.000 con elevador ...   \n",
       "57764  IMPECABLE ! Sobre la laguna con excelente orie...   \n",
       "57793  Súper cálida y agradable. Ubicada en uno de lo...   \n",
       "58004  Casa clásica muy cómoda.PLANTA BAJA: Hall de e...   \n",
       "58037  Excelente casa ubicada en uno de la a pocos ba...   \n",
       "59069  Corredor Responsable: Matias Castelli - CUCICB...   \n",
       "62411  Hermosa casa en lote perimetral, Excelente cal...   \n",
       "62413  Muy linda casa a estrenar sobre lote perimetra...   \n",
       "63849  Casa estilo colonial de una planta sobre lote ...   \n",
       "\n",
       "                                                   title  price  \n",
       "6489               Venta de casa en Santa María de Tigre    NaN  \n",
       "10201  VENTA CASA SANTA MARÍA DE TIGRE COUNTRY BARRIO...    NaN  \n",
       "11451                     SANTA MARIA DE TIGRE IMPECABLE    NaN  \n",
       "14839              Venta de casa en Santa María de Tigre    NaN  \n",
       "18622  Casa con increible vista al lago con playa y m...    NaN  \n",
       "21922           Venta Casa - Barrio Santa Maria de Tigre    NaN  \n",
       "23664    CASA EN VENTA EN SANTA MARIA DE TIGRE CON RENTA    NaN  \n",
       "24722              Venta de casa en Santa María de Tigre    NaN  \n",
       "38856                       Casa (barrio cerrado), Venta    NaN  \n",
       "45970  Excelente monoambiente. Barrio El Palmar.  Con...    NaN  \n",
       "46642                               Venta de Casa al rio    NaN  \n",
       "53130                                      Casa en Venta    NaN  \n",
       "55306             Santa María de Tigre. Casa con amarra.    NaN  \n",
       "57703                           SANTA MARIA DE TIGRE 100    NaN  \n",
       "57759                           SANTA MARIA DE TIGRE 100    NaN  \n",
       "57764                           SANTA MARIA DE TIGRE 100    NaN  \n",
       "57793                           SANTA MARIA DE TIGRE 100    NaN  \n",
       "58004                           SANTA MARIA DE TIGRE 100    NaN  \n",
       "58037                           SANTA MARIA DE TIGRE 100    NaN  \n",
       "59069      CASA EN VENTA AL AGUA EN SANTA MARIA DE TIGRE    NaN  \n",
       "62411       VENTA CASA A ESTRENAR EN LAS TIPAS NORDELTA     NaN  \n",
       "62413             Muy linda casa a estrenar en Las Tipas    NaN  \n",
       "63849                    Oportunidad! Casa en La Alameda    NaN  "
      ]
     },
     "execution_count": 56,
     "metadata": {},
     "output_type": "execute_result"
    }
   ],
   "source": [
    "#Analizamos los nulos en la columna place_name con una mascara booleana\n",
    "serie_place_name = data.place_name\n",
    "mask_place_name_null = serie_place_name.isnull()\n",
    "data_place_name_null = data[mask_place_name_null]\n",
    "data_place_name_null"
   ]
  },
  {
   "cell_type": "markdown",
   "id": "e645e814",
   "metadata": {},
   "source": [
    "#### *Como todos los nulos en la columna place_name corresponden al municipio de Tigre, los imputamos directamente con este municipo*"
   ]
  },
  {
   "cell_type": "code",
   "execution_count": 57,
   "id": "5ce46d44",
   "metadata": {},
   "outputs": [],
   "source": [
    "# Como todos los nulos en la columna place_name corresponden al municipio de Tigre, los imputamos directamente con este municipio\n",
    "data.loc[data_place_name_null.index, \"place_name\"] = 'Tigre'"
   ]
  },
  {
   "cell_type": "markdown",
   "id": "9ef09d48",
   "metadata": {},
   "source": [
    "## Obtencion de surface_total_in_m2 y surface_covered_in_m2 mediante imputacion directa"
   ]
  },
  {
   "cell_type": "markdown",
   "id": "c903408c",
   "metadata": {},
   "source": [
    "### Datos de Superficie total o superficie cubierta que quedaran nulos o ceros por ahora"
   ]
  },
  {
   "cell_type": "code",
   "execution_count": 58,
   "id": "3ecbba8e",
   "metadata": {},
   "outputs": [
    {
     "name": "stdout",
     "output_type": "stream",
     "text": [
      "       property_type  surface_total_in_m2  surface_covered_in_m2\n",
      "1          apartment                  NaN                    NaN\n",
      "3                 PH                  NaN                    NaN\n",
      "9              house                  NaN                    NaN\n",
      "11             house                  NaN                    NaN\n",
      "65             store                  NaN                    NaN\n",
      "...              ...                  ...                    ...\n",
      "121069         house                  NaN                    NaN\n",
      "121070     apartment                  NaN                    NaN\n",
      "121079     apartment                  NaN                    NaN\n",
      "121101         house                  NaN                    NaN\n",
      "121144         house                  NaN                    NaN\n",
      "\n",
      "[10182 rows x 3 columns]\n"
     ]
    }
   ],
   "source": [
    "# Realizamos una mascara para ver las instancias de superficie tanto cubierta como total de los cuales no tenemos para imputar un valor con el otro\n",
    "\n",
    "mask_surfaces_null = data.surface_total_in_m2.isnull() & data.surface_covered_in_m2.isnull()\n",
    "data_surfaces_null = data[mask_surfaces_null]\n",
    "\n",
    "print (data_surfaces_null[[\"property_type\" , \"surface_total_in_m2\" , \"surface_covered_in_m2\"]])\n",
    "\n",
    "#En este DataFrame hay tanto superficies nulas como superficies iguales a cero"
   ]
  },
  {
   "cell_type": "markdown",
   "id": "0f1137ca",
   "metadata": {},
   "source": [
    "### Datos de superficie total o superficie que imputo uno con el otro"
   ]
  },
  {
   "cell_type": "markdown",
   "id": "b4360075",
   "metadata": {},
   "source": [
    "#### *Los imputo en este momento, para asegurarme de que cuando una es nula ambas lo son entonces le puedo dar un tratamiento mas sencillo a las condiciones booleanas mas adelante*"
   ]
  },
  {
   "cell_type": "code",
   "execution_count": 59,
   "id": "f6fb96d7",
   "metadata": {},
   "outputs": [
    {
     "name": "stdout",
     "output_type": "stream",
     "text": [
      "       property_type  surface_total_in_m2  surface_covered_in_m2\n",
      "68         apartment                  NaN                   72.0\n",
      "77         apartment                  NaN                   85.0\n",
      "79         apartment                  NaN                   42.0\n",
      "87             house                  NaN                  170.0\n",
      "89         apartment                  NaN                   53.0\n",
      "...              ...                  ...                    ...\n",
      "121155         house                  NaN                  130.0\n",
      "121156         house                  NaN                  130.0\n",
      "121207         house                  NaN                  178.0\n",
      "121208         house                  NaN                  178.0\n",
      "121210         house                  NaN                  120.0\n",
      "\n",
      "[26000 rows x 3 columns]\n",
      "       property_type  surface_total_in_m2  surface_covered_in_m2\n",
      "10             house               1514.0                    NaN\n",
      "15             house                164.0                    NaN\n",
      "66         apartment                 38.0                    NaN\n",
      "67             house                220.0                    NaN\n",
      "142            house                380.0                    NaN\n",
      "...              ...                  ...                    ...\n",
      "121203     apartment                 50.0                    NaN\n",
      "121204     apartment                 50.0                    NaN\n",
      "121205     apartment                 50.0                    NaN\n",
      "121206     apartment                 50.0                    NaN\n",
      "121209     apartment                157.0                    NaN\n",
      "\n",
      "[7564 rows x 3 columns]\n"
     ]
    }
   ],
   "source": [
    "# Realizamos una mascara para ver que valores tenemos nulos de superficie total pero que la cubierta no es nula, por lo tanto se la podemos imputar\n",
    "mask_surface_total_in_m2_null = data.surface_total_in_m2.isnull() & data.surface_covered_in_m2.notnull()\n",
    "data_surface_total_in_m2_null = data[mask_surface_total_in_m2_null]\n",
    "\n",
    "# Realizamos una mascara para ver que valores tenemos nulos de superficie cubierta pero que la total no es nula, por lo tanto se la podemos imputar\n",
    "mask_surface_covered_in_m2_null =  data.surface_total_in_m2.notnull() & data.surface_covered_in_m2.isnull()\n",
    "data_surface_covered_in_m2_null = data[mask_surface_covered_in_m2_null]\n",
    "\n",
    "\n",
    "print (data_surface_total_in_m2_null[[\"property_type\" , \"surface_total_in_m2\" , \"surface_covered_in_m2\"]])\n",
    "print (data_surface_covered_in_m2_null[[\"property_type\" , \"surface_total_in_m2\" , \"surface_covered_in_m2\"]])\n"
   ]
  },
  {
   "cell_type": "code",
   "execution_count": 60,
   "id": "9214bd26",
   "metadata": {},
   "outputs": [],
   "source": [
    "# Aca imputamos los valores nulos de superficie total con los valores de superficie cubierta, utilizando la mascara mask_surface_total_in_m2_null\n",
    "data.loc[data_surface_total_in_m2_null.index, \"surface_total_in_m2\"] = data.loc[data_surface_total_in_m2_null.index, \"surface_covered_in_m2\"]\n",
    "\n",
    "# Aca imputamos los valores nulos de superficie cubierta con los valores de superficie total, utilizando la mascara mask_surface_covered_in_m2_null\n",
    "data.loc[data_surface_covered_in_m2_null.index, \"surface_covered_in_m2\"] = data.loc[data_surface_covered_in_m2_null.index, \"surface_total_in_m2\"]"
   ]
  },
  {
   "cell_type": "markdown",
   "id": "ae7a58d5",
   "metadata": {},
   "source": [
    "### Obtención de las superficias nulas en funcion del precio y del precio por metro cuadrado"
   ]
  },
  {
   "cell_type": "markdown",
   "id": "7fcb9093",
   "metadata": {},
   "source": [
    "##### Vemos instancias que tengan el precio y el precio por metro cuadrado pero no la superficie"
   ]
  },
  {
   "cell_type": "code",
   "execution_count": 61,
   "id": "2407d920",
   "metadata": {},
   "outputs": [],
   "source": [
    "#Aca veo las instancias que tengan el precio y el precio por metro cuadrado pero no la superficie"
   ]
  },
  {
   "cell_type": "code",
   "execution_count": 62,
   "id": "09b27165",
   "metadata": {},
   "outputs": [
    {
     "data": {
      "text/html": [
       "<div>\n",
       "<style scoped>\n",
       "    .dataframe tbody tr th:only-of-type {\n",
       "        vertical-align: middle;\n",
       "    }\n",
       "\n",
       "    .dataframe tbody tr th {\n",
       "        vertical-align: top;\n",
       "    }\n",
       "\n",
       "    .dataframe thead th {\n",
       "        text-align: right;\n",
       "    }\n",
       "</style>\n",
       "<table border=\"1\" class=\"dataframe\">\n",
       "  <thead>\n",
       "    <tr style=\"text-align: right;\">\n",
       "      <th></th>\n",
       "      <th>price_aprox_usd</th>\n",
       "      <th>price_usd_per_m2</th>\n",
       "      <th>surface_total_in_m2</th>\n",
       "      <th>surface_covered_in_m2</th>\n",
       "    </tr>\n",
       "  </thead>\n",
       "  <tbody>\n",
       "  </tbody>\n",
       "</table>\n",
       "</div>"
      ],
      "text/plain": [
       "Empty DataFrame\n",
       "Columns: [price_aprox_usd, price_usd_per_m2, surface_total_in_m2, surface_covered_in_m2]\n",
       "Index: []"
      ]
     },
     "execution_count": 62,
     "metadata": {},
     "output_type": "execute_result"
    }
   ],
   "source": [
    "# Se hacen tres mascaras booleanas: mask_surfaces_null = instancias sin datos de superficie / mask_prices_notnull = instancias con algun dato de precio / mask_prices_per_m2_notnull = instancias con algun dato de precio por metro cuadrado\n",
    "condition_surfaces_null = data.surface_total_in_m2.isnull() & data.surface_covered_in_m2.isnull()\n",
    "condition_price_notnull = data.price_aprox_usd.notnull()\n",
    "condition_price_per_m2_notnull = data.price_usd_per_m2.notnull()\n",
    "\n",
    "mask_surfaces_imput = condition_surfaces_null & condition_price_notnull & condition_price_per_m2_notnull\n",
    "data_surfaces_imput = data[mask_surfaces_imput]\n",
    "\n",
    "data_surfaces_imput[[\"price_aprox_usd\" , \"price_usd_per_m2\" , \"surface_total_in_m2\" , \"surface_covered_in_m2\"]]\n",
    "\n",
    "#Como da un dataframe vacio no hay ninguna instancia de superficie que pueda imputar de esta forma"
   ]
  },
  {
   "cell_type": "markdown",
   "id": "913c9996",
   "metadata": {},
   "source": [
    "## Obtencion de price mediante imputacion directa en funcion de prices_per_m2 y surface"
   ]
  },
  {
   "cell_type": "code",
   "execution_count": 63,
   "id": "a6484f75",
   "metadata": {},
   "outputs": [
    {
     "data": {
      "text/html": [
       "<div>\n",
       "<style scoped>\n",
       "    .dataframe tbody tr th:only-of-type {\n",
       "        vertical-align: middle;\n",
       "    }\n",
       "\n",
       "    .dataframe tbody tr th {\n",
       "        vertical-align: top;\n",
       "    }\n",
       "\n",
       "    .dataframe thead th {\n",
       "        text-align: right;\n",
       "    }\n",
       "</style>\n",
       "<table border=\"1\" class=\"dataframe\">\n",
       "  <thead>\n",
       "    <tr style=\"text-align: right;\">\n",
       "      <th></th>\n",
       "      <th>price_aprox_usd</th>\n",
       "      <th>price_usd_per_m2</th>\n",
       "      <th>surface_total_in_m2</th>\n",
       "      <th>surface_covered_in_m2</th>\n",
       "    </tr>\n",
       "  </thead>\n",
       "  <tbody>\n",
       "  </tbody>\n",
       "</table>\n",
       "</div>"
      ],
      "text/plain": [
       "Empty DataFrame\n",
       "Columns: [price_aprox_usd, price_usd_per_m2, surface_total_in_m2, surface_covered_in_m2]\n",
       "Index: []"
      ]
     },
     "execution_count": 63,
     "metadata": {},
     "output_type": "execute_result"
    }
   ],
   "source": [
    "# Se hacen tres mascaras booleanas: mask_surfaces_nonull = instancias con datos de superficie no nulos / mask_prices_null = instancias sin datos de precios / mask_prices_per_m2_notnull = instancias con algun dato de precio por metro cuadrado\n",
    "condition_surfaces_notnull = data.surface_total_in_m2.notnull() | data.surface_covered_in_m2.notnull()\n",
    "condition_price_null =  data.price_aprox_usd.isnull()\n",
    "condition_price_per_m2_notnull = data.price_usd_per_m2.notnull()\n",
    "\n",
    "mask_prices_imput = condition_surfaces_null & condition_price_notnull & condition_price_per_m2_notnull\n",
    "data_prices_imput = data[mask_prices_imput]\n",
    "\n",
    "data_prices_imput[[ \"price_aprox_usd\" , \"price_usd_per_m2\" , \"surface_total_in_m2\" , \"surface_covered_in_m2\"]]\n",
    "\n",
    "#Como da un dataframe vacio no hay ninguna instancia de price que pueda imputar de esta forma"
   ]
  },
  {
   "cell_type": "markdown",
   "id": "bc54159c",
   "metadata": {},
   "source": [
    "## Obtencion de price_per_m2 mediante imputacion directa en funcion de surface y price"
   ]
  },
  {
   "cell_type": "code",
   "execution_count": 64,
   "id": "a30e8bcf",
   "metadata": {},
   "outputs": [
    {
     "data": {
      "text/html": [
       "<div>\n",
       "<style scoped>\n",
       "    .dataframe tbody tr th:only-of-type {\n",
       "        vertical-align: middle;\n",
       "    }\n",
       "\n",
       "    .dataframe tbody tr th {\n",
       "        vertical-align: top;\n",
       "    }\n",
       "\n",
       "    .dataframe thead th {\n",
       "        text-align: right;\n",
       "    }\n",
       "</style>\n",
       "<table border=\"1\" class=\"dataframe\">\n",
       "  <thead>\n",
       "    <tr style=\"text-align: right;\">\n",
       "      <th></th>\n",
       "      <th>price_aprox_usd</th>\n",
       "      <th>price_usd_per_m2</th>\n",
       "      <th>surface_total_in_m2</th>\n",
       "      <th>surface_covered_in_m2</th>\n",
       "    </tr>\n",
       "  </thead>\n",
       "  <tbody>\n",
       "    <tr>\n",
       "      <th>675</th>\n",
       "      <td>130000.00</td>\n",
       "      <td>NaN</td>\n",
       "      <td>7.0</td>\n",
       "      <td>7.0</td>\n",
       "    </tr>\n",
       "    <tr>\n",
       "      <th>951</th>\n",
       "      <td>320000.00</td>\n",
       "      <td>NaN</td>\n",
       "      <td>1600.0</td>\n",
       "      <td>1600.0</td>\n",
       "    </tr>\n",
       "    <tr>\n",
       "      <th>952</th>\n",
       "      <td>450000.00</td>\n",
       "      <td>NaN</td>\n",
       "      <td>800.0</td>\n",
       "      <td>800.0</td>\n",
       "    </tr>\n",
       "    <tr>\n",
       "      <th>1017</th>\n",
       "      <td>36454.38</td>\n",
       "      <td>NaN</td>\n",
       "      <td>150.0</td>\n",
       "      <td>150.0</td>\n",
       "    </tr>\n",
       "    <tr>\n",
       "      <th>1402</th>\n",
       "      <td>150000.00</td>\n",
       "      <td>NaN</td>\n",
       "      <td>4.0</td>\n",
       "      <td>4.0</td>\n",
       "    </tr>\n",
       "    <tr>\n",
       "      <th>...</th>\n",
       "      <td>...</td>\n",
       "      <td>...</td>\n",
       "      <td>...</td>\n",
       "      <td>...</td>\n",
       "    </tr>\n",
       "    <tr>\n",
       "      <th>119502</th>\n",
       "      <td>235000.00</td>\n",
       "      <td>NaN</td>\n",
       "      <td>227.0</td>\n",
       "      <td>227.0</td>\n",
       "    </tr>\n",
       "    <tr>\n",
       "      <th>119823</th>\n",
       "      <td>23555.14</td>\n",
       "      <td>NaN</td>\n",
       "      <td>400.0</td>\n",
       "      <td>400.0</td>\n",
       "    </tr>\n",
       "    <tr>\n",
       "      <th>119835</th>\n",
       "      <td>360000.00</td>\n",
       "      <td>NaN</td>\n",
       "      <td>126.0</td>\n",
       "      <td>126.0</td>\n",
       "    </tr>\n",
       "    <tr>\n",
       "      <th>120122</th>\n",
       "      <td>198000.00</td>\n",
       "      <td>NaN</td>\n",
       "      <td>110.0</td>\n",
       "      <td>110.0</td>\n",
       "    </tr>\n",
       "    <tr>\n",
       "      <th>121134</th>\n",
       "      <td>250000.00</td>\n",
       "      <td>NaN</td>\n",
       "      <td>124.0</td>\n",
       "      <td>124.0</td>\n",
       "    </tr>\n",
       "  </tbody>\n",
       "</table>\n",
       "<p>613 rows × 4 columns</p>\n",
       "</div>"
      ],
      "text/plain": [
       "        price_aprox_usd  price_usd_per_m2  surface_total_in_m2  \\\n",
       "675           130000.00               NaN                  7.0   \n",
       "951           320000.00               NaN               1600.0   \n",
       "952           450000.00               NaN                800.0   \n",
       "1017           36454.38               NaN                150.0   \n",
       "1402          150000.00               NaN                  4.0   \n",
       "...                 ...               ...                  ...   \n",
       "119502        235000.00               NaN                227.0   \n",
       "119823         23555.14               NaN                400.0   \n",
       "119835        360000.00               NaN                126.0   \n",
       "120122        198000.00               NaN                110.0   \n",
       "121134        250000.00               NaN                124.0   \n",
       "\n",
       "        surface_covered_in_m2  \n",
       "675                       7.0  \n",
       "951                    1600.0  \n",
       "952                     800.0  \n",
       "1017                    150.0  \n",
       "1402                      4.0  \n",
       "...                       ...  \n",
       "119502                  227.0  \n",
       "119823                  400.0  \n",
       "119835                  126.0  \n",
       "120122                  110.0  \n",
       "121134                  124.0  \n",
       "\n",
       "[613 rows x 4 columns]"
      ]
     },
     "execution_count": 64,
     "metadata": {},
     "output_type": "execute_result"
    }
   ],
   "source": [
    "# Se hacen tres mascaras booleanas: mask_surfaces_null = instancias sin datos de superficie / mask_prices_notnull = instancias con algun dato de precio / mask_prices_per_m2_notnull = instancias con algun dato de precio por metro cuadrado\n",
    "condition_surfaces_notnull = data.surface_total_in_m2.notnull() | data.surface_covered_in_m2.notnull()\n",
    "condition_price_notnull = data.price_aprox_usd.notnull()\n",
    "condition_price_per_m2_null = data.price_usd_per_m2.isnull()\n",
    "\n",
    "mask_prices_per_m2_imput = condition_surfaces_notnull & condition_price_notnull & condition_price_per_m2_null\n",
    "data_prices_per_m2_imput = data[mask_prices_per_m2_imput]\n",
    "\n",
    "data_prices_per_m2_imput[[ \"price_aprox_usd\" , \"price_usd_per_m2\" , \"surface_total_in_m2\" , \"surface_covered_in_m2\"]]"
   ]
  },
  {
   "cell_type": "code",
   "execution_count": 65,
   "id": "4bbefc13",
   "metadata": {},
   "outputs": [],
   "source": [
    "#Obtenemos el valor de price_usd_per_m2 haciendo price_aprox_usd sobre surface_total_in_m2\n",
    "data.loc[data_prices_per_m2_imput.index,\"price_usd_per_m2\"] = data.loc[data_prices_per_m2_imput.index, \"price_aprox_usd\"] / data.loc[data_prices_per_m2_imput.index, \"surface_total_in_m2\"]"
   ]
  },
  {
   "cell_type": "markdown",
   "id": "621dcbe3",
   "metadata": {},
   "source": [
    "# Vemos como vamos aca"
   ]
  },
  {
   "cell_type": "markdown",
   "id": "d3ddb37e",
   "metadata": {},
   "source": [
    "## Hasta aca realizamos\n",
    "- Transformacion de todos los ceros a nulos\n",
    "- Limpieza de filas nulas\n",
    "- Eliminacion de columnas sin informacion relevante y con informacion redundante\n",
    "- Eliminacion de state_name que representen menos del 1% del total de instancias\n",
    "- Correccion en las variables surface_covered_in_m2 y surface_total_in_m2 en los casos que la primera era mayor que la segunda no siendo posible esto\n",
    "- Imputacion de nulos en la columna place_name\n",
    "- imputacion de datos de price_aprox_usd, surface_total_in_m2 y rooms mediante expresiones regulares de las columnas description y title\n",
    "- Imputacion de datos en surface_covered_in_m2 y surface_total_in_m2 cuando uno era nulo pero el otro no\n",
    "- Imputacion de las variables surface_total_in_m2, price_aprox_usd y price_usd_per_m2 mediante deduccion de otras variables conocidas"
   ]
  }
 ],
 "metadata": {
  "kernelspec": {
   "display_name": "Python 3 (ipykernel)",
   "language": "python",
   "name": "python3"
  },
  "language_info": {
   "codemirror_mode": {
    "name": "ipython",
    "version": 3
   },
   "file_extension": ".py",
   "mimetype": "text/x-python",
   "name": "python",
   "nbconvert_exporter": "python",
   "pygments_lexer": "ipython3",
   "version": "3.8.13"
  }
 },
 "nbformat": 4,
 "nbformat_minor": 5
}
